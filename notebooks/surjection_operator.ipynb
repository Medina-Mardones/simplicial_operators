{
 "cells": [
  {
   "cell_type": "markdown",
   "metadata": {},
   "source": [
    "# An $E_\\infty$-structure via the diagonal and join maps\n",
    "\n",
    "## Abstract\n",
    "We effectively describe an $E_\\infty$-action on the normalized $\\mathbb F_2$-(co)chains of simplicial sets defined using three maps: the augmentation map, Alexander-Whitney diagonal, and an algebraic version of the join map. This structure is implemented in the `simplicial_operators` package and follows Appendix A of \"A finitely presented $E_\\infty$-prop I: differential graded context\"."
   ]
  },
  {
   "cell_type": "code",
   "execution_count": null,
   "metadata": {},
   "outputs": [],
   "source": [
    "pip install simplicial_operators"
   ]
  },
  {
   "cell_type": "markdown",
   "metadata": {},
   "source": [
    "## Diagonal and join maps\n",
    "\n",
    "Let $X$ be a [simplicial set](https://en.wikipedia.org/wiki/Simplicial_set). We denote its normalized chains and cochains with $\\mathbb F_2$-coefficients by $N_*(X)$ and $N^*(X)$ respectively.\n",
    "\n",
    "Let $\\Delta^n$ be the $n$-th representable simpliccial set whose $m$-simplices are given by all order-preserving functions $\\{0, \\dots, m\\} \\to \\{0, \\dots, n\\}$ which we denote by their images $\\{v_0, \\dots, v_m\\} \\subseteq \\{0, \\dots, n\\}$ with $v_i < v_j$ when $i < j$. Face and degeneracy maps are given by precomposition with the maps\n",
    "\n",
    "\\begin{equation*}\n",
    "\\delta_i(k) = \n",
    "\\begin{cases} k & k < i \\\\ k+1 & i \\leq k \\end{cases}\n",
    "\\quad \\text{ and } \\quad\n",
    "\\sigma_i(k) = \n",
    "\\begin{cases} k & k \\leq i \\\\ k-1 & i < k. \\end{cases}\n",
    "\\end{equation*} \n",
    "\n",
    "Let $n$ be a non-negative integer. The **doubling map** $D : N^*({\\Delta}^n) \\to N^*({\\Delta}^n \\times {\\Delta}^n)$ is defined by $D(c) = c \\otimes c$ and the **diagonal map** $AWD : N^*({\\Delta}^n) \\to N^*({\\Delta}^n \\times {\\Delta}^n)$ is defined to be the composition of the doubling map and the Alexander-Whitney map, explicitly\n",
    "\n",
    "\\begin{equation*}\n",
    "AWD \\{v_0, \\dots, v_m\\} = \\sum_{i = 0}^{m} \\{v_0, \\dots, v_i\\} \\otimes \\{v_i, \\dots, v_m\\}.\n",
    "\\end{equation*}\n",
    "\n",
    "Define the augmentation map $a : N_*(\\Delta) \\to \\mathbb F_2$ by extending linearly the assignment\n",
    "\n",
    "$$\n",
    "a\\{v_0, \\dots, v_n\\} \\begin{cases}1 & n=0 \\\\ 0 & n>0. \\end{cases}\n",
    "$$\n",
    "\n",
    "For any $k \\geq 2$, let $\\ast : N^*({\\Delta}^n)^{\\otimes k} \\to N^*({\\Delta}^n)$ be defined on basis elements by \n",
    "\n",
    "\\begin{equation*}\n",
    "\\ast(a_1 \\otimes \\cdots \\otimes a_k) = \\begin{cases}\n",
    "\\bigcup_{i=1}^k a_i & \\forall\\ i < j,\\ a_i \\cap a_j = \\emptyset \\\\\n",
    "\\,0 & \\exists\\ i < j,\\ a_i \\cap a_j \\neq \\emptyset.\n",
    "\\end{cases}\n",
    "\\end{equation*}\n",
    "\n",
    "Let $s : \\{1, \\dots, n+r \\} \\to \\{1, \\dots, r\\}$ be a surjection. We now describe a natural map $N^*({\\Delta}^n)^{\\otimes r} \\to N^*({\\Delta}^n)$ associated to it.\n",
    "\n",
    "\\begin{equation} \\label{equation: defining lowercase phi}\n",
    "s(\\alpha_1 \\otimes \\cdots \\otimes \\alpha_r)(a) = (\\alpha_1 \\otimes \\cdots \\otimes \\alpha_r) \\big(\\ast_{s^{-1}(1)} \\otimes \\cdots \\otimes \\ast_{s^{-1}(r)} \\big)\\ AWD^{r+d-1} (a)\n",
    "\\end{equation}\n",
    "\n",
    "where $AWD^{k}$ is recursively defined by\n",
    "\n",
    "\\begin{equation*}\n",
    "\\begin{split}\n",
    "&AWD^1 = AWD \\\\ & AWD^{k+1} = (AWD \\otimes \\mathrm{id}^{\\otimes k})\\, AWD^k\n",
    "\\end{split}\n",
    "\\end{equation*} \n",
    "\n",
    "and $\\ast_{s^{-1}(i)}$ is given by applying $\\ast$ to the factors in positions $s^{-1}(i)$. "
   ]
  },
  {
   "cell_type": "markdown",
   "metadata": {},
   "source": [
    "## Surjection operad \n",
    "\n",
    "McClure-Smith [[McCS03]](https://arxiv.org/abs/math/0106024) and Berger-Fresse [[BF04]](https://arxiv.org/abs/math/0109158) showed that the set of surjections can be made into an $E_\\infty$-operad acting on the (co)chains of simplicial sets. \n",
    "\n",
    "In [[MM18]](https://arxiv.org/abs/1808.00854) it was shown that this $E_\\infty$-structure on (co)chains of simplicial sets is induced from an action of a finitely presented $E_\\infty$-prop on standard simplices completely determined by the diagonal, join, and augmentation maps."
   ]
  },
  {
   "cell_type": "markdown",
   "metadata": {},
   "source": [
    "## Implementation\n",
    "\n",
    "The method `surjection_operator` constructs for any surjection modeled by a `tuple` of `int` and `int` the simplicial multioperator realizing the action of the surjection on chains of the given degree."
   ]
  },
  {
   "cell_type": "code",
   "execution_count": null,
   "metadata": {},
   "outputs": [],
   "source": [
    "from simplicial_operators import Operator, surjection_operator"
   ]
  },
  {
   "cell_type": "code",
   "execution_count": null,
   "metadata": {},
   "outputs": [],
   "source": [
    "surj = (1,2,3,2,1)\n",
    "\n",
    "Operator.display(surjection_operator(surj, 3))"
   ]
  },
  {
   "cell_type": "code",
   "execution_count": null,
   "metadata": {},
   "outputs": [],
   "source": [
    "surjs = {(1,2,3,2,1), (1,2,1,3,2)}\n",
    "\n",
    "Operator.display(surjection_operator(surjs, 3))"
   ]
  },
  {
   "cell_type": "code",
   "execution_count": null,
   "metadata": {},
   "outputs": [],
   "source": []
  }
 ],
 "metadata": {
  "kernelspec": {
   "display_name": "Python 3",
   "language": "python",
   "name": "python3"
  },
  "language_info": {
   "codemirror_mode": {
    "name": "ipython",
    "version": 3
   },
   "file_extension": ".py",
   "mimetype": "text/x-python",
   "name": "python",
   "nbconvert_exporter": "python",
   "pygments_lexer": "ipython3",
   "version": "3.7.3"
  }
 },
 "nbformat": 4,
 "nbformat_minor": 2
}
