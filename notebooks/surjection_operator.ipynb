{
 "cells": [
  {
   "cell_type": "markdown",
   "metadata": {},
   "source": [
    "# Operators associated to a surjection\n",
    "\n",
    "## Abstract\n",
    "\n",
    "We describe the function `surjection_operator` assigning to each `tuple` of `int` a linear multioperator compatible with the action of the Surjection operad on simplicial sets. This function is part of the `simplicial_operads` package."
   ]
  },
  {
   "cell_type": "code",
   "execution_count": null,
   "metadata": {},
   "outputs": [],
   "source": [
    "pip install simplicial_operators"
   ]
  },
  {
   "cell_type": "markdown",
   "metadata": {},
   "source": [
    "## Preliminaries\n",
    "\n",
    "Throughout this notebook all algebraic constructions are taken over the field $\\mathbb F_2$ with two elements. \n",
    "\n",
    "We assume familiarity with the following notions discussed in this notebook LINK:\n",
    "\n",
    "1. Simplicial set\n",
    "2. Simplicial operator\n",
    "3. Chain complex \n",
    "4. Tensor product\n",
    "5. Normalized chains $N_*$\n",
    "6. Simplicial multioperator\n",
    "\n",
    "As well as the following notions discussed in this notebook. LINK\n",
    "\n",
    "1. Product of simplicial sets\n",
    "2. Alexander-Whitney map\n",
    "3. Eilenberg-Zilber map\n",
    "4. Shih map"
   ]
  },
  {
   "cell_type": "markdown",
   "metadata": {},
   "source": [
    "## Representable simplicial sets\n",
    "\n",
    "For a non-negative integer $n$ define the **$n$-representable simplicial set** $\\Delta^n$ as follows. Its $m$-simplices are the order preserving functions from $\\{0, \\dots, m\\}$ to $\\{0, \\dots, n\\}$. The $i$-th face map $d_i$ applied to an $m$-simplex is defined to be its composition with the unique injective order preserving function from $\\{0, \\dots, m-1\\}$ to $\\{0, \\dots, m\\}$ missing $i$. The $i$-th degeneracy map $s_i$ applied to an $m$-simplex is defined to be its composition with the unique surjective order preserving map from $\\{0, \\dots, m+1\\}$ to $\\{0, \\dots, m\\}$ sending $i$ and $i+1$ to the same element.\n",
    "\n",
    "Notice that a simplex is not degenerate if and only if it corresponds to an injective function. We represent a non-degenerate $m$-simplex by its image $\\{v_0, \\dots, v_m\\} \\subset \\{0, \\dots, n\\}$."
   ]
  },
  {
   "cell_type": "markdown",
   "metadata": {},
   "source": [
    "## Surjection operators via the diagonal and join maps\n",
    "\n",
    "We know describe how to assign to a surjection $s: \\{1, \\dots, n+r\\} \\to \\{1, \\dots, r\\}$ a simplicial multioperator that agrees with those constructed by McClure-Smith [[MS03]](https://arxiv.org/abs/math/0106024) and Berger-Fresse [[BF04]](https://arxiv.org/abs/math/0109158).\n",
    "\n",
    "Let $n$ be a non-negative integer. The **doubling map** $D : N^*({\\Delta}^n) \\to N^*({\\Delta}^n \\times {\\Delta}^n)$ is defined by $D(c) = c \\otimes c$ and the **diagonal map** $AWD : N^*({\\Delta}^n) \\to N^*({\\Delta}^n \\times {\\Delta}^n)$ is defined to be the composition of the doubling map and the Alexander-Whitney map, explicitly\n",
    "\n",
    "\\begin{equation*}\n",
    "AWD \\{v_0, \\dots, v_m\\} = \\sum_{i = 0}^{m} \\{v_0, \\dots, v_i\\} \\otimes \\{v_i, \\dots, v_m\\}.\n",
    "\\end{equation*}\n",
    "\n",
    "For any $k \\geq 2$, let $\\ast : N^*({\\Delta}^n)^{\\otimes k} \\to N^*({\\Delta}^n)$ be defined on basis elements by \n",
    "\n",
    "\\begin{equation*}\n",
    "\\ast(a_1 \\otimes \\cdots \\otimes a_k) = \\begin{cases}\n",
    "\\bigcup_{i=1}^k a_i & \\forall\\ i < j,\\ a_i \\cap a_j = \\emptyset \\\\\n",
    "\\,0 & \\exists\\ i < j,\\ a_i \\cap a_j \\neq \\emptyset.\n",
    "\\end{cases}\n",
    "\\end{equation*}\n",
    "\n",
    "Let $s : \\{1, \\dots, n+r \\} \\to \\{1, \\dots, r\\}$ be a surjection. We now describe a natural map $N^*({\\Delta}^n)^{\\otimes r} \\to N^*({\\Delta}^n)$ associated to it.\n",
    "\n",
    "\\begin{equation} \\label{equation: defining lowercase phi}\n",
    "s(\\alpha_1 \\otimes \\cdots \\otimes \\alpha_r)(a) = (\\alpha_1 \\otimes \\cdots \\otimes \\alpha_r) \\big(\\ast_{s^{-1}(1)} \\otimes \\cdots \\otimes \\ast_{s^{-1}(r)} \\big)\\ AWD^{r+d-1} (a)\n",
    "\\end{equation}\n",
    "\n",
    "where $AWD^{k}$ is recursively defined by\n",
    "\n",
    "\\begin{equation*}\n",
    "\\begin{split}\n",
    "&AWD^1 = AWD \\\\ & AWD^{k+1} = (AWD \\otimes \\mathrm{id}^{\\otimes k})\\, AWD^k\n",
    "\\end{split}\n",
    "\\end{equation*} \n",
    "\n",
    "and $\\ast_{s^{-1}(i)}$ is given by applying $\\ast$ to the factors in positions $s^{-1}(i)$. \n",
    "\n",
    "Via a category theory technique known as [Kan extension](https://en.wikipedia.org/wiki/Kan_extension) we can naturally define a simplicial multioperator associated to a surjection. We use the `surjection_operator` method to model it."
   ]
  },
  {
   "cell_type": "code",
   "execution_count": null,
   "metadata": {},
   "outputs": [],
   "source": [
    "from simplicial_operators import surjection_operator"
   ]
  },
  {
   "cell_type": "code",
   "execution_count": null,
   "metadata": {},
   "outputs": [],
   "source": []
  },
  {
   "cell_type": "code",
   "execution_count": null,
   "metadata": {},
   "outputs": [],
   "source": []
  },
  {
   "cell_type": "code",
   "execution_count": null,
   "metadata": {},
   "outputs": [],
   "source": []
  },
  {
   "cell_type": "code",
   "execution_count": null,
   "metadata": {},
   "outputs": [],
   "source": []
  },
  {
   "cell_type": "code",
   "execution_count": null,
   "metadata": {},
   "outputs": [],
   "source": []
  },
  {
   "cell_type": "code",
   "execution_count": null,
   "metadata": {},
   "outputs": [],
   "source": []
  },
  {
   "cell_type": "code",
   "execution_count": null,
   "metadata": {},
   "outputs": [],
   "source": []
  },
  {
   "cell_type": "code",
   "execution_count": null,
   "metadata": {},
   "outputs": [],
   "source": []
  },
  {
   "cell_type": "code",
   "execution_count": null,
   "metadata": {},
   "outputs": [],
   "source": []
  },
  {
   "cell_type": "markdown",
   "metadata": {},
   "source": [
    "\n",
    "We review the natural $Sur$-algebra structure on $N^*(X)$ introduced in [[MS03]](https://arxiv.org/abs/math/0106024) and Berger-Fresse [[BF04]](https://arxiv.org/abs/math/0109158) using the perspective presented in [[MM18]](https://arxiv.org/abs/1808.00854). \n"
   ]
  },
  {
   "cell_type": "markdown",
   "metadata": {},
   "source": [
    "Additionally, we assume familiarity with the notions of \n",
    "1. [Group action](https://en.wikipedia.org/wiki/Group_action_(mathematics))\n",
    "2. [Operad](https://en.wikipedia.org/wiki/Operad)\n",
    "\n",
    "Refereces for these are: "
   ]
  },
  {
   "cell_type": "code",
   "execution_count": null,
   "metadata": {},
   "outputs": [],
   "source": []
  }
 ],
 "metadata": {
  "kernelspec": {
   "display_name": "Python 3",
   "language": "python",
   "name": "python3"
  },
  "language_info": {
   "codemirror_mode": {
    "name": "ipython",
    "version": 3
   },
   "file_extension": ".py",
   "mimetype": "text/x-python",
   "name": "python",
   "nbconvert_exporter": "python",
   "pygments_lexer": "ipython3",
   "version": "3.7.3"
  }
 },
 "nbformat": 4,
 "nbformat_minor": 2
}
