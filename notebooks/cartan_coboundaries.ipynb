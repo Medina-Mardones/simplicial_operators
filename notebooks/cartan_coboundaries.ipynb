{
 "cells": [
  {
   "cell_type": "markdown",
   "metadata": {
    "colab_type": "text",
    "id": "pBgyyz1cMSTm"
   },
   "source": [
    "# An effective construction of Cartan coboundaries\n",
    "\n",
    "## Abstract\n",
    "\n",
    "This notebook follows the paper \"[An effective proof of the Cartan formula: the even prime](https://arxiv.org/abs/1907.12113)\" and uses the `simplicial_operators` [package](https://github.com/ammedmar/simplicial_operators) to implement the construction described in it."
   ]
  },
  {
   "cell_type": "code",
   "execution_count": null,
   "metadata": {},
   "outputs": [],
   "source": [
    "pip install simplicial_operators"
   ]
  },
  {
   "cell_type": "markdown",
   "metadata": {},
   "source": [
    "## Introduction\n",
    "\t\n",
    "Let $X$ be a space. In 1947, Steenrod introduced formulae to define his famous **Steenrod squares**\n",
    "\n",
    "\\begin{equation*}\n",
    "Sq^k : H^*(X; \\mathbb F_2) \\to H^*(X; \\mathbb F_2)\n",
    "\\end{equation*}\n",
    "\n",
    "and in 1962, he axiomatically characterized them by the following:\n",
    "1. $Sq^k$ is natural,\n",
    "2. $Sq^0$ is the identity,\n",
    "3. $Sq^k(x) = x^2$ for $x \\in H^{-k}(X; \\mathbb F_2)$,\n",
    "4. $Sq^k(x) = 0$ for $x \\in H^{-n}(X; \\mathbb F_2)$ with $n>k$,\n",
    "5. $Sq^k(xy) = \\sum_{i+j=k} Sq^i (x) Sq^j(y)$.\n",
    "\n",
    "Axiom 5., known as the **Cartan formula**, is the focus of this work. To explain our viewpoint let us revisit some of the history of Steenrod's construction.\n",
    "\n",
    "In the late thirties, Alexander, Whitney, and Cech defined the ring structure on cohomology \n",
    "\n",
    "\\begin{equation} \n",
    "[\\alpha] [\\beta] = [\\alpha \\smallsmile_{0} \\beta]\n",
    "\\end{equation}\n",
    "\n",
    "using a cochain level construction\n",
    "\n",
    "\\begin{equation*}\n",
    "\\smallsmile_0 \\, : N^*(X; \\mathbb Z) \\otimes N^*(X; \\mathbb Z) \\to N^*(X; \\mathbb Z)\n",
    "\\end{equation*}\n",
    "\n",
    "dual to a choice of simplicial chain approximation to the diagonal inclusion. \n",
    "\n",
    "Steenrod then showed that $\\smallsmile_0$ is commutative up to coherent homotopies by effectively constructing **cup-$i$ products**\n",
    "\n",
    "\\begin{equation*}\n",
    "\\smallsmile_i\\, : N^*(X; \\mathbb Z) \\otimes N^*(X; \\mathbb Z) \\to N^*(X; \\mathbb Z)\n",
    "\\end{equation*}\n",
    "\n",
    "enforcing the derived commutativity. Then, with coefficients in $\\mathbb F_2$, he defined\n",
    "\n",
    "\\begin{equation} \n",
    "Sq^k\\big([\\alpha]\\big) = [\\alpha \\smallsmile_{k-n} \\alpha].\n",
    "\\end{equation}\n",
    "\n",
    "This definition of the Steenrod squares makes the Cartan formula equivalent to \n",
    "\\begin{equation} \\label{equation: Cartan 1}\n",
    "0 = \n",
    "\\Big[ (\\alpha \\smallsmile_0 \\beta) \\smallsmile_i (\\alpha \\smallsmile_0 \\beta)\\ + \\sum_{i=j+k} (\\alpha \\smallsmile_j \\alpha) \\smallsmile_0 (\\beta \\smallsmile_k \\beta) \\Big].\n",
    "\\end{equation}\n",
    "\n",
    "The goal of this work is to effectively construct for any $i \\geq 0$ and arbitrary $[\\alpha], [\\beta] \\in H^*(X; \\mathbb F_2)$ a natural cochain $\\zeta_i(\\alpha \\otimes \\beta)$ such that\n",
    "\n",
    "\\begin{equation} \\label{equation: Cartan 2}\n",
    "\\delta \\zeta_i(\\alpha \\otimes \\beta) = \n",
    "(\\alpha \\smallsmile_0 \\beta) \\smallsmile_i (\\alpha \\smallsmile_0 \\beta)\\ + \\sum_{i=j+k} (\\alpha \\smallsmile_j \\alpha) \\smallsmile_0 (\\beta \\smallsmile_k \\beta).\n",
    "\\end{equation}"
   ]
  },
  {
   "cell_type": "markdown",
   "metadata": {},
   "source": [
    "## Implementation\n",
    "\n",
    "We work over the field $\\mathbb F_2$ with two elements. For any simplicial set $X$. The map $\\zeta_i$ is determined by a linear map on chains\n",
    "\n",
    "$$\n",
    "z_i : N_*(X) \\to N_*(X)^{\\otimes 4}\n",
    "$$ \n",
    "with \n",
    "$$\n",
    "\\zeta_i(\\alpha \\otimes \\beta)(c) = (\\alpha \\otimes \\alpha \\otimes \\beta \\otimes \\beta)\\; z_i(c)\n",
    "$$\n",
    "\n",
    "where $\\alpha, \\beta$ are cocycles and $c$ is a degree $n$ chain. Furtheremore, the linear map $z_i$ is represented for any $n$ by a simplicial operator \n",
    "\n",
    "$$\n",
    "z_i(c) = \\sum_k op^k_0(c) \\otimes op^k_1(c) \\otimes op^k_2(c) \\otimes op^k_3(c)\n",
    "$$\n",
    "\n",
    "where \n",
    "\n",
    "$$\n",
    "op^k_i = s_{l_p} \\cdots s_{l_1} d_{r_1} \\cdots d_{r_q}\n",
    "$$\n",
    "\n",
    "for some composition of face and degeneracy maps."
   ]
  },
  {
   "cell_type": "code",
   "execution_count": null,
   "metadata": {},
   "outputs": [],
   "source": [
    "from simplicial_operators import Operator, cartan_operator"
   ]
  },
  {
   "cell_type": "markdown",
   "metadata": {},
   "source": [
    "The `cartan_operator` method takes two `int` inputs $i$ in $n$ and outputs the simplicial operator realizing the map\n",
    "\n",
    "$$\n",
    "z_i : N_n(X) \\to N_*(X)^4_{i+n+1}\n",
    "$$\n",
    "\n",
    "for any simplicial set $X$, represented as a `set` of `tuple` of `Operator`. We refer to this [notebook](https://colab.research.google.com/github/ammedmar/simplicial_operators/blob/master/notebooks/simplicial_operators.ipynb) for an overview of the `Operator` class."
   ]
  },
  {
   "cell_type": "markdown",
   "metadata": {},
   "source": [
    "## Examples\n",
    "\n",
    "Let ${\\Delta}_n$ be the $n$-th representable simplicial set and denote by $\\mathrm{id}_n = \\{0, \\dots, n\\} \\in N_n({\\Delta}^n)$ the top degree basis element. We will compute $z_i(\\mathrm{id}_n)$ for $i < 6$ and $n$ the smallest integer for which $\\zeta_i(\\alpha \\otimes \\beta)(\\mathrm{id}_n)$ is not identically 0 on homogeneus cochains. "
   ]
  },
  {
   "cell_type": "code",
   "execution_count": null,
   "metadata": {},
   "outputs": [],
   "source": [
    "for i in range(6):\n",
    "    for n in range(9):\n",
    "        cartan = cartan_operator(i,n)\n",
    "        if cartan:            \n",
    "            print((f'z_{i}(id_{n}) =\\n'\n",
    "                  + Operator.display_action(cartan, (tuple(range(n+1,)),)*4) \n",
    "                  + '\\n'))\n",
    "            break"
   ]
  }
 ],
 "metadata": {
  "colab": {
   "collapsed_sections": [],
   "name": "Cartan coboundaries.ipynb",
   "provenance": [],
   "version": "0.3.2"
  },
  "kernelspec": {
   "display_name": "Python 3",
   "language": "python",
   "name": "python3"
  },
  "language_info": {
   "codemirror_mode": {
    "name": "ipython",
    "version": 3
   },
   "file_extension": ".py",
   "mimetype": "text/x-python",
   "name": "python",
   "nbconvert_exporter": "python",
   "pygments_lexer": "ipython3",
   "version": "3.7.3"
  }
 },
 "nbformat": 4,
 "nbformat_minor": 1
}
