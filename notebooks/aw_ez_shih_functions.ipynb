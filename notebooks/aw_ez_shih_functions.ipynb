{
 "cells": [
  {
   "cell_type": "markdown",
   "metadata": {},
   "source": [
    "# The Alexander-Whitney, Eilenberg-Zilber, and Shih maps\n",
    "\n",
    "## Abstract\n",
    "\n",
    "We describe functions modeling the Alexander-Whitney map, the Eilenberg-Zilber map, and a chain homotopy from their non-trivial composition to the identity. These are part of the `simplicial_operators` package."
   ]
  },
  {
   "cell_type": "code",
   "execution_count": null,
   "metadata": {},
   "outputs": [],
   "source": [
    "pip install simplicial_operators"
   ]
  },
  {
   "cell_type": "code",
   "execution_count": null,
   "metadata": {},
   "outputs": [],
   "source": [
    "from simplicial_operators import Operator"
   ]
  },
  {
   "cell_type": "code",
   "execution_count": null,
   "metadata": {},
   "outputs": [],
   "source": [
    "# to be absorved\n",
    "\n",
    "from simplicial_operators import Operator\n",
    "\n",
    "# Absorb display into the package\n",
    "def display(multiop):\n",
    "    '''tool to aid visualization of linear multioperators'''\n",
    "    if isinstance(multiop, Operator):\n",
    "        return str(multiop)\n",
    "    if isinstance(multiop, tuple):\n",
    "        return tuple(display(op) for op in multiop)\n",
    "    if isinstance(multiop, set):\n",
    "        return set(display(mop) for mop in multiop)\n",
    "    else:\n",
    "        raise TypeError('expected either: Operator, tuple of Operators, or set of these tuples')\n",
    "        \n",
    "# Absorb into the package\n",
    "def is_degenerate(multiop):\n",
    "    '''determines if a multioperator is degenerate'''\n",
    "    if isinstance(multiop, Operator):\n",
    "        return multiop.is_degeenrate\n",
    "    if isinstance(multiop, tuple):\n",
    "        deg = set(multiop[0].deg_maps)\n",
    "        for op in multiop:\n",
    "            deg = deg.intersection(set(op.deg_maps))\n",
    "        return bool(deg)\n",
    "    else:\n",
    "        raise TypeError('expected either Operator or tuple of Operators')\n",
    "        \n",
    "def is_nondegenerate(multiop):\n",
    "    return not is_degenerate(multiop)"
   ]
  },
  {
   "cell_type": "markdown",
   "metadata": {},
   "source": [
    "## Preliminaries\n",
    "\n",
    "Throughout this notebook all algebraic constructions are taken over the field $\\mathbb F_2$ with two elements. \n",
    "\n",
    "We assume familiarity with the following notions discussed in this notebook LINK:\n",
    "\n",
    "1. Simplicial set\n",
    "2. Simplicial operator\n",
    "3. Chain complex \n",
    "4. Tensor product\n",
    "5. Normalized chains $N_*$\n",
    "6. Linear simplicial multioperator\n",
    "\n"
   ]
  },
  {
   "cell_type": "markdown",
   "metadata": {},
   "source": [
    "## Products and AW and EZ maps\n",
    "\n",
    "The product of two simplicial sets $X$ and $Y$ is defined by\n",
    "\\begin{equation}\n",
    "(X \\times Y)_n = X_n \\times Y_n,\n",
    "\\end{equation}\n",
    "\n",
    "\\begin{equation}\n",
    "d_i(x \\times y) = d_i x \\times d_i y,\n",
    "\\end{equation}\n",
    "\n",
    "\\begin{equation}\n",
    "s_i(x \\times y) = s_i x \\times s_i y.\n",
    "\\end{equation}\n",
    "\n",
    "In general\n",
    "$$\n",
    "N_*(X \\times Y) \\neq N_*(X) \\otimes N_*(Y)\n",
    "$$\n",
    "\n",
    "but the Alexander-Whitney and Eilenberg-Zilber maps form a chain homotopy equivalence $N_*(X \\times Y) \\sim N_*(X) \\otimes N_*(Y)$. I.e., there exist chain homotopies between $AWEZ$, $EZAW$ and the respective identities. It turns out that $AWEZ$ is equal to the identity and that a canonical chain homotopy, known as the Shih map, can be given for the other composition. \n",
    "\n",
    "Below we describe these three maps and their models in the `simplicial_operators` package."
   ]
  },
  {
   "cell_type": "markdown",
   "metadata": {
    "colab_type": "text",
    "id": "JpYN7znh6Mw8"
   },
   "source": [
    "### The **Alexander-Whitney map**\n",
    "\\begin{equation*}\n",
    "    AW: N_*(X \\times Y) \\to N_*(X) \\otimes N_*(Y)\n",
    "\\end{equation*}\n",
    "is defined for $x \\times y \\in N_*(X \\times Y)_n$ by\n",
    "\\begin{equation*}\n",
    "    AW(x \\times y) = \\sum_{i=0}^n d_{i+1} \\cdots d_n\\, x \\otimes d_0 \\cdots d_{i-1}\\, y.\n",
    "\\end{equation*}\n",
    "\n",
    "\n"
   ]
  },
  {
   "cell_type": "code",
   "execution_count": null,
   "metadata": {
    "colab": {},
    "colab_type": "code",
    "id": "20CHohBh6Mw-"
   },
   "outputs": [],
   "source": [
    "from simplicial_operators import alexander_whitney as aw"
   ]
  },
  {
   "cell_type": "markdown",
   "metadata": {
    "colab_type": "text",
    "id": "lTaMsYsQNa_8"
   },
   "source": [
    "#### Example\n",
    "For the map\n",
    "\\begin{equation*}\n",
    "AW : N_*(\\Delta^1 \\times \\Delta^2) \\to N_*(\\Delta^1) \\otimes N_*(\\Delta^2)\n",
    "\\end{equation*}\n",
    "we verify that\n",
    "\\begin{equation*}\n",
    "AW([0,0,0,1] \\times [0,1,2,2]) = \n",
    "[0] \\otimes [0,1,2,2] + [0,0] \\otimes [1,2,2] + \n",
    "[0,0,0] \\otimes [2,2] +[0,0,0,1] \\otimes [2].\n",
    "\\end{equation*}"
   ]
  },
  {
   "cell_type": "code",
   "execution_count": null,
   "metadata": {
    "colab": {},
    "colab_type": "code",
    "id": "JX-oo8NJ6MxG",
    "outputId": "30f8a437-2a6a-4a29-f4e0-87821e1b764e"
   },
   "outputs": [],
   "source": [
    "{(biop[0]([0,0,0,1]), biop[1]([0,1,2,2])) for biop in aw(3).values()}"
   ]
  },
  {
   "cell_type": "markdown",
   "metadata": {
    "colab_type": "text",
    "id": "ZlIZlZ7Y6MxO"
   },
   "source": [
    "### The **Eilenberg-Zilber map**\n",
    "\n",
    "\\begin{equation*}\n",
    "    EZ: N_*(X) \\otimes N_*(Y) \\to N_*(X \\times Y)\n",
    "\\end{equation*}\n",
    "is defined for $x \\otimes y \\in N_p(X) \\otimes N_q(Y)$ by\n",
    "\\begin{equation*}\n",
    "    EZ(x \\otimes y) = \n",
    "    \\sum s_{v_p} \\cdots s_{v_1}\\, x \\times s_{w_q} \\cdots s_{w_1}\\, y\n",
    "\\end{equation*}\n",
    "where the sum is over all ordered partitions \n",
    "\\begin{equation*}\n",
    "\\big( \\{v_1 < \\cdots < v_p\\},\\ \\{w_1 < \\cdots < w_q\\} \\big)\n",
    "\\end{equation*}\t\n",
    "of $\\{0,\\dots,p+q-1\\}$. An **ordered partition** of a set $S$ is a tuple of disjoint subsets of $S$ whose union is $S$."
   ]
  },
  {
   "cell_type": "code",
   "execution_count": null,
   "metadata": {
    "colab": {},
    "colab_type": "code",
    "id": "8hoOltxy6MxP"
   },
   "outputs": [],
   "source": [
    "from simplicial_operators import eilenberg_zilber as ez"
   ]
  },
  {
   "cell_type": "markdown",
   "metadata": {
    "colab_type": "text",
    "id": "-JKdeTwE4f1C"
   },
   "source": [
    "#### Example\n",
    "For the map\n",
    "\\begin{equation*}\n",
    "EZ : N_*(\\Delta^1) \\otimes N_*(\\Delta^2) \\to N_*(\\Delta^1 \\times \\Delta^2)\n",
    "\\end{equation*}\n",
    "\n",
    "we verify that\n",
    "\n",
    "\\begin{equation*}\n",
    "EZ([0,1] \\otimes [0,1,2]) = [0,0,0,1] \\times [0,1,2,2] + [0,0,1,1] \\times [0,1,1,2] + [0,1,1,1] \\times [0,0,1,2].\n",
    "\\end{equation*}"
   ]
  },
  {
   "cell_type": "code",
   "execution_count": null,
   "metadata": {
    "colab": {},
    "colab_type": "code",
    "id": "0osev5Sf6MxX",
    "outputId": "8ef1e2c6-a7cf-44ba-a461-510cf4e28bcb"
   },
   "outputs": [],
   "source": [
    "{(biop[0]([0,1]), biop[1]([0,1,2])) for biop in ez(1,2)}"
   ]
  },
  {
   "cell_type": "markdown",
   "metadata": {
    "colab_type": "text",
    "id": "iNhf8c3yC_QA"
   },
   "source": [
    "#### Example\n",
    "\n",
    "The map\n",
    "\\begin{equation*}\n",
    "EZAW : C_\\bullet(\\Delta^2 \\times \\Delta^2) \\to C_\\bullet(\\Delta^2 \\times \\Delta^2)\n",
    "\\end{equation*}\n",
    "\n",
    "is not equal to the identity. We verify that\n",
    "\n",
    "\\begin{equation*}\n",
    "EZAW([0,1,2] \\otimes [0,1,2]) =  [0, 0, 0] \\otimes [0, 1, 2] + [0, 0, 1] \\otimes [1, 2, 2] + [0, 1, 1] \\otimes [1, 1, 2] + [0, 1, 2] \\otimes  [2, 2, 2].\n",
    "\\end{equation*}"
   ]
  },
  {
   "cell_type": "code",
   "execution_count": null,
   "metadata": {},
   "outputs": [],
   "source": [
    "def ezaw(n):\n",
    "    e_z, a_w = ez(n), aw(n)\n",
    "    answer = set()\n",
    "    for i in range(n+1):\n",
    "        answer ^= {(biop[0].compose(a_w[(-i,-n+i)][0]),\n",
    "                    biop[1].compose(a_w[(-i,-n+i)][1]))\n",
    "                    for biop in e_z[(i,n-i)]}\n",
    "        \n",
    "    return answer\n",
    "\n",
    "{(biop[0]([0,1,2]), biop[1]([0,1,2])) for biop in ezaw(2)}"
   ]
  },
  {
   "cell_type": "markdown",
   "metadata": {
    "colab_type": "text",
    "id": "0QVfIYSs6Mxd"
   },
   "source": [
    "### The Shih homotopy $SHI: EZAW \\Rightarrow id$\n",
    "\n",
    "The composition $EZAW$ is chain homotopic to the identity via the map\n",
    "\n",
    "\\begin{equation*}\n",
    "SHI_n : N_n(X \\times Y) \\to N_{n+1}(X \\times Y)\n",
    "\\end{equation*}\n",
    "recursively defined by \n",
    "\\begin{equation*}\n",
    "SHI_n = \n",
    "\\begin{cases} \n",
    "0 & n = 0 \\\\\n",
    "SHI'_{n-1} + EZAW ' (s_0 \\otimes s_0) & n > 0\n",
    "\\end{cases}\n",
    "\\end{equation*}\n",
    "where \n",
    "\\begin{equation*}\n",
    "\\big( s_{v_{l}} \\cdots s_{v_1} d_{i_1} \\cdots d_{i_p} \\big) ' = s_{v_{l}+1} \\cdots s_{v_1+1} d_{i_1+1} \\cdots d_{i_p+1}.\n",
    "\\end{equation*}"
   ]
  },
  {
   "cell_type": "code",
   "execution_count": null,
   "metadata": {
    "colab": {},
    "colab_type": "code",
    "id": "Ua0YkBkn6Mxe"
   },
   "outputs": [],
   "source": [
    "from simplicial_operators import shih"
   ]
  },
  {
   "cell_type": "markdown",
   "metadata": {
    "colab_type": "text",
    "id": "yDGPBbKONMPZ"
   },
   "source": [
    "#### Example\n",
    "\n",
    "For the map\n",
    "\\begin{equation*}\n",
    "SHI : C_\\bullet(\\Delta^2 \\times \\Delta^2) \\to C_\\bullet(\\Delta^2 \\times \\Delta^2)\n",
    "\\end{equation*}\n",
    "\n",
    "we verify that\n",
    "\n",
    "\\begin{equation*}\n",
    "SHI([0,1] \\times [0,1]) = [0, 0, 1] \\times [0, 1, 1]\n",
    "\\end{equation*}\n",
    "and\n",
    "\n",
    "\\begin{equation*}\n",
    "SHI([0,1,2] \\times [0,1,2]) = \n",
    "[0, 0, 0, 1] \\times [0, 1, 2, 2] + \n",
    "[0, 0, 1, 1] \\times [0, 1, 1, 2] + \n",
    "[0, 0, 1, 2] \\times [0, 2, 2, 2] +\n",
    "[0, 1, 1, 2] \\times [0, 1, 2, 2]  \n",
    "\\end{equation*}"
   ]
  },
  {
   "cell_type": "code",
   "execution_count": null,
   "metadata": {
    "colab": {
     "base_uri": "https://localhost:8080/",
     "height": 125
    },
    "colab_type": "code",
    "id": "qe0_axqmIfl7",
    "outputId": "b27a12a5-d157-4f4c-b502-84141bd01da0"
   },
   "outputs": [],
   "source": [
    "answer1 = set()\n",
    "for biop in shih(1):\n",
    "    if is_nondegenerate(biop):\n",
    "        answer1 ^= {(biop[0]([0,1]), biop[1]([0,1]))}\n",
    "\n",
    "print(answer1,'\\n\\nand\\n')\n",
    "\n",
    "answer2 = set()\n",
    "for biop in shih(2):\n",
    "    if is_nondegenerate(biop):\n",
    "        answer2 ^= {(biop[0]([0,1,2]), biop[1]([0,1,2]))}\n",
    "\n",
    "print(answer2)"
   ]
  },
  {
   "cell_type": "markdown",
   "metadata": {
    "colab_type": "text",
    "id": "G9cYyWtyO8h_"
   },
   "source": [
    "### Verifying $AWEZ = id$ and $EZAW \\sim id$ \n",
    "\n",
    "We define functions that verify that the composition\n",
    "\n",
    "\\begin{equation}\n",
    "N_*(X) \\otimes N_*(Y) \n",
    "\\stackrel{EZ}{\\longrightarrow} N_{*}(X \\times Y)\n",
    "\\stackrel{AW}{\\longrightarrow} N_*(X) \\otimes N_*(Y)\n",
    "\\end{equation}\n",
    "\n",
    "is the identity and that $SHI$ is a chain homotopy between the identity and the composition\n",
    "\n",
    "\\begin{equation}\n",
    "N_*(X \\times Y) \n",
    "\\stackrel{AW}{\\longrightarrow} N_*(X) \\otimes N_*(Y)\n",
    "\\stackrel{EZ}{\\longrightarrow} N_{*}(X \\times Y).\n",
    "\\end{equation}\n",
    "\n",
    "I.e.\n",
    "\\begin{equation}\n",
    "\\partial \\, SHI + SHI \\, \\partial = id + EZAW.\n",
    "\\end{equation}"
   ]
  },
  {
   "cell_type": "code",
   "execution_count": null,
   "metadata": {
    "colab": {},
    "colab_type": "code",
    "id": "GjUS80nY6Mxz"
   },
   "outputs": [],
   "source": [
    "from collections import Counter\n",
    "from itertools import product\n",
    "\n",
    "def is_awez_equal_to_id(p,q):\n",
    "    '''returns True if the composition AWEZ restricted to bidegree \n",
    "    (p,q) is the identity and False otherwise'''\n",
    "    \n",
    "    comps = {biop1.compose(biop2) for biop1, biop2 in \n",
    "                                      product(aw(p+q).values(), ez(p,q))}\n",
    "    \n",
    "    non_deg_comps = {biop for biop in comps if  not biop.op1.is_degenerate \n",
    "                                            and not biop.op2.is_degenerate}\n",
    "    \n",
    "    if [non_deg_comps].sort() is [Bioperator()].sort():\n",
    "        return True\n",
    "    else:\n",
    "        return False\n",
    "\n",
    "def boundary(n):\n",
    "    '''returns the bilinear operators defining the boundary in N_n(X x Y)'''\n",
    "    \n",
    "    return {Bioperator(face_maps1 = [i], \n",
    "                       face_maps2 = [i]) for i in range(n+1)}\n",
    "\n",
    "def is_ezaw_homotopic_to_id(n):\n",
    "    '''returns True if in degree n the composition EZAW is chain homotopic to the \n",
    "    identity via SHI and False if not'''\n",
    "    \n",
    "    # \\partial \\circ SHI\n",
    "    a = [biop1.compose(biop2) for biop1, biop2 in product(boundary(n+1), shih(n))]\n",
    "    # SHI \\circ \\partial\n",
    "    b = [biop1.compose(biop2) for biop1, biop2 in product(shih(n-1), boundary(n))]\n",
    "    # EZAW\n",
    "    c = list(ezaw(n))\n",
    "    # id\n",
    "    d = [Bioperator()]\n",
    "    \n",
    "    answer = Counter([str(biop) for biop in (a+b+c+d) if not biop.is_degenerate])\n",
    "    \n",
    "    # cheking all coefficients are 0 mod 2\n",
    "    if {0} == {i%2 for i in answer.values()}:\n",
    "        return True \n",
    "    else: \n",
    "        return False"
   ]
  },
  {
   "cell_type": "code",
   "execution_count": null,
   "metadata": {
    "colab": {},
    "colab_type": "code",
    "id": "nT3S2Hxj6Mx3",
    "outputId": "7440869c-c026-45b0-df05-180672c01f5d"
   },
   "outputs": [],
   "source": [
    "p, q, n = 3,5,7 \n",
    "\n",
    "print(f'is AWEZ equal to the identity in bidegree {p,q}?')\n",
    "\n",
    "if is_awez_equal_to_id(p,q):\n",
    "    print('Yes!')\n",
    "    \n",
    "else:\n",
    "    print('No!')\n",
    "    \n",
    "print(f'is AWEZ chain homotopic to the identity in degree {n}?')\n",
    "\n",
    "if is_ezaw_homotopic_to_id(n):\n",
    "    print('Yes!')\n",
    "    \n",
    "else:\n",
    "    print('No!')"
   ]
  },
  {
   "cell_type": "markdown",
   "metadata": {
    "colab_type": "text",
    "id": "fcLSj_IMZc6K"
   },
   "source": [
    "## TO-DO\n",
    "\n",
    "Add the Frobenius Structure as described [here](https://ncatlab.org/nlab/show/Frobenius+monoidal+functor)\n",
    "\n",
    "Write better verifications of $AWEZ = id$ and $EZAW \\sim id$"
   ]
  }
 ],
 "metadata": {
  "colab": {
   "collapsed_sections": [],
   "name": "Products and the functor of chains; the EZ-AW bilax structure.ipynb",
   "provenance": [],
   "version": "0.3.2"
  },
  "kernelspec": {
   "display_name": "Python 3",
   "language": "python",
   "name": "python3"
  },
  "language_info": {
   "codemirror_mode": {
    "name": "ipython",
    "version": 3
   },
   "file_extension": ".py",
   "mimetype": "text/x-python",
   "name": "python",
   "nbconvert_exporter": "python",
   "pygments_lexer": "ipython3",
   "version": "3.7.3"
  }
 },
 "nbformat": 4,
 "nbformat_minor": 1
}
