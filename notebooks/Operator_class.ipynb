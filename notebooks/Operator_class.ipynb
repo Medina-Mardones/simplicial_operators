{
 "cells": [
  {
   "cell_type": "markdown",
   "metadata": {
    "colab_type": "text",
    "id": "xn96JUgV-Yc5"
   },
   "source": [
    "# Operator class\n",
    "\n",
    "## Abstract\n",
    "\n",
    "We present a Python implementation of a class whose instances model simplicial operators. This class supports composition of operators and their action on computable simplices.\n",
    "\n",
    "## Simplicial sets and  the Operator class \n",
    "\n",
    "A **[simplicial set](https://en.wikipedia.org/wiki/Simplicial_set)** $X$ is a collection of sets $\\{X_n\\}_{n \\geq 0}$ together with **degeneracy maps** and **face maps**\n",
    "\\begin{equation*}\n",
    "s_i : X_n \\to X_{n+1} \\qquad d_i : X_n \\to X_{n-1}\n",
    "\\end{equation*}\n",
    "for $i = 0, \\dots, n$ satisfying the **simplicial identities**:\n",
    "\n",
    "\\begin{align*}\n",
    "d_i d_j &= d_{j-1} d_i  &\\text{ if } i &< j.  \\\\\n",
    "d_i s_j &= s_{j-1}d_i    &\\text{ if } i &< j. \\\\\n",
    "d_i s_j &= \\text{id}  &\\text{ if } i &= j \\text{ or } i = j. \\\\\n",
    "d_i s_j &= s_j d_{i-1}   &\\text{ if } i &> j. \\\\\n",
    "s_i s_j &= s_{j+1} s_i   &\\text{ if } i &≤ j.\n",
    "\\end{align*}\n",
    "\n",
    "We call an element $\\sigma \\in X_n$ a **simplex of dimension $n$** or simply an **$n$-simplex**. We say that $\\sigma$ is a **face** of a simplex $\\tau$ if it is the image of $\\tau$ via a composition of face maps. We say that $\\sigma$ is **degenerate** if it is the image via a degeneracy map of any simplex. \n",
    "\n",
    "A simplicial set is said to be **computable** if for any tuple of $0$-simplices there exists at most one simplex having it as its ordered collection of $0$-dimensional faces. Examples include: ordered simplicial complexes, directed simplicial complexes, and the nerve of categories.\n",
    "\n",
    "The group of **simplicial operators** is the [group generated](https://en.wikipedia.org/wiki/Presentation_of_a_group) by all symbols $s_i$ and $d_j$ modulo the simplicial identities. We refer to the product in this group as **composition**.\n",
    "\n",
    "The **canonical representative** of a simplicial operators has the form\n",
    "\n",
    "\\begin{equation*}\n",
    "s_{u_1} \\cdots s_{u_p} d_{v_1} \\cdots d_{v_q}\n",
    "\\end{equation*}\n",
    "\n",
    "with $u_1 > \\cdots > u_p$ and $v_1 < \\cdots < v_q$.\n",
    "\n",
    "If $[v_0, \\dots, v_n]$ represents an $n$-simplex in a computable simplicial set. The action of any simplicial operator on it is defined by\n",
    "\n",
    "\\begin{equation}\n",
    "d_i [v_0, \\dots, v_n] = [v_0, \\dots, \\widehat{v}_i, \\dots, v_n]\n",
    "\\end{equation}\n",
    "\n",
    "\\begin{equation}\n",
    "s_i [v_0, \\dots, v_n] = [v_0, \\dots, v_i, v_i, \\dots, v_n].\n",
    "\\end{equation}\n"
   ]
  },
  {
   "cell_type": "code",
   "execution_count": 4,
   "metadata": {
    "scrolled": true
   },
   "outputs": [
    {
     "name": "stdout",
     "output_type": "stream",
     "text": [
      "Collecting simplicial_operators\n",
      "  Downloading https://files.pythonhosted.org/packages/35/5b/b3c10935eba6cc5ed236449d99ff17162edc92081638fc97713cf95e7403/simplicial_operators-0.2-py3-none-any.whl\n",
      "Installing collected packages: simplicial-operators\n",
      "Successfully installed simplicial-operators-0.2\n",
      "Note: you may need to restart the kernel to use updated packages.\n"
     ]
    }
   ],
   "source": [
    "pip install simplicial_operators"
   ]
  },
  {
   "cell_type": "code",
   "execution_count": 6,
   "metadata": {
    "colab": {},
    "colab_type": "code",
    "id": "3PEkEMInB-Oh"
   },
   "outputs": [],
   "source": [
    "from simplicial_operators import Operator"
   ]
  },
  {
   "cell_type": "markdown",
   "metadata": {},
   "source": [
    "### Example\n",
    "\n",
    "We will model the operator \n",
    "$$op = s_0s_1d_1d_0$$ \n",
    "whose action on the simplex $[0,1,2,3]$ produces $[1, 1, 3, 3]$.\n",
    "\n",
    "Its canonical representative is \n",
    "$$s_2s_0d_0d_2$$\n",
    "and we have $op\\ op = op$."
   ]
  },
  {
   "cell_type": "code",
   "execution_count": 8,
   "metadata": {},
   "outputs": [
    {
     "name": "stdout",
     "output_type": "stream",
     "text": [
      "The canonical representative s_2s_0d_0d_2 of s_0s_1d_1d_0 is stored.\n",
      "\n",
      "Its action on [0,1,2,3] is (1, 1, 3, 3)\n",
      "\n",
      "We verify this operator is idempotent by composing it with itself. We obtaining s_2s_0d_0d_2.\n"
     ]
    }
   ],
   "source": [
    "op = Operator([0,1],[1,0])\n",
    "\n",
    "print(f'The canonical representative {op} of s_0s_1d_1d_0 is stored.\\n')\n",
    "\n",
    "print(f'Its action on [0,1,2,3] is {op(range(4))}\\n')\n",
    "\n",
    "print(f'We verify this operator is idempotent by composing it with itself. We obtaining {op.compose(op)}.')"
   ]
  },
  {
   "cell_type": "markdown",
   "metadata": {},
   "source": [
    "## Chains, tensor products and simplicial bioperators\n",
    "\n",
    "Let us consider the **normalized chains with $\\mathbb F_2$-coefficients** on a simplicial set \n",
    "\n",
    "\\begin{equation}\n",
    "N_n(X) = \\frac{\\mathbb F_2 \\{ X_n \\}}{\\mathbb F_2 \\{ s(X_{n-1}) \\}} \\ \\qquad\n",
    "\\partial_n = \\sum_{i=0}^{n} d_{i}\n",
    "\\end{equation}\n",
    "where $s(X_{n-1}) = \\bigcup_{i=0}^{n-1} s_i(X_{n-1})$. "
   ]
  },
  {
   "cell_type": "markdown",
   "metadata": {},
   "source": [
    "The **tensor product** of two chain complexes is $C$ and $C'$ is defined by\n",
    "\n",
    "$$\n",
    "(C \\otimes C')_n = \\bigoplus_{i+j=n} C_i \\otimes C'_j\\ \\qquad\n",
    "\\partial = \\partial \\otimes \\mathrm{id} + \\mathrm{id} \\otimes \\partial\n",
    "$$\n",
    "\n",
    "We model a **linear simplicial multioperator** \n",
    "$$\n",
    "\\sum_i op_1^{i} \\otimes \\cdots \\otimes op_n^{i}\n",
    "$$\n",
    "by a `set` of `tuples` of operators. \n",
    "\n",
    "We introduce a tool to simplify the representation of linear multioperators"
   ]
  },
  {
   "cell_type": "code",
   "execution_count": 35,
   "metadata": {},
   "outputs": [],
   "source": [
    "def display(multiop):\n",
    "    '''tool to aid visualization of linear multioperators'''\n",
    "    if isinstance(multiop, Operator):\n",
    "        return str(multiop)\n",
    "    if isinstance(multiop, tuple):\n",
    "        return tuple(display(op) for op in multiop)\n",
    "    if isinstance(multiop, set):\n",
    "        return set(display(mop) for mop in multiop)\n",
    "    else:\n",
    "        raise TypeError('expected either: Operator, tuple of Operators, or set of these tuples')"
   ]
  },
  {
   "cell_type": "markdown",
   "metadata": {},
   "source": [
    "### Example\n",
    "\n",
    "We will model  \n",
    "$$\n",
    "s_0s_1d_1d_0 \\otimes s_1 d_0 d_1\\ +\\ s_1d_2d_0 \\otimes s_2 d_1.\n",
    "$$\n",
    "\n",
    "Its canonical representative is \n",
    "$$\n",
    "s_1d_0d_3 \\otimes s_2d_1 \\ +\\ s_2s_0d_0d_2 \\otimes s_1d_0d_1.\n",
    "$$\n",
    "\n",
    "Its action on $[0,1,2,3] \\otimes [0,1,2,3,4]$ yields\n",
    "$$\n",
    "[1, 2, 2] \\otimes [0, 2, 3, 3, 4] \\ +\\ [1, 1, 3, 3] \\otimes [2, 3, 3, 4].\n",
    "$$\n",
    "\n",
    "Its composition with itself is equal to\n",
    "\n",
    "$$\n",
    "s_1s_0d_0d_1d_3d_4 \\otimes s_2s_1d_1d_2 \\ +\\ \n",
    "s_2s_0d_0d_1d_3 \\otimes s_1s_0d_0d_1d_2 \\ +\\\n",
    "s_2s_0d_0d_2 \\otimes s_1d_0d_1d_2 \\ +\\ \n",
    "s_1d_0d_2 \\otimes s_2d_0d_1\n",
    "$$\n"
   ]
  },
  {
   "cell_type": "code",
   "execution_count": 36,
   "metadata": {},
   "outputs": [
    {
     "name": "stdout",
     "output_type": "stream",
     "text": [
      "The canonical representative {('s_1d_0d_3', 's_2d_1'), ('s_2s_0d_0d_2', 's_1d_0d_1')} is stored.\n",
      "\n",
      "Its action on [0,1,2,3] x [0,1,2,3,4] is {((1, 2, 2), (0, 2, 3, 3, 4)), ((1, 1, 3, 3), (2, 3, 3, 4))} \n",
      "\n",
      "The composition with itself is: \n",
      "{('s_1s_0d_0d_1d_3d_4', 's_2s_1d_1d_2'), ('s_2s_0d_0d_1d_3', 's_1s_0d_0d_1d_2'), ('s_2s_0d_0d_2', 's_1d_0d_1d_2'), ('s_1d_0d_2', 's_2d_0d_1')}.\n"
     ]
    }
   ],
   "source": [
    "biops = {(Operator([0,1],[1,0]), Operator([1],[0,1])), (Operator([1],[2,0]), Operator([2],[1]))}\n",
    "\n",
    "print(f'The canonical representative {display(biops)} is stored.\\n')\n",
    "\n",
    "action = set()\n",
    "for biop in biops:\n",
    "    action ^= {(biop[0](range(4)), biop[1](range(5)))}\n",
    "\n",
    "print(f'Its action on [0,1,2,3] x [0,1,2,3,4] is {action} \\n')\n",
    "\n",
    "composition = set()\n",
    "for left in biops:\n",
    "    for right in biops:\n",
    "        #print(display(left), display(right))\n",
    "        composition ^= {( left[0].compose(right[0]), left[1].compose(right[1]) )}\n",
    "    \n",
    "print(f'The composition with itself is: \\n{display(composition)}.')"
   ]
  }
 ],
 "metadata": {
  "colab": {
   "collapsed_sections": [],
   "name": "SimplicialOperator Class.ipynb",
   "provenance": [],
   "version": "0.3.2"
  },
  "kernelspec": {
   "display_name": "Python 3",
   "language": "python",
   "name": "python3"
  },
  "language_info": {
   "codemirror_mode": {
    "name": "ipython",
    "version": 3
   },
   "file_extension": ".py",
   "mimetype": "text/x-python",
   "name": "python",
   "nbconvert_exporter": "python",
   "pygments_lexer": "ipython3",
   "version": "3.7.3"
  }
 },
 "nbformat": 4,
 "nbformat_minor": 1
}
