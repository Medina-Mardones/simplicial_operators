{
 "cells": [
  {
   "cell_type": "markdown",
   "metadata": {
    "colab_type": "text",
    "id": "_2LGvggqhPrH"
   },
   "source": [
    "# Products and the functor of chains: the EZ-AW bilax structure\n",
    "\n",
    "### Abstract\n",
    "\n",
    "We construct methods modeling the Alexander-Whitney map AW, the Eilenberg-Zilber map EZ, and chain homotopy from EZAW to the identity. This constructions use the SimplicialBioperator class.\n",
    "\n",
    "## Simplicial sets and simplicial operators\n",
    "\n",
    "A **[simplicial set](https://en.wikipedia.org/wiki/Simplicial_set)** $X$ is a collection of set $\\{X_n\\}_{n \\geq 0}$ together with **degeneracy maps** and **face maps**\n",
    "\\begin{equation*}\n",
    "s_i : X_n \\to X_{n+1} \\qquad d_i : X_n \\to X_{n-1}\n",
    "\\end{equation*}\n",
    "for $i = 0, \\dots, n$ satisfying the **simplicial identities**:\n",
    "\n",
    "\\begin{align*}\n",
    "d_i d_j &= d_{j-1} d_i  &\\text{ if } i &< j.  \\\\\n",
    "d_i s_j &= s_{j-1}d_i    &\\text{ if } i &< j. \\\\\n",
    "d_i s_j &= \\text{id}  &\\text{ if } i &= j \\text{ or } i = j. \\\\\n",
    "d_i s_j &= s_j d_{i-1}   &\\text{ if } i &> j. \\\\\n",
    "s_i s_j &= s_{j+1} s_i   &\\text{ if } i &≤ j.\n",
    "\\end{align*}\n",
    "\n",
    "We call an element $\\sigma \\in X_n$ a **simplex of dimension $n$** or **$n$-simplex**. We say that $\\sigma$ is a **face** of a simplex $\\tau$ if it is the image of $\\tau$ via a composition of face maps. We say that $\\sigma$ is **degenerate** if it is the image via a degeneracy map of any simplex. \n",
    "\n",
    "A **simplicial map** $F : X \\to Y$ is a collection of functions $F_n : X_n \\to Y_n$ commuting with degeneracy and face maps. \n",
    "\n",
    "The set of **simplicial operators** contains the equivalence classes of formal concatenations of symbols $s_i$ and $d_j$ modulo the simplicial identities. A simplicial operator can be uniquely written in the **canonical form**:\n",
    "\n",
    "\\begin{equation*}\n",
    "s_{u_1} \\cdots s_{u_p} d_{v_1} \\cdots d_{v_q}\n",
    "\\end{equation*}\n",
    "with $u_1 > \\cdots > u_p$ and $v_1 < \\cdots < v_q$.\n",
    "\n",
    "A simplicial set is said to be **complex-like** if for any $n$-tuple of $0$-dimensional simplices there exists at most one simplex having it as its ordered collection of $0$-dimensional faces. Examples include: ordered simplicial complexes, directed simplicial complexes, and the nerve of categories.\n",
    "\n",
    "If $[v_0, \\dots, v_n]$ represents an $n$-simplex in a complex-like simplicial set. The action of any simplicial operator on it is determined by\n",
    "\n",
    "\\begin{equation}\n",
    "d_i [v_0, \\dots, v_n] = [v_0, \\dots, \\widehat{v}_i, \\dots, v_n]\n",
    "\\end{equation}\n",
    "\n",
    "\\begin{equation}\n",
    "s_i [v_0, \\dots, v_n] = [v_0, \\dots, v_i, v_i, \\dots, v_n].\n",
    "\\end{equation}"
   ]
  },
  {
   "cell_type": "markdown",
   "metadata": {
    "colab_type": "text",
    "id": "5IkNmk_V6Mws"
   },
   "source": [
    "## Chains with $\\mathbb F_2$-coefficients, tensor products and the Bioperator class\n",
    "\n",
    "Let us consider the **normalized chains with $\\mathbb F_2$-coefficients** on a simplicial set \n",
    "\\begin{equation*}\n",
    "N_n(X) = \\frac{\\mathbb F_2 \\{ X_n \\}}{\\mathbb F_2 \\{ s(X_{n-1}) \\}} \\ \\qquad\n",
    "\\partial_n = \\sum_{i=0}^{n} d_{i}\n",
    "\\end{equation*}\n",
    "where $s(X_{n-1}) = \\bigcup_{i=0}^{n-1} s_i(X_{n-1})$. \n",
    "\n",
    "A **linear simplicial operators** is a formal linear combination of simplicial operators acting linearly on normalized chains.   \n",
    "\n",
    "The **tensor product** of two $\\mathbb F_2$-chain complexes is $C$ and $C'$ is defined by\n",
    "\n",
    "\\begin{equation}\n",
    "(C \\otimes C')_n = \\bigoplus_{i+j=n} C_i \\otimes C'_j\\ \\qquad\n",
    "\\partial = \\partial \\otimes \\mathrm{id} + \\mathrm{id} \\otimes \\partial\n",
    "\\end{equation}\n",
    "\n",
    "A **simplicial bioperator** is the tensor product of two linear simplicial operators acting on $N_*(X) \\otimes N_*(Y)$ bilinearly. \n",
    "\n",
    "The `Bioperator` class models a simplicial bioperator of the form\n",
    "\n",
    "\\begin{equation*}\n",
    "s_{u_1} \\cdots s_{u_p} d_{v_1} \\cdots d_{v_q}\n",
    "\\otimes\n",
    "s_{r_1} \\cdots s_{r_l} d_{s_1} \\cdots d_{s_t.}\n",
    "\\end{equation*}\t"
   ]
  },
  {
   "cell_type": "code",
   "execution_count": 6,
   "metadata": {
    "colab": {},
    "colab_type": "code",
    "id": "0NKX_9kE6MwR"
   },
   "outputs": [],
   "source": [
    "from simplicial_operators import Bioperator"
   ]
  },
  {
   "cell_type": "markdown",
   "metadata": {
    "colab_type": "text",
    "id": "jg8C1Pkl6Mwz"
   },
   "source": [
    "### Example\n",
    "\n",
    "We will model the operator \n",
    "$$biop = s_0s_1d_1d_0 \\otimes s_1 d_0 d_1$$ \n",
    "whose action on the simplex $[0,1,2,3]$ is $[1, 1, 3, 3]$.\n",
    "\n",
    "Its canonical representative is \n",
    "$$s_2s_0d_0d_2 \\otimes s_1d_0d_1$$\n",
    "and we have $op\\ op = op$."
   ]
  },
  {
   "cell_type": "code",
   "execution_count": 4,
   "metadata": {
    "colab": {},
    "colab_type": "code",
    "id": "UHNJ27v26Mw1",
    "outputId": "37b946e9-c75c-4580-d78f-a7ea91ee1c7a"
   },
   "outputs": [
    {
     "name": "stdout",
     "output_type": "stream",
     "text": [
      "The canonical representative s_2s_0d_0d_2 x s_1d_0d_1 of our bioperator is stored.\n",
      "\n",
      "Its action on [0,1,2,3] x [0,1,2,3,4] is [1, 1, 3, 3] x [2, 3, 3, 4]\n",
      "\n",
      "The composition with itself is s_2s_0d_0d_2 x s_1d_0d_1d_2.\n"
     ]
    }
   ],
   "source": [
    "biop = Bioperator([0,1],[1,0],[1],[0,1])\n",
    "\n",
    "print(f'The canonical representative {biop} of our bioperator is stored.\\n')\n",
    "\n",
    "action = biop(range(4),range(5))\n",
    "print(f'Its action on [0,1,2,3] x [0,1,2,3,4] is {action[0]} x {action[1]}\\n')\n",
    "\n",
    "print(f'The composition with itself is {biop.compose(biop)}.')"
   ]
  },
  {
   "cell_type": "markdown",
   "metadata": {
    "colab_type": "text",
    "id": "JpYN7znh6Mw8"
   },
   "source": [
    "## Products and the EZ and AW maps\n",
    "\n",
    "The product of two simplicial sets $X$ and $Y$ is defined by\n",
    "\\begin{equation}\n",
    "(X \\times Y)_n = X_n \\times Y_n,\n",
    "\\end{equation}\n",
    "\n",
    "\\begin{equation}\n",
    "d_i(x \\times y) = d_i x \\times d_i y,\n",
    "\\end{equation}\n",
    "\n",
    "\\begin{equation}\n",
    "s_i(x \\times y) = s_i x \\times s_i y.\n",
    "\\end{equation}\n",
    "\n",
    "We notice that $N_*(X \\times Y) \\not= N_*(X) \\otimes N_*(Y)$. \n",
    "\n",
    "An **ordered partition** of a set $S$ is a tuple of disjoint subsets of $S$ whose union is $S$.\n",
    "\n",
    "### The **Alexander-Whitney map**\n",
    "\\begin{equation*}\n",
    "    AW: N_*(X \\times Y) \\to N_*(X) \\otimes N_*(Y)\n",
    "\\end{equation*}\n",
    "is defined for $x \\times y \\in N_*(X \\times Y)_n$ by\n",
    "\\begin{equation*}\n",
    "    AW(x \\times y) = \\sum_{i=0}^n d_{i+1} \\cdots d_n\\, x \\otimes d_0 \\cdots d_{i-1}\\, y.\n",
    "\\end{equation*}\n",
    "\n",
    "\n"
   ]
  },
  {
   "cell_type": "code",
   "execution_count": null,
   "metadata": {
    "colab": {},
    "colab_type": "code",
    "id": "20CHohBh6Mw-"
   },
   "outputs": [],
   "source": [
    "from simplicial_operators import alexander_whitney as aw"
   ]
  },
  {
   "cell_type": "markdown",
   "metadata": {
    "colab_type": "text",
    "id": "lTaMsYsQNa_8"
   },
   "source": [
    "#### Example\n",
    "For the map\n",
    "\\begin{equation*}\n",
    "AW : N_*(\\Delta^1 \\times \\Delta^2) \\to N_*(\\Delta^1) \\otimes N_*(\\Delta^2)\n",
    "\\end{equation*}\n",
    "we verify that\n",
    "\\begin{equation*}\n",
    "AW([0,0,0,1] \\times [0,1,2,2]) = \n",
    "[0] \\otimes [0,1,2,2] + [0,0] \\otimes [1,2,2] + \n",
    "[0,0,0] \\otimes [2,2] +[0,0,0,1] \\otimes [2].\n",
    "\\end{equation*}"
   ]
  },
  {
   "cell_type": "code",
   "execution_count": null,
   "metadata": {
    "colab": {},
    "colab_type": "code",
    "id": "JX-oo8NJ6MxG",
    "outputId": "30f8a437-2a6a-4a29-f4e0-87821e1b764e"
   },
   "outputs": [],
   "source": [
    "[biop([0,0,0,1], [0,1,2,2]) for biop in aw(3).values()]"
   ]
  },
  {
   "cell_type": "markdown",
   "metadata": {
    "colab_type": "text",
    "id": "ZlIZlZ7Y6MxO"
   },
   "source": [
    "### The **Eilenberg-Zilber map**\n",
    "\n",
    "\\begin{equation*}\n",
    "    EZ: N_*(X) \\otimes N_*(Y) \\to N_*(X \\times Y)\n",
    "\\end{equation*}\n",
    "is defined for $x \\otimes y \\in N_p(X) \\otimes N_q(Y)$ by\n",
    "\\begin{equation*}\n",
    "    EZ(x \\otimes y) = \n",
    "    \\sum s_{w_q} \\cdots s_{w_1}\\, x \\times s_{v_p} \\cdots s_{v_1}\\, y\n",
    "\\end{equation*}\n",
    "where the sum is over all ordered partitions \n",
    "\\begin{equation*}\n",
    "\\big( \\{v_1 < \\cdots < v_p\\},\\ \\{w_1 < \\cdots < w_q\\} \\big)\n",
    "\\end{equation*}\t\n",
    "of $\\{0,\\dots,p+q-1\\}$."
   ]
  },
  {
   "cell_type": "code",
   "execution_count": null,
   "metadata": {
    "colab": {},
    "colab_type": "code",
    "id": "8hoOltxy6MxP"
   },
   "outputs": [],
   "source": [
    "from simplicial_operators import eilenberg_zilber as ez"
   ]
  },
  {
   "cell_type": "markdown",
   "metadata": {
    "colab_type": "text",
    "id": "-JKdeTwE4f1C"
   },
   "source": [
    "#### Example\n",
    "For the map\n",
    "\\begin{equation*}\n",
    "EZ : N_*(\\Delta^1) \\otimes N_*(\\Delta^2) \\to N_*(\\Delta^1 \\times \\Delta^2)\n",
    "\\end{equation*}\n",
    "\n",
    "we verify that\n",
    "\n",
    "\\begin{equation*}\n",
    "EZ([0,1] \\otimes [0,1,2]) = [0,0,0,1] \\times [0,1,2,2] + [0,0,1,1] \\times [0,1,1,2] + [0,1,1,1] \\times [0,0,1,2].\n",
    "\\end{equation*}"
   ]
  },
  {
   "cell_type": "code",
   "execution_count": null,
   "metadata": {
    "colab": {},
    "colab_type": "code",
    "id": "0osev5Sf6MxX",
    "outputId": "8ef1e2c6-a7cf-44ba-a461-510cf4e28bcb"
   },
   "outputs": [],
   "source": [
    "[biop([0,1], [0,1,2]) for biop in ez(1,2)]"
   ]
  },
  {
   "cell_type": "markdown",
   "metadata": {
    "colab_type": "text",
    "id": "iNhf8c3yC_QA"
   },
   "source": [
    "#### Example\n",
    "\n",
    "The map\n",
    "\\begin{equation*}\n",
    "EZAW : C_\\bullet(\\Delta^2 \\times \\Delta^2) \\to C_\\bullet(\\Delta^2 \\times \\Delta^2)\n",
    "\\end{equation*}\n",
    "\n",
    "is not equal to the identity. We verify that\n",
    "\n",
    "\\begin{equation*}\n",
    "EZAW([0,1,2] \\otimes [0,1,2]) =  [0, 0, 0] \\otimes [0, 1, 2] + [0, 0, 1] \\otimes [1, 2, 2] + [0, 1, 1] \\otimes [1, 1, 2] + [0, 1, 2] \\otimes  [2, 2, 2].\n",
    "\\end{equation*}"
   ]
  },
  {
   "cell_type": "code",
   "execution_count": null,
   "metadata": {},
   "outputs": [],
   "source": [
    "def ezaw(n):\n",
    "    e_z, a_w = ez(n), aw(n)\n",
    "    answer = set()\n",
    "    for i in range(n+1):\n",
    "        answer ^= {biop.compose(a_w[(-i,-n+i)]) for biop in e_z[(i,n-i)]}\n",
    "    return answer\n",
    "\n",
    "[biop([0,1,2]) for biop in ezaw(2)]"
   ]
  },
  {
   "cell_type": "markdown",
   "metadata": {
    "colab_type": "text",
    "id": "0QVfIYSs6Mxd"
   },
   "source": [
    "### The Shih homotopy $SHI: EZAW \\Rightarrow id$\n",
    "\n",
    "The composition $EZAW$ is chain homotopic to the identity via the map\n",
    "\n",
    "\\begin{equation*}\n",
    "SHI_n : N_n(X \\times Y) \\to N_{n+1}(X \\times Y)\n",
    "\\end{equation*}\n",
    "recursively defined by \n",
    "\\begin{equation*}\n",
    "SHI_n = \n",
    "\\begin{cases} \n",
    "0 & n = 0 \\\\\n",
    "SHI'_{n-1} + EZAW ' (s_0 \\otimes s_0) & n > 0\n",
    "\\end{cases}\n",
    "\\end{equation*}\n",
    "where \n",
    "\\begin{equation*}\n",
    "\\big( s_{v_{l}} \\cdots s_{v_1} d_{i_1} \\cdots d_{i_p} \\big) ' = s_{v_{l}+1} \\cdots s_{v_1+1} d_{i_1+1} \\cdots d_{i_p+1}.\n",
    "\\end{equation*}"
   ]
  },
  {
   "cell_type": "code",
   "execution_count": null,
   "metadata": {
    "colab": {},
    "colab_type": "code",
    "id": "Ua0YkBkn6Mxe"
   },
   "outputs": [],
   "source": [
    "from simplicial_operators import shih"
   ]
  },
  {
   "cell_type": "markdown",
   "metadata": {
    "colab_type": "text",
    "id": "yDGPBbKONMPZ"
   },
   "source": [
    "#### Example\n",
    "\n",
    "For the map\n",
    "\\begin{equation*}\n",
    "SHI : C_\\bullet(\\Delta^2 \\times \\Delta^2) \\to C_\\bullet(\\Delta^2 \\times \\Delta^2)\n",
    "\\end{equation*}\n",
    "\n",
    "we verify that\n",
    "\n",
    "\\begin{equation*}\n",
    "SHI([0,1] \\times [0,1]) = [0, 0, 1] \\times [0, 1, 1]\n",
    "\\end{equation*}\n",
    "and\n",
    "\n",
    "\\begin{equation*}\n",
    "SHI([0,1,2] \\times [0,1,2]) = \n",
    "[0, 0, 0, 1] \\times [0, 1, 2, 2] + \n",
    "[0, 0, 1, 1] \\times [0, 1, 1, 2] + \n",
    "[0, 0, 1, 2] \\times [0, 2, 2, 2] +\n",
    "[0, 1, 1, 2] \\times [0, 1, 2, 2]  \n",
    "\\end{equation*}"
   ]
  },
  {
   "cell_type": "code",
   "execution_count": null,
   "metadata": {
    "colab": {
     "base_uri": "https://localhost:8080/",
     "height": 125
    },
    "colab_type": "code",
    "id": "qe0_axqmIfl7",
    "outputId": "b27a12a5-d157-4f4c-b502-84141bd01da0"
   },
   "outputs": [],
   "source": [
    "print([biop([0,1], [0,1]) for biop in shih(1) if not biop.is_degenerate])\n",
    "\n",
    "print('\\n and')\n",
    "\n",
    "[biop([0,1,2], [0,1,2]) for biop in shih(2) if not biop.is_degenerate]"
   ]
  },
  {
   "cell_type": "markdown",
   "metadata": {
    "colab_type": "text",
    "id": "G9cYyWtyO8h_"
   },
   "source": [
    "### Verifying $AWEZ = id$ and $EZAW \\sim id$ \n",
    "\n",
    "We define functions that verify that the composition\n",
    "\n",
    "\\begin{equation}\n",
    "N_*(X) \\otimes N_*(Y) \n",
    "\\stackrel{EZ}{\\longrightarrow} N_{*}(X \\times Y)\n",
    "\\stackrel{AW}{\\longrightarrow} N_*(X) \\otimes N_*(Y)\n",
    "\\end{equation}\n",
    "\n",
    "is the identity and that $SHI$ is a chain homotopy between the identity and the composition\n",
    "\n",
    "\\begin{equation}\n",
    "N_*(X \\times Y) \n",
    "\\stackrel{AW}{\\longrightarrow} N_*(X) \\otimes N_*(Y)\n",
    "\\stackrel{EZ}{\\longrightarrow} N_{*}(X \\times Y).\n",
    "\\end{equation}\n",
    "\n",
    "I.e.\n",
    "\\begin{equation}\n",
    "\\partial \\, SHI + SHI \\, \\partial = id + EZAW.\n",
    "\\end{equation}"
   ]
  },
  {
   "cell_type": "code",
   "execution_count": null,
   "metadata": {
    "colab": {},
    "colab_type": "code",
    "id": "GjUS80nY6Mxz"
   },
   "outputs": [],
   "source": [
    "from collections import Counter\n",
    "from itertools import product\n",
    "\n",
    "def is_awez_equal_to_id(p,q):\n",
    "    '''returns True if the composition AWEZ restricted to bidegree \n",
    "    (p,q) is the identity and False otherwise'''\n",
    "    \n",
    "    comps = {biop1.compose(biop2) for biop1, biop2 in \n",
    "                                      product(aw(p+q).values(), ez(p,q))}\n",
    "    \n",
    "    non_deg_comps = {biop for biop in comps if  not biop.op1.is_degenerate \n",
    "                                            and not biop.op2.is_degenerate}\n",
    "    \n",
    "    if [non_deg_comps].sort() is [Bioperator()].sort():\n",
    "        return True\n",
    "    else:\n",
    "        return False\n",
    "\n",
    "def boundary(n):\n",
    "    '''returns the bilinear operators defining the boundary in N_n(X x Y)'''\n",
    "    \n",
    "    return {Bioperator(face_maps1 = [i], \n",
    "                       face_maps2 = [i]) for i in range(n+1)}\n",
    "\n",
    "def is_ezaw_homotopic_to_id(n):\n",
    "    '''returns True if in degree n the composition EZAW is chain homotopic to the \n",
    "    identity via SHI and False if not'''\n",
    "    \n",
    "    # \\partial \\circ SHI\n",
    "    a = [biop1.compose(biop2) for biop1, biop2 in product(boundary(n+1), shih(n))]\n",
    "    # SHI \\circ \\partial\n",
    "    b = [biop1.compose(biop2) for biop1, biop2 in product(shih(n-1), boundary(n))]\n",
    "    # EZAW\n",
    "    c = list(ezaw(n))\n",
    "    # id\n",
    "    d = [Bioperator()]\n",
    "    \n",
    "    answer = Counter([str(biop) for biop in (a+b+c+d) if not biop.is_degenerate])\n",
    "    \n",
    "    # cheking all coefficients are 0 mod 2\n",
    "    if {0} == {i%2 for i in answer.values()}:\n",
    "        return True \n",
    "    else: \n",
    "        return False"
   ]
  },
  {
   "cell_type": "code",
   "execution_count": null,
   "metadata": {
    "colab": {},
    "colab_type": "code",
    "id": "nT3S2Hxj6Mx3",
    "outputId": "7440869c-c026-45b0-df05-180672c01f5d"
   },
   "outputs": [],
   "source": [
    "p, q, n = 3,5,7 \n",
    "\n",
    "print(f'is AWEZ equal to the identity in bidegree {p,q}?')\n",
    "\n",
    "if is_awez_equal_to_id(p,q):\n",
    "    print('Yes!')\n",
    "    \n",
    "else:\n",
    "    print('No!')\n",
    "    \n",
    "print(f'is AWEZ chain homotopic to the identity in degree {n}?')\n",
    "\n",
    "if is_ezaw_homotopic_to_id(n):\n",
    "    print('Yes!')\n",
    "    \n",
    "else:\n",
    "    print('No!')"
   ]
  },
  {
   "cell_type": "markdown",
   "metadata": {
    "colab_type": "text",
    "id": "fcLSj_IMZc6K"
   },
   "source": [
    "## TO-DO\n",
    "\n",
    "Add the Frobenius Structure as described [here](https://ncatlab.org/nlab/show/Frobenius+monoidal+functor)\n",
    "\n",
    "Write better verifications of $AWEZ = id$ and $EZAW \\sim id$"
   ]
  }
 ],
 "metadata": {
  "colab": {
   "collapsed_sections": [],
   "name": "Products and the functor of chains; the EZ-AW bilax structure.ipynb",
   "provenance": [],
   "version": "0.3.2"
  },
  "kernelspec": {
   "display_name": "Python 3",
   "language": "python",
   "name": "python3"
  },
  "language_info": {
   "codemirror_mode": {
    "name": "ipython",
    "version": 3
   },
   "file_extension": ".py",
   "mimetype": "text/x-python",
   "name": "python",
   "nbconvert_exporter": "python",
   "pygments_lexer": "ipython3",
   "version": "3.7.3"
  }
 },
 "nbformat": 4,
 "nbformat_minor": 1
}
