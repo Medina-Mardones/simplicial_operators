{
 "cells": [
  {
   "cell_type": "markdown",
   "metadata": {
    "colab_type": "text",
    "id": "_2LGvggqhPrH"
   },
   "source": [
    "# Products and the functor of chains: the EZ-AW bilax structure\n",
    "\n",
    "### Abstract\n",
    "\n",
    "We construct functions modeling the Alexander-Whitney map AW, the Eilenberg-Zilber map EZ, and chain homotopy from EZAW to the identity. This constructions use the SimplicialBioperator class.\n",
    "\n",
    "## Simplicial sets and  the SimplicialOperator class \n",
    "\n",
    "A **[simplicial set](https://en.wikipedia.org/wiki/Simplicial_set)** $X$ is a collection of set $\\{X_n\\}_{n \\geq 0}$ together with **degeneracy maps** and **face maps**\n",
    "\\begin{equation*}\n",
    "s_i : X_n \\to X_{n+1} \\qquad d_i : X_n \\to X_{n-1}\n",
    "\\end{equation*}\n",
    "for $i = 0, \\dots, n$ satisfying the **simplicial identities**:\n",
    "\n",
    "\\begin{align*}\n",
    "d_i d_j &= d_{j-1} d_i  &\\text{ if } i &< j.  \\\\\n",
    "d_i s_j &= s_{j-1}d_i    &\\text{ if } i &< j. \\\\\n",
    "d_i s_j &= \\text{id}  &\\text{ if } i &= j \\text{ or } i = j. \\\\\n",
    "d_i s_j &= s_j d_{i-1}   &\\text{ if } i &> j. \\\\\n",
    "s_i s_j &= s_{j+1} s_i   &\\text{ if } i &≤ j.\n",
    "\\end{align*}\n",
    "\n",
    "We call an element $\\sigma \\in X_n$ a **simplex of dimension $n$** or **$n$-simplex**. We say that $\\sigma$ is a **face** of a simplex $\\tau$ if it is the image of $\\tau$ via a composition of face maps. We say that $\\sigma$ is **degenerate** if it is the image via a degeneracy map of any simplex. \n",
    "\n",
    "A **simplicial map** $F : X \\to Y$ is a collection of functions $F_n : X_n \\to Y_n$ commuting with degeneracy and face maps. \n",
    "\n",
    "The set of **simplicial operators** contains the equivalence classes of formal concatenations of symbols $s_i$ and $d_j$ modulo the simplicial identities. A simplicial operator can be uniquely written in the **canonical form**:\n",
    "\n",
    "\\begin{equation*}\n",
    "s_{u_1} \\cdots s_{u_p} d_{v_1} \\cdots d_{v_q}\n",
    "\\end{equation*}\n",
    "with $u_1 > \\cdots > u_p$ and $v_1 < \\cdots < v_q$.\n",
    "\n",
    "A simplicial set is said to be **computable** if for any $n$-tuple of $0$-dimensional simplices there exists at most one simplex having it as its ordered collection of $0$-dimensional faces. Examples include: ordered simplicial complexes, directed simplicial complexes, and the nerve of categories.\n",
    "\n",
    "If $[v_0, \\dots, v_n]$ represents an $n$-simplex in a computable simplicial set. The action of any simplicial operator on it is induced from\n",
    "\n",
    "\\begin{equation}\n",
    "d_i [v_0, \\dots, v_n] = [v_0, \\dots, \\widehat{v}_i, \\dots, v_n]\n",
    "\\end{equation}\n",
    "\n",
    "\\begin{equation}\n",
    "s_i [v_0, \\dots, v_n] = [v_0, \\dots, v_i, v_i, \\dots, v_n].\n",
    "\\end{equation}"
   ]
  },
  {
   "cell_type": "code",
   "execution_count": 1,
   "metadata": {
    "colab": {},
    "colab_type": "code",
    "id": "0NKX_9kE6MwR"
   },
   "outputs": [],
   "source": [
    "class SimplicialOperator:\n",
    "    '''\n",
    "    Models a simplicial operator of the form: \n",
    "\n",
    "    s ... s d ... d\n",
    "    \n",
    "    represented in the canonical form\n",
    "    \n",
    "    s > ... > s d < ... < d\n",
    "\n",
    "    Parameters\n",
    "    ----------\n",
    "    deg_maps  : tuple or list\n",
    "                An ordered collection of integers representing the degeneracy maps of the operator\n",
    "    \n",
    "    face_maps : tuple or list\n",
    "                An ordered collection of integers representing the face maps of the operator\n",
    "\n",
    "    '''\n",
    "\n",
    "    def __init__(self, deg_maps = [], face_maps = []):   \n",
    "    \n",
    "        self.deg_maps  = SimplicialOperator.deg_maps_sort(deg_maps) \n",
    "        self.face_maps = SimplicialOperator.face_maps_sort(face_maps)\n",
    "    \n",
    "    def __repr__(self):\n",
    "    \n",
    "        s, d = repr(self.deg_maps), repr(self.face_maps)\n",
    "    \n",
    "        return f'SimplicialOperator(deg_maps={s}, face_maps={d})'\n",
    "  \n",
    "    def __str__(self):\n",
    "    \n",
    "        if not self.deg_maps and not self.face_maps:\n",
    "        \n",
    "            return 'id'\n",
    "    \n",
    "        if not self.deg_maps:\n",
    "            s = ''\n",
    "        else:       \n",
    "            s = f's_{\"s_\".join(str(i) for i in self.deg_maps)}'\n",
    "\n",
    "        if not self.face_maps:\n",
    "            d = ''\n",
    "        else:\n",
    "            d = f'd_{\"d_\".join(str(i) for i in self.face_maps)}'\n",
    "\n",
    "        return(s+d)\n",
    "\n",
    "    def __call__(self, simplex):\n",
    "        '''applies the operator to a simplex represented by a list or a tuple'''\n",
    "    \n",
    "        simplex = list(simplex)\n",
    "    \n",
    "        if self.face_maps and len(simplex)-1 < self.face_maps[-1]:\n",
    "            raise ValueError('simplex not in the domain of the operator')\n",
    "    \n",
    "        # face maps\n",
    "        simplex = ([v for i, v in enumerate(simplex) \n",
    "                    if i not in self.face_maps])\n",
    "\n",
    "        # degeneracy maps\n",
    "        for i in sorted(self.deg_maps):\n",
    "            try:\n",
    "                simplex.insert(i+1, simplex[i]) \n",
    "            except IndexError:\n",
    "                raise ValueError('simplex not in the domain of the operator')\n",
    "\n",
    "        return simplex\n",
    "    \n",
    "    @property\n",
    "    def degree(self):\n",
    "        '''returns the degree of the operator as an int'''\n",
    "    \n",
    "        return len(self.deg_maps) - len(self.face_maps)\n",
    "  \n",
    "    @property\n",
    "    def is_degenerate(self):\n",
    "        '''returns True if the operator is degenerate and False otherwise'''\n",
    "    \n",
    "        return bool(self.deg_maps)\n",
    "  \n",
    "    def compose(self, other):\n",
    "        '''returns the operator self other'''\n",
    "    \n",
    "        s_left, d_left  = list(self.deg_maps), list(self.face_maps)\n",
    "        s_right, d_right = list(other.deg_maps), list(other.face_maps)\n",
    "\n",
    "        # getting s_right passed d_left\n",
    "        d = d_left\n",
    "        s = []\n",
    "        for j in s_right:\n",
    "            if j+1 in d or j in d:\n",
    "                p = max(filter(lambda k: k == j or k == j+1, d))\n",
    "                d = d[:d.index(p)] + [k-1 for k in d[d.index(p)+1:]]\n",
    "\n",
    "            else:\n",
    "                lt = list(filter(lambda k: k < j, d))\n",
    "                gt = list(filter(lambda k: k > j+1, d))\n",
    "                d = lt + [k-1 for k in gt]\n",
    "                s.append(j - len(lt))\n",
    "\n",
    "        # One can maybe optimize in the next step using that \n",
    "        # s_left, s, d, and d_right are totally ordered\n",
    "\n",
    "        new_deg_maps  = SimplicialOperator.deg_maps_sort(s_left + s) \n",
    "        new_face_maps = SimplicialOperator.face_maps_sort(d + d_right)\n",
    "\n",
    "        return SimplicialOperator(new_deg_maps, new_face_maps)\n",
    "  \n",
    "    @staticmethod  \n",
    "    def deg_maps_sort(deg_maps):\n",
    "        '''puts the degeneracy maps in canonical order s > ... > s using \n",
    "        the simplicial identity s_i s_j = s_{j+1} s_i if i <= j'''\n",
    "\n",
    "        deg_maps = list(deg_maps)\n",
    "        for index in reversed(range(len(deg_maps)-1)):\n",
    "\n",
    "            currentvalue = deg_maps[index]\n",
    "            position = index\n",
    "\n",
    "            while (position<len(deg_maps)-1 and\n",
    "                   currentvalue <= deg_maps[position+1]):\n",
    "                \n",
    "                deg_maps[position] = deg_maps[position+1]+1\n",
    "                position = position+1\n",
    "\n",
    "            deg_maps[position] = currentvalue\n",
    "\n",
    "        return tuple(deg_maps)\n",
    "  \n",
    "    @staticmethod\n",
    "    def face_maps_sort(face_maps):\n",
    "        '''puts the face maps in canonical order d < ... < d using the \n",
    "        simplicial identity d_i d_j = d_j d_{i+1} if i >= j'''\n",
    "\n",
    "        face_maps = list(face_maps)\n",
    "        for index in range(1, len(face_maps)):\n",
    "\n",
    "            currentvalue = face_maps[index]\n",
    "            position = index\n",
    "\n",
    "            while (position > 0 and\n",
    "                   face_maps[position-1] >= currentvalue):\n",
    "                \n",
    "                face_maps[position] = face_maps[position-1]+1\n",
    "                position = position-1\n",
    "\n",
    "            face_maps[position] = currentvalue\n",
    "\n",
    "        return tuple(face_maps)"
   ]
  },
  {
   "cell_type": "markdown",
   "metadata": {
    "colab_type": "text",
    "id": "bx4CpVEk6Mwa"
   },
   "source": [
    "### Example\n",
    "\n",
    "We will model the operator \n",
    "$$op = s_0s_1d_1d_0$$ \n",
    "whose action on the simplex $[0,1,2,3]$ is $[1, 1, 3, 3]$.\n",
    "\n",
    "Its canonical representative is \n",
    "$$s_2s_0d_0d_2$$\n",
    "and we have $op\\ op = op$."
   ]
  },
  {
   "cell_type": "code",
   "execution_count": 2,
   "metadata": {
    "colab": {},
    "colab_type": "code",
    "id": "5mPFyEy46Mwh",
    "outputId": "2f455c3f-d90e-4a30-e66d-1669e692fc4c"
   },
   "outputs": [
    {
     "name": "stdout",
     "output_type": "stream",
     "text": [
      "The canonical representative s_2s_0d_0d_2 of our operator is stored.\n",
      "\n",
      "Its action on [0,1,2,3] is [1, 1, 3, 3]\n",
      "\n",
      "We verify this operator is idempotent by composing it with itself and obtaining s_2s_0d_0d_2.\n"
     ]
    }
   ],
   "source": [
    "op = SimplicialOperator([0,1],[1,0])\n",
    "\n",
    "print(f'The canonical representative {op} of our operator is stored.\\n')\n",
    "\n",
    "print(f'Its action on [0,1,2,3] is {op(range(4))}\\n')\n",
    "\n",
    "print(f'We verify this operator is idempotent by composing it with itself and obtaining {op.compose(op)}.')"
   ]
  },
  {
   "cell_type": "markdown",
   "metadata": {
    "colab_type": "text",
    "id": "5IkNmk_V6Mws"
   },
   "source": [
    "## Chains with $\\mathbb F_2$-coefficients, tensor products and the SimplicialBioperator class\n",
    "\n",
    "Let us consider the **normalized chains with $\\mathbb F_2$-coefficients** on a simplicial set \n",
    "\\begin{equation*}\n",
    "N_n(X) = \\frac{\\mathbb F_2 \\{ X_n \\}}{\\mathbb F_2 \\{ s(X_{n-1}) \\}} \\ \\qquad\n",
    "\\partial_n = \\sum_{i=0}^{n} d_{i}\n",
    "\\end{equation*}\n",
    "where $s(X_{n-1}) = \\bigcup_{i=0}^{n-1} s_i(X_{n-1})$. \n",
    "\n",
    "A **linear simplicial operators** is a formal linear combination of simplicial operators acting linearly on normalized chains.   \n",
    "\n",
    "The **tensor product** of two $\\mathbb F_2$-chain complexes is $C$ and $C'$ is defined by\n",
    "\n",
    "\\begin{equation}\n",
    "(C \\otimes C')_n = \\bigoplus_{i+j=n} C_i \\otimes C'_j\\ \\qquad\n",
    "\\partial = \\partial \\otimes \\mathrm{id} + \\mathrm{id} \\otimes \\partial\n",
    "\\end{equation}\n",
    "\n",
    "A **simplicial bioperator** is the tensor product of two linear simplicial operators acting on $N_*(X) \\otimes N_*(Y)$ bilinearly. \n",
    "\n",
    "We adapt the SimplicialOperator class to model simplicial bioperators of the form\n",
    "\n",
    "\\begin{equation*}\n",
    "s_{u_1} \\cdots s_{u_p} d_{v_1} \\cdots d_{v_q}\n",
    "\\otimes\n",
    "s_{r_1} \\cdots s_{r_l} d_{s_1} \\cdots d_{s_t.}\n",
    "\\end{equation*}\t"
   ]
  },
  {
   "cell_type": "code",
   "execution_count": 61,
   "metadata": {
    "colab": {},
    "colab_type": "code",
    "id": "kIpV1wPY6Mwu"
   },
   "outputs": [],
   "source": [
    "class SimplicialBioperator:\n",
    "    '''\n",
    "    Models a simplicial bioperator of form: \n",
    "\n",
    "    s ... s d ... d (x) s ... s d ... d\n",
    "    \n",
    "    represented in the canonical form\n",
    "    \n",
    "    s > ... > s d < ... < d (x) s > ... > s d < ... < d\n",
    "\n",
    "    Parameters\n",
    "    ----------\n",
    "    deg_maps1  : tuple or list\n",
    "                 An ordered collection of integers representing the degeneracy maps of the first operator\n",
    "    \n",
    "    face_maps1 : tuple or list\n",
    "                 An ordered collection of integers representing the face maps of the first operator\n",
    "    \n",
    "    deg_maps2  : tuple or list\n",
    "                 An ordered collection of integers representing the degeneracy maps of the second operator\n",
    "    \n",
    "    face_maps2 : tuple or list\n",
    "                 An ordered collection of integers representing the face maps of the second operator\n",
    "\n",
    "    '''\n",
    "    \n",
    "    def __init__(self, deg_maps1=[], face_maps1=[], deg_maps2=[], face_maps2=[]):\n",
    "    \n",
    "        self.op1 = SimplicialOperator(deg_maps1, face_maps1)\n",
    "        self.op2 = SimplicialOperator(deg_maps2, face_maps2)\n",
    "    \n",
    "    def __repr__(self):\n",
    "        \n",
    "        s1, d1 = repr(self.op1.deg_maps), repr(self.op1.face_maps)\n",
    "        s2, d2 = repr(self.op2.deg_maps), repr(self.op2.face_maps)\n",
    "        \n",
    "        return (f'Bioperator(deg_maps1={s1}, face_maps1={d1}, deg_maps2={s2}, face_maps2={d2}')\n",
    "    \n",
    "    def __str__(self):\n",
    "\n",
    "        return(str(self.op1) + ' x ' + str(self.op2))\n",
    "    \n",
    "    def __call__(self, spx1, spx2):\n",
    "        \n",
    "        return self.op1(spx1), self.op2(spx2)\n",
    "    \n",
    "    @property\n",
    "    def bidegree(self):\n",
    "        '''returns the degree of the operator as an int'''\n",
    "    \n",
    "        return self.op1.degree, self.op2.degree\n",
    "    \n",
    "    @property\n",
    "    def is_degenerate(self):\n",
    "        '''returns True if the operator is degenerate and False if not'''\n",
    "        \n",
    "        s1 = set(self.op1.deg_maps)\n",
    "        s2 = set(self.op2.deg_maps)\n",
    "        \n",
    "        return bool(s1.intersection(s2))    \n",
    "    \n",
    "    def compose(self, other):\n",
    "        '''returns the operator self other'''\n",
    "        \n",
    "        op1 = self.op1.compose(other.op1)\n",
    "        op2 = self.op2.compose(other.op2)\n",
    "        \n",
    "        return ( SimplicialBioperator(op1.deg_maps, op1.face_maps, \n",
    "                                      op2.deg_maps, op2.face_maps) )"
   ]
  },
  {
   "cell_type": "markdown",
   "metadata": {
    "colab_type": "text",
    "id": "jg8C1Pkl6Mwz"
   },
   "source": [
    "### Example\n",
    "\n",
    "We will model the operator \n",
    "$$biop = s_0s_1d_1d_0 \\otimes s_1 d_0 d_1$$ \n",
    "whose action on the simplex $[0,1,2,3]$ is $[1, 1, 3, 3]$.\n",
    "\n",
    "Its canonical representative is \n",
    "$$s_2s_0d_0d_2 \\otimes s_1d_0d_1$$\n",
    "and we have $op\\ op = op$."
   ]
  },
  {
   "cell_type": "code",
   "execution_count": 62,
   "metadata": {
    "colab": {},
    "colab_type": "code",
    "id": "UHNJ27v26Mw1",
    "outputId": "37b946e9-c75c-4580-d78f-a7ea91ee1c7a"
   },
   "outputs": [
    {
     "name": "stdout",
     "output_type": "stream",
     "text": [
      "The canonical representative s_2s_0d_0d_2 x s_1d_0d_1 of our operator is stored.\n",
      "\n",
      "Its action on [0,1,2,3] x [0,1,2,3,4] is [1, 1, 3, 3] x [2, 3, 3, 4]\n",
      "\n",
      "The composition with itself is s_2s_0d_0d_2 x s_1d_0d_1d_2.\n"
     ]
    }
   ],
   "source": [
    "biop = SimplicialBioperator([0,1],[1,0],[1],[0,1])\n",
    "\n",
    "print(f'The canonical representative {biop} of our operator is stored.\\n')\n",
    "\n",
    "action = biop(range(4),range(5))\n",
    "print(f'Its action on [0,1,2,3] x [0,1,2,3,4] is {action[0]} x {action[1]}\\n')\n",
    "\n",
    "print(f'The composition with itself is {biop.compose(biop)}.')"
   ]
  },
  {
   "cell_type": "markdown",
   "metadata": {
    "colab_type": "text",
    "id": "JpYN7znh6Mw8"
   },
   "source": [
    "## Products and the EZ and AW maps\n",
    "\n",
    "The product of two simplicial sets $X$ and $Y$ is defined by\n",
    "\\begin{equation}\n",
    "(X \\times Y)_n = X_n \\times Y_n,\n",
    "\\end{equation}\n",
    "\n",
    "\\begin{equation}\n",
    "d_i(x \\times y) = d_i x \\times d_i y,\n",
    "\\end{equation}\n",
    "\n",
    "\\begin{equation}\n",
    "s_i(x \\times y) = s_i x \\times s_i y.\n",
    "\\end{equation}\n",
    "\n",
    "We notice that $N_*(X \\times Y) \\not= N_*(X) \\otimes N_*(Y)$. \n",
    "\n",
    "An **ordered partition** of a set $S$ is a tuple of disjoint subsets of $S$ whose union is $S$.\n",
    "\n",
    "### The **Alexander-Whitney map**\n",
    "\\begin{equation*}\n",
    "    AW: N_*(X \\times Y) \\to N_*(X) \\otimes N_*(Y)\n",
    "\\end{equation*}\n",
    "is defined for $x \\times y \\in N_*(X \\times Y)_n$ by\n",
    "\\begin{equation*}\n",
    "    AW(x \\times y) = \\sum_{i=0}^n d_{i+1} \\cdots d_n\\, x \\otimes d_0 \\cdots d_{i-1}\\, y.\n",
    "\\end{equation*}\n",
    "\n",
    "\n"
   ]
  },
  {
   "cell_type": "code",
   "execution_count": 63,
   "metadata": {
    "colab": {},
    "colab_type": "code",
    "id": "20CHohBh6Mw-"
   },
   "outputs": [],
   "source": [
    "def aw(n, q=None):\n",
    "    '''if an integer n is passed it returns the linear combination of bioperators defining the \n",
    "    restriction of AW to degree n. If two integers (p, q) are passed it provides the single \n",
    "    bioperad defining the projection to bidegree (p, q) of the AW map'''\n",
    "    \n",
    "    if not q is None:\n",
    "        p = n\n",
    "        return SimplicialBioperator(face_maps1=range(p+1,p+q+1), \n",
    "                                    face_maps2=range(0,p))\n",
    "    if q is None:\n",
    "        linear_comb = set()\n",
    "        for i in range(n+1):\n",
    "            j = n-i\n",
    "            biop = SimplicialBioperator(face_maps1=range(i+1,i+j+1), \n",
    "                                        face_maps2=range(0,i))\n",
    "            linear_comb ^= {biop}\n",
    "    \n",
    "        return linear_comb"
   ]
  },
  {
   "cell_type": "markdown",
   "metadata": {
    "colab_type": "text",
    "id": "lTaMsYsQNa_8"
   },
   "source": [
    "### Example\n",
    "For the map\n",
    "\\begin{equation*}\n",
    "AW : N_*(\\Delta^1 \\times \\Delta^2) \\to N_*(\\Delta^1) \\otimes N_*(\\Delta^2)\n",
    "\\end{equation*}\n",
    "we verify that\n",
    "\\begin{equation*}\n",
    "AW([0,0,0,1] \\times [0,1,2,2]) = \n",
    "[0] \\otimes [0,1,2,2] + [0,0] \\otimes [1,2,2] + \n",
    "[0,0,0] \\otimes [2,2] +[0,0,0,1] \\otimes [2].\n",
    "\\end{equation*}"
   ]
  },
  {
   "cell_type": "code",
   "execution_count": 64,
   "metadata": {
    "colab": {},
    "colab_type": "code",
    "id": "JX-oo8NJ6MxG",
    "outputId": "30f8a437-2a6a-4a29-f4e0-87821e1b764e"
   },
   "outputs": [
    {
     "data": {
      "text/plain": [
       "[([0], [0, 1, 2, 2]),\n",
       " ([0, 0], [1, 2, 2]),\n",
       " ([0, 0, 0], [2, 2]),\n",
       " ([0, 0, 0, 1], [2])]"
      ]
     },
     "execution_count": 64,
     "metadata": {},
     "output_type": "execute_result"
    }
   ],
   "source": [
    "[biop([0,0,0,1], [0,1,2,2]) for biop in aw(3)]"
   ]
  },
  {
   "cell_type": "markdown",
   "metadata": {
    "colab_type": "text",
    "id": "ZlIZlZ7Y6MxO"
   },
   "source": [
    "### The **Eilenberg-Zilber map**\n",
    "\n",
    "\\begin{equation*}\n",
    "    EZ: N_*(X) \\otimes N_*(Y) \\to N_*(X \\times Y)\n",
    "\\end{equation*}\n",
    "is defined for $x \\otimes y \\in N_p(X) \\otimes N_q(Y)$ by\n",
    "\\begin{equation*}\n",
    "    EZ(x \\otimes y) = \n",
    "    \\sum s_{w_q} \\cdots s_{w_1}\\, x \\times s_{v_p} \\cdots s_{v_1}\\, y\n",
    "\\end{equation*}\n",
    "where the sum is over all ordered partitions \n",
    "\\begin{equation*}\n",
    "\\big( \\{v_1 < \\cdots < v_p\\},\\ \\{w_1 < \\cdots < w_q\\} \\big)\n",
    "\\end{equation*}\t\n",
    "of $\\{0,\\dots,p+q-1\\}$."
   ]
  },
  {
   "cell_type": "code",
   "execution_count": 65,
   "metadata": {
    "colab": {},
    "colab_type": "code",
    "id": "8hoOltxy6MxP"
   },
   "outputs": [],
   "source": [
    "def ez(n, q=None):\n",
    "    '''if a single integer n is passed, it returns the set of bioperators defining the \n",
    "    restriction of EZ to degree n. If two integers (p,q) are passed, it returns the  \n",
    "    bioperators defining EZ in bidegree (p,q)'''\n",
    "    \n",
    "    # operators in bidegrees (0,n), (1,n-1), ... , (n,0) \n",
    "    if not q:\n",
    "        if n == 0:\n",
    "            return {SimplicialBioperator()}\n",
    "\n",
    "        if n > 0:\n",
    "            answer = set()\n",
    "            for biop in ez(n-1):\n",
    "                i,j = biop.bidegree\n",
    "                answer ^= {SimplicialBioperator(\n",
    "                                deg_maps1 = biop.op1.deg_maps,\n",
    "                                deg_maps2 = [i+j] + list(biop.op2.deg_maps))}\n",
    "\n",
    "                answer ^= {SimplicialBioperator(\n",
    "                                deg_maps1 = [i+j] + list(biop.op1.deg_maps),\n",
    "                                deg_maps2 = biop.op2.deg_maps)}\n",
    "            return answer\n",
    "        \n",
    "    # operators in bidegree (p,q)\n",
    "    if q:\n",
    "        p = n\n",
    "        if (p,q) == (0,0):\n",
    "            return [SimplicialBioperator()]\n",
    "\n",
    "        answer = set()\n",
    "        if p > 0:\n",
    "            west = ez(p-1, q)\n",
    "            for biop in west:\n",
    "                answer ^= {SimplicialBioperator(\n",
    "                                deg_maps1 = biop.op1.deg_maps,\n",
    "                                deg_maps2 = [p+q-1] + list(biop.op2.deg_maps))}\n",
    "        if q > 0:\n",
    "            south = ez(p, q-1)\n",
    "            for biop in south:\n",
    "                answer ^= {SimplicialBioperator(\n",
    "                                deg_maps1 = [p+q-1] + list(biop.op1.deg_maps),\n",
    "                                deg_maps2 = biop.op2.deg_maps)}\n",
    "        return answer"
   ]
  },
  {
   "cell_type": "markdown",
   "metadata": {
    "colab_type": "text",
    "id": "-JKdeTwE4f1C"
   },
   "source": [
    "### Example\n",
    "For the map\n",
    "\\begin{equation*}\n",
    "EZ : N_*(\\Delta^1) \\otimes N_*(\\Delta^2) \\to N_*(\\Delta^1 \\times \\Delta^2)\n",
    "\\end{equation*}\n",
    "\n",
    "we verify that\n",
    "\n",
    "\\begin{equation*}\n",
    "EZ([0,1] \\otimes [0,1,2]) = [0,0,0,1] \\times [0,1,2,2] + [0,0,1,1] \\times [0,1,1,2] + [0,1,1,1] \\times [0,0,1,2].\n",
    "\\end{equation*}"
   ]
  },
  {
   "cell_type": "code",
   "execution_count": 66,
   "metadata": {
    "colab": {},
    "colab_type": "code",
    "id": "0osev5Sf6MxX",
    "outputId": "8ef1e2c6-a7cf-44ba-a461-510cf4e28bcb"
   },
   "outputs": [
    {
     "data": {
      "text/plain": [
       "[([0, 0, 0, 0, 1], [0, 1, 2]),\n",
       " ([0, 0, 0, 1], [0, 1, 2, 2]),\n",
       " ([0, 1, 1, 1], [0, 0, 1, 2]),\n",
       " ([0, 0, 1, 1], [0, 1, 1, 2])]"
      ]
     },
     "execution_count": 66,
     "metadata": {},
     "output_type": "execute_result"
    }
   ],
   "source": [
    "[biop([0,1], [0,1,2]) for biop in ez(1,2)]"
   ]
  },
  {
   "cell_type": "markdown",
   "metadata": {
    "colab_type": "text",
    "id": "0QVfIYSs6Mxd"
   },
   "source": [
    "### The chain homotopy $EZAW \\sim id$\n",
    "\n",
    "The composition $EZAW$ is chain homotopic to the identity via the map\n",
    "\n",
    "\\begin{equation*}\n",
    "SHI_n : N_n(X \\times Y) \\to N_{n+1}(X \\times Y)\n",
    "\\end{equation*}\n",
    "recursively defined by \n",
    "\\begin{equation*}\n",
    "SHI_n = \n",
    "\\begin{cases} \n",
    "0 & n = 0 \\\\\n",
    "SHI'_{n-1} + EZAW ' (s_0 \\otimes s_0) & n > 0\n",
    "\\end{cases}\n",
    "\\end{equation*}\n",
    "where \n",
    "\\begin{equation*}\n",
    "\\big( s_{v_{l}} \\cdots s_{v_1} d_{i_1} \\cdots d_{i_p} \\big) ' = s_{v_{l}+1} \\cdots s_{v_1+1} d_{i_1+1} \\cdots d_{i_p+1}.\n",
    "\\end{equation*}"
   ]
  },
  {
   "cell_type": "code",
   "execution_count": 36,
   "metadata": {
    "colab": {},
    "colab_type": "code",
    "id": "Ua0YkBkn6Mxe"
   },
   "outputs": [],
   "source": [
    "from itertools import product\n",
    "\n",
    "def ezaw(n):\n",
    "    '''returns the bioperator defining the map EZAW restricted to degree n'''\n",
    "    comps = set()\n",
    "    for p in range(n+1):\n",
    "        q = n-p\n",
    "        comps ^= {biop2.compose(biop1) for\n",
    "                  biop2, biop1 in product(ez(p,q), [aw(p,q)])}\n",
    "    return comps\n",
    "\n",
    "def prime(biop):\n",
    "    '''adds 1 to all the elements in the simplicial bioperator'''\n",
    "    s1 = [v+1 for v in biop.op1.deg_maps]\n",
    "    d1 = [w+1 for w in biop.op1.face_maps]\n",
    "    s2 = [v+1 for v in biop.op2.deg_maps]\n",
    "    d2 = [w+1 for w in biop.op2.face_maps]\n",
    "    \n",
    "    return SimplicialBioperator(deg_maps1 = s1, face_maps1 = d1,\n",
    "                                deg_maps2 = s2, face_maps2 = d2)\n",
    "    \n",
    "def precompos0(biop):\n",
    "    '''precomposes the operator with the bioperator s_0 x s_0'''\n",
    "    \n",
    "    return biop.compose(SimplicialBioperator(deg_maps1 = [0], \n",
    "                                             deg_maps2 = [0]))\n",
    "\n",
    "def shi(n):\n",
    "    '''returns all bioperators defining the chain homotopy between \n",
    "    EZAW and the identity'''\n",
    "    \n",
    "    if n == 0:\n",
    "        return set()\n",
    "    \n",
    "    if n == 1:\n",
    "        return {precompos0(prime(biop)) for biop in ezaw(n)}\n",
    "\n",
    "    if n > 1:\n",
    "        answer =  {precompos0(prime(biop)) for biop in ezaw(n)}\n",
    "        answer ^= {prime(biop) for biop in shi(n-1)}\n",
    "        \n",
    "        return answer"
   ]
  },
  {
   "cell_type": "markdown",
   "metadata": {
    "colab_type": "text",
    "id": "iNhf8c3yC_QA"
   },
   "source": [
    "### Example\n",
    "\n",
    "For the map\n",
    "\\begin{equation*}\n",
    "EZAW : C_\\bullet(\\Delta^2 \\times \\Delta^2) \\to C_\\bullet(\\Delta^2 \\times \\Delta^2)\n",
    "\\end{equation*}\n",
    "\n",
    "awe verify that\n",
    "\n",
    "\\begin{equation*}\n",
    "EZAW([0,1,2] \\otimes [0,1,2]) =  [0, 0, 0] \\otimes [0, 1, 2] + [0, 0, 1] \\otimes [1, 2, 2] + [0, 1, 1] \\otimes [1, 1, 2] + [0, 1, 2] \\otimes  [2, 2, 2].\n",
    "\\end{equation*}"
   ]
  },
  {
   "cell_type": "code",
   "execution_count": 38,
   "metadata": {
    "colab": {},
    "colab_type": "code",
    "id": "n1Dh7IFU6Mxj",
    "outputId": "d5dc95ba-0945-49da-9e0d-c9ab5d026127"
   },
   "outputs": [
    {
     "name": "stdout",
     "output_type": "stream",
     "text": [
      "[([0, 1, 1], [1, 1, 2]), ([0, 0, 0], [0, 1, 2]), ([0, 0, 1], [1, 2, 2]), ([0, 1, 2], [2, 2, 2])]\n"
     ]
    }
   ],
   "source": [
    "print([biop([0,1,2], [0,1,2]) for biop in ezaw(2)])"
   ]
  },
  {
   "cell_type": "markdown",
   "metadata": {
    "colab_type": "text",
    "id": "yDGPBbKONMPZ"
   },
   "source": [
    "### Example\n",
    "\n",
    "For the map\n",
    "\\begin{equation*}\n",
    "SHI : C_\\bullet(\\Delta^2 \\times \\Delta^2) \\to C_\\bullet(\\Delta^2 \\times \\Delta^2)\n",
    "\\end{equation*}\n",
    "\n",
    "we verify that\n",
    "\n",
    "\\begin{equation*}\n",
    "SHI([0,1] \\times [0,1]) = [0, 0, 1] \\times [0, 1, 1]\n",
    "\\end{equation*}\n",
    "and\n",
    "\n",
    "\\begin{equation*}\n",
    "SHI([0,1,2] \\times [0,1,2]) = \n",
    "[0, 0, 0, 1] \\times [0, 1, 2, 2] + \n",
    "[0, 0, 1, 1] \\times [0, 1, 1, 2] + \n",
    "[0, 0, 1, 2] \\times [0, 2, 2, 2] +\n",
    "[0, 1, 1, 2] \\times [0, 1, 2, 2]  \n",
    "\\end{equation*}"
   ]
  },
  {
   "cell_type": "code",
   "execution_count": 42,
   "metadata": {
    "colab": {
     "base_uri": "https://localhost:8080/",
     "height": 125
    },
    "colab_type": "code",
    "id": "qe0_axqmIfl7",
    "outputId": "b27a12a5-d157-4f4c-b502-84141bd01da0"
   },
   "outputs": [
    {
     "name": "stdout",
     "output_type": "stream",
     "text": [
      "[([0, 0, 1], [0, 1, 1])]\n",
      "\n",
      " and\n"
     ]
    },
    {
     "data": {
      "text/plain": [
       "[([0, 0, 1, 2], [0, 2, 2, 2]),\n",
       " ([0, 0, 0, 1], [0, 1, 2, 2]),\n",
       " ([0, 1, 1, 2], [0, 1, 2, 2]),\n",
       " ([0, 0, 1, 1], [0, 1, 1, 2])]"
      ]
     },
     "execution_count": 42,
     "metadata": {},
     "output_type": "execute_result"
    }
   ],
   "source": [
    "print([biop([0,1], [0,1]) for biop in shi(1) if not biop.is_degenerate])\n",
    "\n",
    "print('\\n and')\n",
    "\n",
    "[biop([0,1,2], [0,1,2]) for biop in shi(2) if not biop.is_degenerate]"
   ]
  },
  {
   "cell_type": "markdown",
   "metadata": {
    "colab_type": "text",
    "id": "G9cYyWtyO8h_"
   },
   "source": [
    "## Verifying $AWEZ = id$ and $EZAW \\sim id$ \n",
    "\n",
    "We define functions that verify that the composition\n",
    "\n",
    "\\begin{equation}\n",
    "N_*(X) \\otimes N_*(Y) \n",
    "\\stackrel{EZ}{\\longrightarrow} N_{*}(X \\times Y)\n",
    "\\stackrel{AW}{\\longrightarrow} N_*(X) \\otimes N_*(Y)\n",
    "\\end{equation}\n",
    "\n",
    "is the identity and that $SHI$ is a chain homotopy between the identity and the composition\n",
    "\n",
    "\\begin{equation}\n",
    "N_*(X \\times Y) \n",
    "\\stackrel{AW}{\\longrightarrow} N_*(X) \\otimes N_*(Y)\n",
    "\\stackrel{EZ}{\\longrightarrow} N_{*}(X \\times Y).\n",
    "\\end{equation}\n",
    "\n",
    "I.e.\n",
    "\\begin{equation}\n",
    "\\partial \\, SHI + SHI \\, \\partial = id + EZAW.\n",
    "\\end{equation}"
   ]
  },
  {
   "cell_type": "code",
   "execution_count": 57,
   "metadata": {
    "colab": {},
    "colab_type": "code",
    "id": "GjUS80nY6Mxz"
   },
   "outputs": [],
   "source": [
    "from collections import Counter\n",
    "\n",
    "def is_awez_equal_to_id(p,q):\n",
    "    '''returns True if the composition AWEZ restricted to bidegree \n",
    "    (p,q) is the identity and False otherwise'''\n",
    "\n",
    "    comps = {biop1.compose(biop2) for biop1, biop2 in product(aw(p+q), ez(p,q))}\n",
    "    \n",
    "    non_deg_comps = {biop for biop in comps if  not biop.op1.is_degenerate \n",
    "                                            and not biop.op2.is_degenerate}\n",
    "    \n",
    "    if [non_deg_comps].sort() is [SimplicialBioperator()].sort():\n",
    "        return True\n",
    "    else:\n",
    "        return False\n",
    "    \n",
    "def boundary(n):\n",
    "    '''returns the bilinear operators defining the boundary in N_n(X x Y)'''\n",
    "    \n",
    "    return {SimplicialBioperator(face_maps1 = [i], \n",
    "                                 face_maps2 = [i]) for i in range(n+1)}\n",
    "\n",
    "def is_ezaw_homotopic_to_id(n):\n",
    "    '''returns True if in degree n the composition EZAW is chain homotopic to the \n",
    "    identity via SHI and False if not'''\n",
    "    \n",
    "    # \\partial \\circ SHI\n",
    "    a = [biop1.compose(biop2) for biop1, biop2 in product(boundary(n+1), shi(n))]\n",
    "    # SHI \\circ \\partial\n",
    "    b = [biop1.compose(biop2) for biop1, biop2 in product(shi(n-1), boundary(n))]\n",
    "    # EZAW\n",
    "    c = list(ezaw(n))\n",
    "    # id\n",
    "    d = [SimplicialBioperator()]\n",
    "    \n",
    "    answer = Counter([str(biop) for biop in (a+b+c+d) if not biop.is_degenerate])\n",
    "    \n",
    "    # cheking all coefficients are 0 mod 2\n",
    "    if {0} == {i%2 for i in answer.values()}:\n",
    "        return True \n",
    "    else: \n",
    "        return False"
   ]
  },
  {
   "cell_type": "code",
   "execution_count": 58,
   "metadata": {
    "colab": {},
    "colab_type": "code",
    "id": "nT3S2Hxj6Mx3",
    "outputId": "7440869c-c026-45b0-df05-180672c01f5d"
   },
   "outputs": [
    {
     "name": "stdout",
     "output_type": "stream",
     "text": [
      "is AWEZ equal to the identity in bidegree (3, 5)?\n",
      "Yes!\n",
      "is AWEZ chain homotopic to the identity in degree 7?\n",
      "Yes!\n"
     ]
    }
   ],
   "source": [
    "p, q, n = 3,5,7 \n",
    "\n",
    "print(f'is AWEZ equal to the identity in bidegree {p,q}?')\n",
    "\n",
    "if is_awez_equal_to_id(p,q):\n",
    "    print('Yes!')\n",
    "    \n",
    "else:\n",
    "    print('No!')\n",
    "    \n",
    "print(f'is AWEZ chain homotopic to the identity in degree {n}?')\n",
    "\n",
    "if is_ezaw_homotopic_to_id(n):\n",
    "    print('Yes!')\n",
    "    \n",
    "else:\n",
    "    print('No!')"
   ]
  },
  {
   "cell_type": "markdown",
   "metadata": {
    "colab_type": "text",
    "id": "fcLSj_IMZc6K"
   },
   "source": [
    "## TO-DO\n",
    "\n",
    "Add the Frobenius Structure as described [here](https://ncatlab.org/nlab/show/Frobenius+monoidal+functor)"
   ]
  }
 ],
 "metadata": {
  "colab": {
   "collapsed_sections": [],
   "name": "Products and the functor of chains; the EZ-AW bilax structure.ipynb",
   "provenance": [],
   "version": "0.3.2"
  },
  "kernelspec": {
   "display_name": "Python 3",
   "language": "python",
   "name": "python3"
  },
  "language_info": {
   "codemirror_mode": {
    "name": "ipython",
    "version": 3
   },
   "file_extension": ".py",
   "mimetype": "text/x-python",
   "name": "python",
   "nbconvert_exporter": "python",
   "pygments_lexer": "ipython3",
   "version": "3.7.3"
  }
 },
 "nbformat": 4,
 "nbformat_minor": 1
}
