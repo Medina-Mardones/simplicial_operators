{
 "cells": [
  {
   "cell_type": "markdown",
   "metadata": {},
   "source": [
    "# Products and the functor of chains: the EZ-AW bilax structure\n",
    "\n",
    "## Abstract\n",
    "\n",
    "We describe methods modeling the Alexander-Whitney map, the Eilenberg-Zilber map, and a chain homotopy from EZAW to the identity. This are part of the `simplicial_operators` package."
   ]
  },
  {
   "cell_type": "code",
   "execution_count": null,
   "metadata": {},
   "outputs": [],
   "source": [
    "pip install simplicial_operators"
   ]
  },
  {
   "cell_type": "markdown",
   "metadata": {
    "colab_type": "text",
    "id": "_2LGvggqhPrH"
   },
   "source": [
    "## Simplicial sets\n",
    "\n",
    "A **[simplicial set](https://en.wikipedia.org/wiki/Simplicial_set)** $X$ is a collection of sets $\\{X_n\\}_{n \\geq 0}$ together with **degeneracy maps** and **face maps**\n",
    "\n",
    "\\begin{equation*}\n",
    "s_i : X_n \\to X_{n+1} \\qquad d_i : X_n \\to X_{n-1}\n",
    "\\end{equation*}\n",
    "for $i = 0, \\dots, n$ satisfying the **simplicial identities**:\n",
    "\n",
    "\\begin{align*}\n",
    "d_i d_j &= d_{j-1} d_i  &\\text{ if } i &< j.  \\\\\n",
    "d_i s_j &= s_{j-1}d_i    &\\text{ if } i &< j. \\\\\n",
    "d_i s_j &= \\text{id}  &\\text{ if } i &= j \\text{ or } i = j. \\\\\n",
    "d_i s_j &= s_j d_{i-1}   &\\text{ if } i &> j. \\\\\n",
    "s_i s_j &= s_{j+1} s_i   &\\text{ if } i &≤ j.\n",
    "\\end{align*}\n",
    "\n",
    "We call an element $\\sigma \\in X_n$ a **simplex of dimension $n$** or simply an **$n$-simplex**. We say that $\\sigma$ is a **face** of a simplex $\\tau$ if it is the image of $\\tau$ via a composition of face maps. We say that $\\sigma$ is **degenerate** if it is the image via a degeneracy map of any simplex. \n",
    "\n",
    "A simplicial set is said to be **computable** if for any tuple of $0$-simplices there exists at most one simplex having it as its ordered collection of $0$-dimensional faces. Examples include: ordered simplicial complexes, directed simplicial complexes, and the nerve of categories."
   ]
  },
  {
   "cell_type": "markdown",
   "metadata": {},
   "source": [
    "## Simplicial operator \n",
    "The group of **simplicial operators** is the [group generated](https://en.wikipedia.org/wiki/Presentation_of_a_group) by all symbols $s_i$ and $d_j$ modulo the simplicial identities. We refer to the product in this group as **composition**.\n",
    "\n",
    "The **canonical representative** of a simplicial operators has the form\n",
    "\n",
    "\\begin{equation*}\n",
    "s_{u_1} \\cdots s_{u_p} d_{v_1} \\cdots d_{v_q}\n",
    "\\end{equation*}\n",
    "\n",
    "with $u_1 > \\cdots > u_p$ and $v_1 < \\cdots < v_q$.\n",
    "\n",
    "If $[v_0, \\dots, v_n]$ represents an $n$-simplex in a computable simplicial set. The action of any simplicial operator on it is defined by\n",
    "\n",
    "\\begin{equation}\n",
    "d_i [v_0, \\dots, v_n] = [v_0, \\dots, \\widehat{v}_i, \\dots, v_n]\n",
    "\\end{equation}\n",
    "\n",
    "\\begin{equation}\n",
    "s_i [v_0, \\dots, v_n] = [v_0, \\dots, v_i, v_i, \\dots, v_n].\n",
    "\\end{equation}\n",
    "\n",
    "We model this functionality with the class `Operator`."
   ]
  },
  {
   "cell_type": "code",
   "execution_count": null,
   "metadata": {},
   "outputs": [],
   "source": [
    "from simplicial_operators import Operator"
   ]
  },
  {
   "cell_type": "markdown",
   "metadata": {
    "colab_type": "text",
    "id": "5IkNmk_V6Mws"
   },
   "source": [
    "## Chains, tensor products and linear multioperators\n",
    "\n",
    "Let us consider the **normalized chains with $\\mathbb F_2$-coefficients** on a simplicial set \n",
    "\n",
    "\\begin{equation}\n",
    "N_n(X) = \\frac{\\mathbb F_2 \\{ X_n \\}}{\\mathbb F_2 \\{ s(X_{n-1}) \\}} \\ \\qquad\n",
    "\\partial_n = \\sum_{i=0}^{n} d_{i}\n",
    "\\end{equation}\n",
    "where $s(X_{n-1}) = \\bigcup_{i=0}^{n-1} s_i(X_{n-1})$. This is an example of a [chain complex](https://en.wikipedia.org/wiki/Chain_complex).\n",
    "\n",
    "The **tensor product** of two chain complexes $C$ and $C'$ is defined by\n",
    "\n",
    "$$\n",
    "(C \\otimes C')_n = \\bigoplus_{i+j=n} C_i \\otimes C'_j\\ \\qquad\n",
    "\\partial = \\partial \\otimes \\mathrm{id} + \\mathrm{id} \\otimes \\partial\n",
    "$$\n",
    "\n",
    "We model a **linear multioperator** \n",
    "$$\n",
    "\\sum_i op_1^{i} \\otimes \\cdots \\otimes op_n^{i}\n",
    "$$\n",
    "by a `set` of `tuples` of instances of `Operator`. Addition over this field is modeled by the function `__xor__` whose syntax is `^`.\n",
    "\n",
    "See this [notebook](https://colab.research.google.com/github/ammedmar/simplicial_operators/blob/master/notebooks/Operator_class.ipynb#scrollTo=EbmCIj237aYX) for an illustration of the basic fuctionalities of the `Operator class`."
   ]
  },
  {
   "cell_type": "code",
   "execution_count": null,
   "metadata": {},
   "outputs": [],
   "source": [
    "# to be absorved\n",
    "\n",
    "from simplicial_operators import Operator\n",
    "\n",
    "# Absorb display into the package\n",
    "def display(multiop):\n",
    "    '''tool to aid visualization of linear multioperators'''\n",
    "    if isinstance(multiop, Operator):\n",
    "        return str(multiop)\n",
    "    if isinstance(multiop, tuple):\n",
    "        return tuple(display(op) for op in multiop)\n",
    "    if isinstance(multiop, set):\n",
    "        return set(display(mop) for mop in multiop)\n",
    "    else:\n",
    "        raise TypeError('expected either: Operator, tuple of Operators, or set of these tuples')\n",
    "        \n",
    "# Absorb into the package\n",
    "def is_degenerate(multiop):\n",
    "    '''determines if a multioperator is degenerate'''\n",
    "    if isinstance(multiop, Operator):\n",
    "        return multiop.is_degeenrate\n",
    "    if isinstance(multiop, tuple):\n",
    "        deg = set(multiop[0].deg_maps)\n",
    "        for op in multiop:\n",
    "            deg = deg.intersection(set(op.deg_maps))\n",
    "        return bool(deg)\n",
    "    else:\n",
    "        raise TypeError('expected either Operator or tuple of Operators')\n",
    "        \n",
    "def is_nondegenerate(multiop):\n",
    "    return not is_degenerate(multiop)"
   ]
  },
  {
   "cell_type": "markdown",
   "metadata": {
    "colab_type": "text",
    "id": "JpYN7znh6Mw8"
   },
   "source": [
    "## Products and the EZ and AW maps\n",
    "\n",
    "The product of two simplicial sets $X$ and $Y$ is defined by\n",
    "\\begin{equation}\n",
    "(X \\times Y)_n = X_n \\times Y_n,\n",
    "\\end{equation}\n",
    "\n",
    "\\begin{equation}\n",
    "d_i(x \\times y) = d_i x \\times d_i y,\n",
    "\\end{equation}\n",
    "\n",
    "\\begin{equation}\n",
    "s_i(x \\times y) = s_i x \\times s_i y.\n",
    "\\end{equation}\n",
    "\n",
    "We notice that $N_*(X \\times Y) \\not= N_*(X) \\otimes N_*(Y)$. \n",
    "\n",
    "An **ordered partition** of a set $S$ is a tuple of disjoint subsets of $S$ whose union is $S$.\n",
    "\n",
    "### The **Alexander-Whitney map**\n",
    "\\begin{equation*}\n",
    "    AW: N_*(X \\times Y) \\to N_*(X) \\otimes N_*(Y)\n",
    "\\end{equation*}\n",
    "is defined for $x \\times y \\in N_*(X \\times Y)_n$ by\n",
    "\\begin{equation*}\n",
    "    AW(x \\times y) = \\sum_{i=0}^n d_{i+1} \\cdots d_n\\, x \\otimes d_0 \\cdots d_{i-1}\\, y.\n",
    "\\end{equation*}\n",
    "\n",
    "\n"
   ]
  },
  {
   "cell_type": "code",
   "execution_count": null,
   "metadata": {
    "colab": {},
    "colab_type": "code",
    "id": "20CHohBh6Mw-"
   },
   "outputs": [],
   "source": [
    "from simplicial_operators import alexander_whitney as aw"
   ]
  },
  {
   "cell_type": "markdown",
   "metadata": {
    "colab_type": "text",
    "id": "lTaMsYsQNa_8"
   },
   "source": [
    "#### Example\n",
    "For the map\n",
    "\\begin{equation*}\n",
    "AW : N_*(\\Delta^1 \\times \\Delta^2) \\to N_*(\\Delta^1) \\otimes N_*(\\Delta^2)\n",
    "\\end{equation*}\n",
    "we verify that\n",
    "\\begin{equation*}\n",
    "AW([0,0,0,1] \\times [0,1,2,2]) = \n",
    "[0] \\otimes [0,1,2,2] + [0,0] \\otimes [1,2,2] + \n",
    "[0,0,0] \\otimes [2,2] +[0,0,0,1] \\otimes [2].\n",
    "\\end{equation*}"
   ]
  },
  {
   "cell_type": "code",
   "execution_count": null,
   "metadata": {
    "colab": {},
    "colab_type": "code",
    "id": "JX-oo8NJ6MxG",
    "outputId": "30f8a437-2a6a-4a29-f4e0-87821e1b764e"
   },
   "outputs": [],
   "source": [
    "{(biop[0]([0,0,0,1]), biop[1]([0,1,2,2])) for biop in aw(3).values()}"
   ]
  },
  {
   "cell_type": "markdown",
   "metadata": {
    "colab_type": "text",
    "id": "ZlIZlZ7Y6MxO"
   },
   "source": [
    "### The **Eilenberg-Zilber map**\n",
    "\n",
    "\\begin{equation*}\n",
    "    EZ: N_*(X) \\otimes N_*(Y) \\to N_*(X \\times Y)\n",
    "\\end{equation*}\n",
    "is defined for $x \\otimes y \\in N_p(X) \\otimes N_q(Y)$ by\n",
    "\\begin{equation*}\n",
    "    EZ(x \\otimes y) = \n",
    "    \\sum s_{v_p} \\cdots s_{v_1}\\, x \\times s_{w_q} \\cdots s_{w_1}\\, y\n",
    "\\end{equation*}\n",
    "where the sum is over all ordered partitions \n",
    "\\begin{equation*}\n",
    "\\big( \\{v_1 < \\cdots < v_p\\},\\ \\{w_1 < \\cdots < w_q\\} \\big)\n",
    "\\end{equation*}\t\n",
    "of $\\{0,\\dots,p+q-1\\}$."
   ]
  },
  {
   "cell_type": "code",
   "execution_count": null,
   "metadata": {
    "colab": {},
    "colab_type": "code",
    "id": "8hoOltxy6MxP"
   },
   "outputs": [],
   "source": [
    "from simplicial_operators import eilenberg_zilber as ez"
   ]
  },
  {
   "cell_type": "markdown",
   "metadata": {
    "colab_type": "text",
    "id": "-JKdeTwE4f1C"
   },
   "source": [
    "#### Example\n",
    "For the map\n",
    "\\begin{equation*}\n",
    "EZ : N_*(\\Delta^1) \\otimes N_*(\\Delta^2) \\to N_*(\\Delta^1 \\times \\Delta^2)\n",
    "\\end{equation*}\n",
    "\n",
    "we verify that\n",
    "\n",
    "\\begin{equation*}\n",
    "EZ([0,1] \\otimes [0,1,2]) = [0,0,0,1] \\times [0,1,2,2] + [0,0,1,1] \\times [0,1,1,2] + [0,1,1,1] \\times [0,0,1,2].\n",
    "\\end{equation*}"
   ]
  },
  {
   "cell_type": "code",
   "execution_count": null,
   "metadata": {
    "colab": {},
    "colab_type": "code",
    "id": "0osev5Sf6MxX",
    "outputId": "8ef1e2c6-a7cf-44ba-a461-510cf4e28bcb"
   },
   "outputs": [],
   "source": [
    "{(biop[0]([0,1]), biop[1]([0,1,2])) for biop in ez(1,2)}"
   ]
  },
  {
   "cell_type": "markdown",
   "metadata": {
    "colab_type": "text",
    "id": "iNhf8c3yC_QA"
   },
   "source": [
    "#### Example\n",
    "\n",
    "The map\n",
    "\\begin{equation*}\n",
    "EZAW : C_\\bullet(\\Delta^2 \\times \\Delta^2) \\to C_\\bullet(\\Delta^2 \\times \\Delta^2)\n",
    "\\end{equation*}\n",
    "\n",
    "is not equal to the identity. We verify that\n",
    "\n",
    "\\begin{equation*}\n",
    "EZAW([0,1,2] \\otimes [0,1,2]) =  [0, 0, 0] \\otimes [0, 1, 2] + [0, 0, 1] \\otimes [1, 2, 2] + [0, 1, 1] \\otimes [1, 1, 2] + [0, 1, 2] \\otimes  [2, 2, 2].\n",
    "\\end{equation*}"
   ]
  },
  {
   "cell_type": "code",
   "execution_count": null,
   "metadata": {},
   "outputs": [],
   "source": [
    "def ezaw(n):\n",
    "    e_z, a_w = ez(n), aw(n)\n",
    "    answer = set()\n",
    "    for i in range(n+1):\n",
    "        answer ^= {(biop[0].compose(a_w[(-i,-n+i)][0]),\n",
    "                    biop[1].compose(a_w[(-i,-n+i)][1]))\n",
    "                    for biop in e_z[(i,n-i)]}\n",
    "        \n",
    "    return answer\n",
    "\n",
    "{(biop[0]([0,1,2]), biop[1]([0,1,2])) for biop in ezaw(2)}"
   ]
  },
  {
   "cell_type": "markdown",
   "metadata": {
    "colab_type": "text",
    "id": "0QVfIYSs6Mxd"
   },
   "source": [
    "### The Shih homotopy $SHI: EZAW \\Rightarrow id$\n",
    "\n",
    "The composition $EZAW$ is chain homotopic to the identity via the map\n",
    "\n",
    "\\begin{equation*}\n",
    "SHI_n : N_n(X \\times Y) \\to N_{n+1}(X \\times Y)\n",
    "\\end{equation*}\n",
    "recursively defined by \n",
    "\\begin{equation*}\n",
    "SHI_n = \n",
    "\\begin{cases} \n",
    "0 & n = 0 \\\\\n",
    "SHI'_{n-1} + EZAW ' (s_0 \\otimes s_0) & n > 0\n",
    "\\end{cases}\n",
    "\\end{equation*}\n",
    "where \n",
    "\\begin{equation*}\n",
    "\\big( s_{v_{l}} \\cdots s_{v_1} d_{i_1} \\cdots d_{i_p} \\big) ' = s_{v_{l}+1} \\cdots s_{v_1+1} d_{i_1+1} \\cdots d_{i_p+1}.\n",
    "\\end{equation*}"
   ]
  },
  {
   "cell_type": "code",
   "execution_count": null,
   "metadata": {
    "colab": {},
    "colab_type": "code",
    "id": "Ua0YkBkn6Mxe"
   },
   "outputs": [],
   "source": [
    "from simplicial_operators import shih"
   ]
  },
  {
   "cell_type": "markdown",
   "metadata": {
    "colab_type": "text",
    "id": "yDGPBbKONMPZ"
   },
   "source": [
    "#### Example\n",
    "\n",
    "For the map\n",
    "\\begin{equation*}\n",
    "SHI : C_\\bullet(\\Delta^2 \\times \\Delta^2) \\to C_\\bullet(\\Delta^2 \\times \\Delta^2)\n",
    "\\end{equation*}\n",
    "\n",
    "we verify that\n",
    "\n",
    "\\begin{equation*}\n",
    "SHI([0,1] \\times [0,1]) = [0, 0, 1] \\times [0, 1, 1]\n",
    "\\end{equation*}\n",
    "and\n",
    "\n",
    "\\begin{equation*}\n",
    "SHI([0,1,2] \\times [0,1,2]) = \n",
    "[0, 0, 0, 1] \\times [0, 1, 2, 2] + \n",
    "[0, 0, 1, 1] \\times [0, 1, 1, 2] + \n",
    "[0, 0, 1, 2] \\times [0, 2, 2, 2] +\n",
    "[0, 1, 1, 2] \\times [0, 1, 2, 2]  \n",
    "\\end{equation*}"
   ]
  },
  {
   "cell_type": "code",
   "execution_count": null,
   "metadata": {
    "colab": {
     "base_uri": "https://localhost:8080/",
     "height": 125
    },
    "colab_type": "code",
    "id": "qe0_axqmIfl7",
    "outputId": "b27a12a5-d157-4f4c-b502-84141bd01da0"
   },
   "outputs": [],
   "source": [
    "answer1 = set()\n",
    "for biop in shih(1):\n",
    "    if is_nondegenerate(biop):\n",
    "        answer1 ^= {(biop[0]([0,1]), biop[1]([0,1]))}\n",
    "\n",
    "print(answer1,'\\n\\nand\\n')\n",
    "\n",
    "answer2 = set()\n",
    "for biop in shih(2):\n",
    "    if is_nondegenerate(biop):\n",
    "        answer2 ^= {(biop[0]([0,1,2]), biop[1]([0,1,2]))}\n",
    "\n",
    "print(answer2)"
   ]
  },
  {
   "cell_type": "markdown",
   "metadata": {
    "colab_type": "text",
    "id": "G9cYyWtyO8h_"
   },
   "source": [
    "### Verifying $AWEZ = id$ and $EZAW \\sim id$ \n",
    "\n",
    "We define functions that verify that the composition\n",
    "\n",
    "\\begin{equation}\n",
    "N_*(X) \\otimes N_*(Y) \n",
    "\\stackrel{EZ}{\\longrightarrow} N_{*}(X \\times Y)\n",
    "\\stackrel{AW}{\\longrightarrow} N_*(X) \\otimes N_*(Y)\n",
    "\\end{equation}\n",
    "\n",
    "is the identity and that $SHI$ is a chain homotopy between the identity and the composition\n",
    "\n",
    "\\begin{equation}\n",
    "N_*(X \\times Y) \n",
    "\\stackrel{AW}{\\longrightarrow} N_*(X) \\otimes N_*(Y)\n",
    "\\stackrel{EZ}{\\longrightarrow} N_{*}(X \\times Y).\n",
    "\\end{equation}\n",
    "\n",
    "I.e.\n",
    "\\begin{equation}\n",
    "\\partial \\, SHI + SHI \\, \\partial = id + EZAW.\n",
    "\\end{equation}"
   ]
  },
  {
   "cell_type": "code",
   "execution_count": null,
   "metadata": {
    "colab": {},
    "colab_type": "code",
    "id": "GjUS80nY6Mxz"
   },
   "outputs": [],
   "source": [
    "from collections import Counter\n",
    "from itertools import product\n",
    "\n",
    "def is_awez_equal_to_id(p,q):\n",
    "    '''returns True if the composition AWEZ restricted to bidegree \n",
    "    (p,q) is the identity and False otherwise'''\n",
    "    \n",
    "    comps = {biop1.compose(biop2) for biop1, biop2 in \n",
    "                                      product(aw(p+q).values(), ez(p,q))}\n",
    "    \n",
    "    non_deg_comps = {biop for biop in comps if  not biop.op1.is_degenerate \n",
    "                                            and not biop.op2.is_degenerate}\n",
    "    \n",
    "    if [non_deg_comps].sort() is [Bioperator()].sort():\n",
    "        return True\n",
    "    else:\n",
    "        return False\n",
    "\n",
    "def boundary(n):\n",
    "    '''returns the bilinear operators defining the boundary in N_n(X x Y)'''\n",
    "    \n",
    "    return {Bioperator(face_maps1 = [i], \n",
    "                       face_maps2 = [i]) for i in range(n+1)}\n",
    "\n",
    "def is_ezaw_homotopic_to_id(n):\n",
    "    '''returns True if in degree n the composition EZAW is chain homotopic to the \n",
    "    identity via SHI and False if not'''\n",
    "    \n",
    "    # \\partial \\circ SHI\n",
    "    a = [biop1.compose(biop2) for biop1, biop2 in product(boundary(n+1), shih(n))]\n",
    "    # SHI \\circ \\partial\n",
    "    b = [biop1.compose(biop2) for biop1, biop2 in product(shih(n-1), boundary(n))]\n",
    "    # EZAW\n",
    "    c = list(ezaw(n))\n",
    "    # id\n",
    "    d = [Bioperator()]\n",
    "    \n",
    "    answer = Counter([str(biop) for biop in (a+b+c+d) if not biop.is_degenerate])\n",
    "    \n",
    "    # cheking all coefficients are 0 mod 2\n",
    "    if {0} == {i%2 for i in answer.values()}:\n",
    "        return True \n",
    "    else: \n",
    "        return False"
   ]
  },
  {
   "cell_type": "code",
   "execution_count": null,
   "metadata": {
    "colab": {},
    "colab_type": "code",
    "id": "nT3S2Hxj6Mx3",
    "outputId": "7440869c-c026-45b0-df05-180672c01f5d"
   },
   "outputs": [],
   "source": [
    "p, q, n = 3,5,7 \n",
    "\n",
    "print(f'is AWEZ equal to the identity in bidegree {p,q}?')\n",
    "\n",
    "if is_awez_equal_to_id(p,q):\n",
    "    print('Yes!')\n",
    "    \n",
    "else:\n",
    "    print('No!')\n",
    "    \n",
    "print(f'is AWEZ chain homotopic to the identity in degree {n}?')\n",
    "\n",
    "if is_ezaw_homotopic_to_id(n):\n",
    "    print('Yes!')\n",
    "    \n",
    "else:\n",
    "    print('No!')"
   ]
  },
  {
   "cell_type": "markdown",
   "metadata": {
    "colab_type": "text",
    "id": "fcLSj_IMZc6K"
   },
   "source": [
    "## TO-DO\n",
    "\n",
    "Add the Frobenius Structure as described [here](https://ncatlab.org/nlab/show/Frobenius+monoidal+functor)\n",
    "\n",
    "Write better verifications of $AWEZ = id$ and $EZAW \\sim id$"
   ]
  }
 ],
 "metadata": {
  "colab": {
   "collapsed_sections": [],
   "name": "Products and the functor of chains; the EZ-AW bilax structure.ipynb",
   "provenance": [],
   "version": "0.3.2"
  },
  "kernelspec": {
   "display_name": "Python 3",
   "language": "python",
   "name": "python3"
  },
  "language_info": {
   "codemirror_mode": {
    "name": "ipython",
    "version": 3
   },
   "file_extension": ".py",
   "mimetype": "text/x-python",
   "name": "python",
   "nbconvert_exporter": "python",
   "pygments_lexer": "ipython3",
   "version": "3.7.3"
  }
 },
 "nbformat": 4,
 "nbformat_minor": 1
}
