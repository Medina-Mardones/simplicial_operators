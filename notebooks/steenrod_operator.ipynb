{
 "cells": [
  {
   "cell_type": "markdown",
   "metadata": {},
   "source": [
    "# Steenrod cup-$i$ products and squares\n",
    "\n",
    "## Abstract"
   ]
  },
  {
   "cell_type": "code",
   "execution_count": null,
   "metadata": {},
   "outputs": [],
   "source": [
    "pip install simplicial_operators"
   ]
  },
  {
   "cell_type": "markdown",
   "metadata": {},
   "source": [
    "## Introduction\n",
    "\n",
    "In 1947, Steenrod introduced by means of formulae the cup-$i$ products on the cochains of spaces. These bilinear maps give rise to the natural cohomology operations \n",
    "\n",
    "\\begin{equation*}\n",
    "Sq^k : H^*(X; \\mathbb F_2) \\to H^{*}(X; \\mathbb F_2)\n",
    "\\end{equation*} \n",
    "\n",
    "laying at the heart of stable homotopy theory.\n",
    "\n",
    "As motivation for the practical use of Steenrod squares $Sq^k$ here are a few situations where they are a convenient distinguishing tool.\n",
    "\n",
    "1. The real projective plane (sphere with antipodal points identified) and the wedge of a circle and a sphere (their union with a point from each identified together) have, with $\\mathbb F_2$-coefficients, the same betti numbers, yet the rank of $Sq^1$ tells them apart.\n",
    "\n",
    "\n",
    "2. Similarly, the complex projective plane and the wedge of a 2-sphere and a 4-sphere have the same betti numbers with any coefficients, yet the rank of $Sq^2$ tells them apart.\n",
    "\n",
    "\n",
    "3. The suspensions (join with two points) of the two spaces above have the same betti numbers and also isomorphic cohomology rings (cup product), yet $Sq^2$ tells them apart.\n",
    "\n",
    "Steenrod's formulae for the cup-$i$ products extend the Alexander-Whitney product on cochains. This non-commutative product induces the commutative algebra structure in cohomology, and we can interpret the higher cup-$i$ products \n",
    "\n",
    "\\begin{equation*}\n",
    "\\smallsmile_i\\ : N^*(X; \\mathbb F_2) \\otimes N^*(X; \\mathbb F_2) \\to N^*(X; \\mathbb F_2)\n",
    "\\end{equation*}\t\n",
    "\n",
    "as coherent homotopies enforcing the derived commutativity at the cochain level. \n",
    "\n",
    "Let us review their description as presented in [MM18]. Let $P{n \\choose k}$ be the set of all $U = \\{0 \\leq u_1 < \\dots < u_k \\leq n\\}$. For any such $U$ define the composition of face maps \n",
    "\\begin{equation*}\n",
    "d_U = d_{u_1} \\cdots \\, d_{u_k}\n",
    "\\end{equation*}\n",
    "and the pair\n",
    "\\begin{equation*}\n",
    "\\begin{split}\n",
    "U^- &= \\{ u_i \\in U\\, :\\, u_i  \\not\\equiv i \\text{ mod } 2 \\} \\\\\n",
    "U^+ &= \\{ u_i \\in U\\, :\\, u_i  \\equiv i \\text{ mod } 2 \\}.\n",
    "\\end{split}\n",
    "\\end{equation*}\n",
    "\n",
    "For any simplicial set $X$ its **Steenrod cup-$i$ coproducts**\n",
    "\n",
    "\\begin{equation}\n",
    "\\Delta_i : N_*(X; \\mathbb F_2) \\to N_*(X; \\mathbb F_2) \\otimes N_*(X; \\mathbb F_2)\n",
    "\\end{equation}\n",
    "\n",
    "are defined by\n",
    "\n",
    "\\begin{equation} \\label{equation: steenrod diagonal}\n",
    "\\Delta_i (x)\\ =\n",
    "\\sum_{U \\in P{n \\choose n-i}} d_{U^-}\\, x \\otimes d_{U^+}\\,x\n",
    "\\end{equation}\n",
    "where $x \\in X_n$.\n",
    "\n",
    "The cup product and Steenrod squares in cohomology are obtained from the Steenrod cup-$i$ coalgebra by defining\n",
    "\n",
    "\\begin{equation*}\n",
    "[\\alpha] \\smallsmile [\\beta] = \\big[ (\\alpha \\otimes \\beta) \\Delta_0 \\big]\n",
    "\\end{equation*}\n",
    "and\n",
    "\\begin{equation*}\n",
    "Sq^k[\\alpha] = \\big[ (\\alpha \\otimes \\alpha) \\Delta_{|\\alpha| - k} \\big]. \n",
    "\\end{equation*}\n",
    "\n",
    "The relationship between these two cohomological structures is known as the Cartan Formula. See this notebook for effective construcions of cochains enforcing this cohomological relation at the cochain level.\n"
   ]
  },
  {
   "cell_type": "code",
   "execution_count": null,
   "metadata": {
    "colab": {
     "base_uri": "https://localhost:8080/",
     "height": 35
    },
    "colab_type": "code",
    "executionInfo": {
     "elapsed": 379,
     "status": "ok",
     "timestamp": 1551905543843,
     "user": {
      "displayName": "Anibal Medina",
      "photoUrl": "https://lh3.googleusercontent.com/-pRZB6-rrJYg/AAAAAAAAAAI/AAAAAAAAhX0/1QZjkRwy2h4/s64/photo.jpg",
      "userId": "07528785168146668478"
     },
     "user_tz": 300
    },
    "id": "ndJ5owiBmJT1",
    "outputId": "9f0d2cf4-e807-47a7-eccc-322bae2e7e03"
   },
   "outputs": [],
   "source": [
    "from simplicial_operators import Operator, steenrod_diagonal"
   ]
  },
  {
   "cell_type": "code",
   "execution_count": null,
   "metadata": {},
   "outputs": [],
   "source": [
    "print(Operator.display(steenrod_diagonal(1,3)))"
   ]
  }
 ],
 "metadata": {
  "colab": {
   "name": "Steenrod-cup_i-coproducts.ipynb",
   "provenance": [],
   "version": "0.3.2"
  },
  "kernelspec": {
   "display_name": "Python 3",
   "language": "python",
   "name": "python3"
  },
  "language_info": {
   "codemirror_mode": {
    "name": "ipython",
    "version": 3
   },
   "file_extension": ".py",
   "mimetype": "text/x-python",
   "name": "python",
   "nbconvert_exporter": "python",
   "pygments_lexer": "ipython3",
   "version": "3.7.3"
  }
 },
 "nbformat": 4,
 "nbformat_minor": 1
}
