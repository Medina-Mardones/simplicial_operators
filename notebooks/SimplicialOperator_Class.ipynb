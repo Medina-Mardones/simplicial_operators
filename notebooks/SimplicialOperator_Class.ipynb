{
 "cells": [
  {
   "cell_type": "markdown",
   "metadata": {
    "colab_type": "text",
    "id": "xn96JUgV-Yc5"
   },
   "source": [
    "# SimplicialOperator and SimplicialBioperator classes\n",
    "\n",
    "## Abstract\n",
    "\n",
    "We present a Python implementation of a class whose instances model simplicial operators. This class supports composition of operators and their action on computable simplicial sets. We also implement a class of pairs of simplicial operators acting on the tensor product of normalized chains.\n",
    "\n",
    "## Simplicial sets and  the SimplicialOperator class \n",
    "\n",
    "A **[simplicial set](https://en.wikipedia.org/wiki/Simplicial_set)** $X$ is a collection of set $\\{X_n\\}_{n \\geq 0}$ together with **degeneracy maps** and **face maps**\n",
    "\\begin{equation*}\n",
    "s_i : X_n \\to X_{n+1} \\qquad d_i : X_n \\to X_{n-1}\n",
    "\\end{equation*}\n",
    "for $i = 0, \\dots, n$ satisfying the **simplicial identities**:\n",
    "\n",
    "\\begin{align*}\n",
    "d_i d_j &= d_{j-1} d_i  &\\text{ if } i &< j.  \\\\\n",
    "d_i s_j &= s_{j-1}d_i    &\\text{ if } i &< j. \\\\\n",
    "d_i s_j &= \\text{id}  &\\text{ if } i &= j \\text{ or } i = j. \\\\\n",
    "d_i s_j &= s_j d_{i-1}   &\\text{ if } i &> j. \\\\\n",
    "s_i s_j &= s_{j+1} s_i   &\\text{ if } i &≤ j.\n",
    "\\end{align*}\n",
    "\n",
    "We call an element $\\sigma \\in X_n$ a **simplex of dimension $n$** or **$n$-simplex**. We say that $\\sigma$ is a **face** of a simplex $\\tau$ if it is the image of $\\tau$ via a composition of face maps. We say that $\\sigma$ is **degenerate** if it is the image via a degeneracy map of any simplex. \n",
    "\n",
    "A **simplicial map** $F : X \\to Y$ is a collection of functions $F_n : X_n \\to Y_n$ commuting with degeneracy and face maps. \n",
    "\n",
    "The set of **simplicial operators** contains the equivalence classes of formal concatenations of symbols $s_i$ and $d_j$ modulo the simplicial identities. A simplicial operator can be uniquely written in the **canonical form**:\n",
    "\n",
    "\\begin{equation*}\n",
    "s_{u_1} \\cdots s_{u_p} d_{v_1} \\cdots d_{v_q}\n",
    "\\end{equation*}\n",
    "\n",
    "with $u_1 > \\cdots > u_p$ and $v_1 < \\cdots < v_q$.\n",
    "\n",
    "A simplicial set is said to be **computable** if for any $n$-tuple of $0$-dimensional simplices there exists at most one simplex having it as its ordered collection of $0$-dimensional faces. Examples include: ordered simplicial complexes, directed simplicial complexes, and the nerve of categories.\n",
    "\n",
    "If $[v_0, \\dots, v_n]$ represents an $n$-simplex in a computable simplicial set. The action of any simplicial operator on it is defined by\n",
    "\n",
    "\\begin{equation}\n",
    "d_i [v_0, \\dots, v_n] = [v_0, \\dots, \\widehat{v}_i, \\dots, v_n]\n",
    "\\end{equation}\n",
    "\n",
    "\\begin{equation}\n",
    "s_i [v_0, \\dots, v_n] = [v_0, \\dots, v_i, v_i, \\dots, v_n].\n",
    "\\end{equation}\n"
   ]
  },
  {
   "cell_type": "code",
   "execution_count": null,
   "metadata": {
    "colab": {},
    "colab_type": "code",
    "id": "3PEkEMInB-Oh"
   },
   "outputs": [],
   "source": [
    "from simplicial_operators import SimplicialOperator"
   ]
  },
  {
   "cell_type": "markdown",
   "metadata": {},
   "source": [
    "### Example\n",
    "\n",
    "We will model the operator \n",
    "$$op = s_0s_1d_1d_0$$ \n",
    "whose action on the simplex $[0,1,2,3]$ is $[1, 1, 3, 3]$.\n",
    "\n",
    "Its canonical representative is \n",
    "$$s_2s_0d_0d_2$$\n",
    "and we have $op\\ op = op$."
   ]
  },
  {
   "cell_type": "code",
   "execution_count": null,
   "metadata": {},
   "outputs": [],
   "source": [
    "op = SimplicialOperator([0,1],[1,0])\n",
    "\n",
    "print(f'The canonical representative {op} of our operator is stored.\\n')\n",
    "\n",
    "print(f'Its action on [0,1,2,3] is {op(range(4))}\\n')\n",
    "\n",
    "print(f'We verify this operator is idempotent by composing it with itself and obtaining {op.compose(op)}.')"
   ]
  },
  {
   "cell_type": "markdown",
   "metadata": {},
   "source": [
    "## Chains, tensor products and simplicial bioperators\n",
    "\n",
    "Let us consider the **normalized chains with $\\mathbb F_2$-coefficients** on a simplicial set \n",
    "\n",
    "\\begin{equation}\n",
    "N_n(X) = \\frac{\\mathbb F_2 \\{ X_n \\}}{\\mathbb F_2 \\{ s(X_{n-1}) \\}} \\ \\qquad\n",
    "\\partial_n = \\sum_{i=0}^{n} d_{i}\n",
    "\\end{equation}\n",
    "where $s(X_{n-1}) = \\bigcup_{i=0}^{n-1} s_i(X_{n-1})$. \n",
    "\n",
    "A **normalized linear simplicial operator** is a formal sum of simplicial operators acting linearly on normalized chains. \n",
    "\n",
    "\\begin{equation}\n",
    "\\sum d_{u_1} \\cdots d_{u_p.}\n",
    "\\end{equation}"
   ]
  },
  {
   "cell_type": "code",
   "execution_count": null,
   "metadata": {},
   "outputs": [],
   "source": [
    "from itertools import product\n",
    "\n",
    "class LinearSimpOp(set):\n",
    "    \n",
    "    def __init__(self, operators, normalized=True):\n",
    "        if normalized:\n",
    "            super().__init__({op for op in operators if not op.is_degenerate})\n",
    "        if not normalized:\n",
    "            super().__init__(operators)\n",
    "    \n",
    "    def __act__(self, simplex):\n",
    "        pass\n",
    "    \n",
    "    def __add__(self, other):\n",
    "        return LinearSimpOp(self^other)\n",
    "    \n",
    "    def __repr__(self):\n",
    "        return super().__repr__()\n",
    "        \n",
    "    def __str__(self):\n",
    "        return ''.join(f' + {i}' for i in self)[3:]"
   ]
  },
  {
   "cell_type": "markdown",
   "metadata": {},
   "source": [
    "The **tensor product** of two chain complexes is $C$ and $C'$ is defined by\n",
    "\n",
    "\\begin{equation}\n",
    "(C \\otimes C')_n = \\bigoplus_{i+j=n} C_i \\otimes C'_j\\ \\qquad\n",
    "\\partial = \\partial \\otimes \\mathrm{id} + \\mathrm{id} \\otimes \\partial\n",
    "\\end{equation}\n",
    "\n",
    "A **simplicial bioperator** is the tensor product of two linear simplicial operators acting on $N_*(X) \\otimes N_*(Y)$ bilinearly. \n",
    "\n",
    "We adapt the SimplicialOperator class to model simplicial bioperators of the form\n",
    "\n",
    "\\begin{equation*}\n",
    "s_{u_1} \\cdots s_{u_p} d_{v_1} \\cdots d_{v_q}\n",
    "\\otimes\n",
    "s_{r_1} \\cdots s_{r_l} d_{s_1} \\cdots d_{s_t.}\n",
    "\\end{equation*}"
   ]
  },
  {
   "cell_type": "code",
   "execution_count": null,
   "metadata": {},
   "outputs": [],
   "source": [
    "class SimplicialBioperator:\n",
    "    '''\n",
    "    Models a simplicial bioperator of form: \n",
    "\n",
    "    s ... s d ... d (x) s ... s d ... d\n",
    "    \n",
    "    represented in the canonical form\n",
    "    \n",
    "    s > ... > s d < ... < d (x) s > ... > s d < ... < d\n",
    "    '''\n",
    "    \n",
    "    def __init__(self, deg_maps1=[], face_maps1=[], deg_maps2=[], face_maps2=[]):\n",
    "    \n",
    "        self.op1 = SimplicialOperator(deg_maps1, face_maps1)\n",
    "        self.op2 = SimplicialOperator(deg_maps2, face_maps2)\n",
    "    \n",
    "    def __repr__(self):\n",
    "        \n",
    "        s1, d1 = self.op1.deg_maps, self.op1.face_maps\n",
    "        s2, d2 = self.op2.deg_maps, self.op2.face_maps\n",
    "    \n",
    "        return (f'Bioperator(deg_maps1={s1}, face_maps1={d1}, '\n",
    "                         + f'deg_maps2={s2}, face_maps2={d2}')\n",
    "    \n",
    "    def __str__(self):\n",
    "\n",
    "        return(str(self.op1) + ' x ' + str(self.op2))\n",
    "    \n",
    "    def __call__(self, spx1, spx2):\n",
    "        \n",
    "        return self.op1(spx1), self.op2(spx2)\n",
    "    \n",
    "    def bidegree(self):\n",
    "        '''returns the bidegree of the operator as a pair of int'''\n",
    "    \n",
    "        return self.op1.degree(), self.op2.degree()\n",
    "    \n",
    "    def is_degenerate(self):\n",
    "        '''returns True if the operator is degenerate and False if not'''\n",
    "        \n",
    "        s1 = set(self.op1.deg_maps)\n",
    "        s2 = set(self.op2.deg_maps)\n",
    "        \n",
    "        return bool(s1.intersection(s2))\n",
    "    \n",
    "    def compose(self, other):\n",
    "        '''returns the operator self other'''\n",
    "        \n",
    "        op1 = self.op1.compose(other.op1)\n",
    "        op2 = self.op2.compose(other.op2)\n",
    "        \n",
    "        return SimplicialBioperator(op1.deg_maps, op1.face_maps, \n",
    "                                    op2.deg_maps, op2.face_maps)"
   ]
  },
  {
   "cell_type": "markdown",
   "metadata": {},
   "source": [
    "### Example\n",
    "\n",
    "We will model the operator \n",
    "$$biop = s_0s_1d_1d_0 \\otimes s_1 d_0 d_1$$ \n",
    "whose action on the simplex $[0,1,2,3]$ is $[1, 1, 3, 3]$.\n",
    "\n",
    "Its canonical representative is \n",
    "$$s_2s_0d_0d_2 x s_1d_0d_1$$\n",
    "and we have $op\\ op = op$."
   ]
  },
  {
   "cell_type": "code",
   "execution_count": null,
   "metadata": {},
   "outputs": [],
   "source": [
    "biop = SimplicialBioperator([0,1],[1,0],[1],[0,1])\n",
    "\n",
    "print(f'The canonical representative {biop} of our operator is stored.\\n')\n",
    "\n",
    "action = biop(range(4),range(5))\n",
    "print(f'Its action on [0,1,2,3] x [0,1,2,3,4] is {action[0]} x {action[1]}\\n')\n",
    "\n",
    "print(f'The composition with itself is {biop.compose(biop)}.')\n",
    "\n",
    "biop"
   ]
  }
 ],
 "metadata": {
  "colab": {
   "collapsed_sections": [],
   "name": "SimplicialOperator Class.ipynb",
   "provenance": [],
   "version": "0.3.2"
  },
  "kernelspec": {
   "display_name": "Python 3",
   "language": "python",
   "name": "python3"
  },
  "language_info": {
   "codemirror_mode": {
    "name": "ipython",
    "version": 3
   },
   "file_extension": ".py",
   "mimetype": "text/x-python",
   "name": "python",
   "nbconvert_exporter": "python",
   "pygments_lexer": "ipython3",
   "version": "3.6.8"
  }
 },
 "nbformat": 4,
 "nbformat_minor": 1
}
