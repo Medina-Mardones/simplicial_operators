{
 "cells": [
  {
   "cell_type": "markdown",
   "metadata": {},
   "source": [
    "# The Barratt-Eccles operad $\\mathcal{E}$\n",
    "\n",
    "We assume familiarity with the notions of [group action](https://en.wikipedia.org/wiki/Group_action_(mathematics)) and [operad](https://en.wikipedia.org/wiki/Operad). We describe the Barratt-Eccles operad as introduced by Berger-Fresse in [[BF04]](https://arxiv.org/abs/math/0109158).\n",
    "\n",
    "For a positive integer $r$ let $\\Sigma_r$ be the group of permutations of $r$ elements and\n",
    "\n",
    "\\begin{equation*}\n",
    "{\\circ}_{\\Sigma} : \\Sigma_r \\times \\Sigma_{s_1} \\times \\cdots \\times \\Sigma_{s_r} \\ \\to \\\n",
    "\\Sigma_r \\ltimes \\big(\\Sigma_{s_1} \\times \\cdots \\times \\Sigma_{s_r}\\big) \\ \\to \\ \n",
    "\\Sigma_{s_1 + \\cdots + s_{r}} \n",
    "\\end{equation*}\n",
    "\n",
    "the usual composition of permutations.\n",
    "\n",
    "For a positive integer $r$ define the simplicial set $E(r)$ by \n",
    "\\begin{equation*}\n",
    "\\begin{split}\n",
    "E(r)_n &= \\{ (\\sigma_0, \\dots, \\sigma_n)\\ |\\ \\sigma_i \\in \\Sigma_r\\} \\\\\n",
    "d_i(\\sigma_0, \\dots, \\sigma_n) &= (\\sigma_0, \\dots, \\widehat{\\sigma}_i, \\dots, \\sigma_n) \\\\\n",
    "s_i(\\sigma_0, \\dots, \\sigma_n) &= (\\sigma_0, \\dots, \\sigma_i, \\sigma_i, \\dots, \\sigma_n). \\\\\n",
    "\\end{split}\n",
    "\\end{equation*}\n",
    "\n",
    "We consider $E(r)$ equipped with the action of $\\Sigma_r$ given by \n",
    "\n",
    "\\begin{equation*}\n",
    "\\sigma \\big((\\sigma_0, \\dots, \\sigma_n)\\big) = (\\sigma\\sigma_0, \\dots, \\sigma\\sigma_n).\n",
    "\\end{equation*} \n",
    "\n",
    "Let\n",
    "\\begin{equation*}\n",
    "{\\circ}_{E}: E(r) \\times E(s_1) \\times \\cdots \\times E(s_r) \\to E(s_1 + \\cdots + s_r)\n",
    "\\end{equation*}\n",
    "\n",
    "be defined by applying ${\\circ}_{\\Sigma}$ coordinatewise. \n",
    "\n",
    "For $r \\geq 0$, let\n",
    "\\begin{equation*}\n",
    "\\mathcal E(r) = N_*(E(r))\n",
    "\\end{equation*}\n",
    "\n",
    "be edowed with the induced $\\Sigma_r$-action. Define an operadic compositions ${\\circ}_{\\mathcal E}$ on $\\{\\mathcal E(r)\\}_{r \\geq 0}$ by\n",
    "\n",
    "$$\n",
    "\\mathcal E(r) \\otimes \\mathcal E(s_1) \\otimes \\cdots \\otimes \\mathcal E(s_r)  \\stackrel{EZ^r}{\\longrightarrow} \n",
    "N_* \\big( E(r) \\otimes E(s_1) \\otimes \\cdots \\otimes E(s_r) \\big) \\stackrel{N_*({\\circ}_{E})}{\\longrightarrow} \n",
    "\\mathcal E(s_1 + \\cdots + s_r)\n",
    "$$\n",
    "\n",
    "where $EZ^{r}$ stand recursively for $EZ(\\mathrm{id} \\otimes EZ^{r-1})$ with $EZ^1 = EZ$.\n",
    "\n",
    "The resulting operad $\\mathcal E$ is referred to as the **Barratt-Eccles operad**. \n",
    "\n",
    "An $\\mathbb F_2$-linear combination of basis elements of the Barrat-Eccles operad if modeled by a `set` of `tuple` of `tuple` of `int` and addition by the function `__xor__` with syntax `^`."
   ]
  },
  {
   "cell_type": "markdown",
   "metadata": {},
   "source": [
    "stored here in case:\n",
    "\n",
    "## Representable simplicial sets\n",
    "\n",
    "For a non-negative integer $n$ define the **$n$-representable simplicial set** $\\Delta^n$ as follows. Its $m$-simplices are the order preserving functions from $\\{0, \\dots, m\\}$ to $\\{0, \\dots, n\\}$. The $i$-th face map $d_i$ applied to an $m$-simplex is defined to be its composition with the unique injective order preserving function from $\\{0, \\dots, m-1\\}$ to $\\{0, \\dots, m\\}$ missing $i$. The $i$-th degeneracy map $s_i$ applied to an $m$-simplex is defined to be its composition with the unique surjective order preserving map from $\\{0, \\dots, m+1\\}$ to $\\{0, \\dots, m\\}$ sending $i$ and $i+1$ to the same element.\n",
    "\n",
    "Notice that a simplex is not degenerate if and only if it corresponds to an injective function. We represent a non-degenerate $m$-simplex by its image $\\{v_0, \\dots, v_m\\} \\subset \\{0, \\dots, n\\}$."
   ]
  }
 ],
 "metadata": {
  "kernelspec": {
   "display_name": "Python 3",
   "language": "python",
   "name": "python3"
  },
  "language_info": {
   "codemirror_mode": {
    "name": "ipython",
    "version": 3
   },
   "file_extension": ".py",
   "mimetype": "text/x-python",
   "name": "python",
   "nbconvert_exporter": "python",
   "pygments_lexer": "ipython3",
   "version": "3.7.3"
  }
 },
 "nbformat": 4,
 "nbformat_minor": 2
}
