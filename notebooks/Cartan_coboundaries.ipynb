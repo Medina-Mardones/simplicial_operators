{
 "cells": [
  {
   "cell_type": "markdown",
   "metadata": {
    "colab_type": "text",
    "id": "pBgyyz1cMSTm"
   },
   "source": [
    "# An effective construction of Cartan coboundaries\n",
    "\n",
    "## Abstract\n",
    "\n",
    "This notebook follows the paper \"An effective proof of the Cartan Formula\" and uses the package `simplicial_operators` to implements all the constructions described in it."
   ]
  },
  {
   "cell_type": "code",
   "execution_count": null,
   "metadata": {},
   "outputs": [],
   "source": [
    "pip install simplicial_operators"
   ]
  },
  {
   "cell_type": "markdown",
   "metadata": {},
   "source": [
    "## Introduction\n",
    "\t\n",
    "Let $X$ be a space. In 1947, Steenrod introduced formulae to define his famous **Steenrod squares**\n",
    "\n",
    "\\begin{equation*}\n",
    "Sq^k : H^*(X; \\mathbb F_2) \\to H^*(X; \\mathbb F_2)\n",
    "\\end{equation*}\n",
    "\n",
    "and in 1962, he axiomatically characterized them by the following:\n",
    "1. $Sq^k$ is natural,\n",
    "2. $Sq^0$ is the identity,\n",
    "3. $Sq^k(x) = x^2$ for $x \\in H^{-k}(X; \\mathbb F_2)$,\n",
    "4. $Sq^k(x) = 0$ for $x \\in H^{-n}(X; \\mathbb F_2)$ with $n>k$,\n",
    "5. $Sq^k(xy) = \\sum_{i+j=k} Sq^i (x) Sq^j(y)$.\n",
    "\n",
    "Axiom 5., known as the **Cartan Formula**, is the focus of this work. To explain our viewpoint let us revisit some of the history of Steenrod's construction.\n",
    "\n",
    "In the late thirties, Alexander, Whitney, and Cech defined the ring structure on cohomology \n",
    "\n",
    "\\begin{equation} \n",
    "[\\alpha] [\\beta] = [\\alpha \\smallsmile_{0} \\beta]\n",
    "\\end{equation}\n",
    "\n",
    "using a cochain level construction\n",
    "\n",
    "\\begin{equation*}\n",
    "\\smallsmile_0 \\, : N^*(X; \\mathbb Z) \\otimes N^*(X; \\mathbb Z) \\to N^*(X; \\mathbb Z)\n",
    "\\end{equation*}\n",
    "\n",
    "dual to a choice of simplicial chain approximation to the diagonal inclusion. \n",
    "\n",
    "Steenrod then showed that $\\smallsmile_0$ is commutative up to coherent homotopies by effectively constructing **cup-$i$ products**\n",
    "\n",
    "\\begin{equation*}\n",
    "\\smallsmile_i\\, : N^*(X; \\mathbb Z) \\otimes N^*(X; \\mathbb Z) \\to N^*(X; \\mathbb Z)\n",
    "\\end{equation*}\n",
    "\n",
    "enforcing the derived commutativity. Then, with coefficients in $\\mathbb F_2$, he defined\n",
    "\n",
    "\\begin{equation} \n",
    "Sq^k\\big([\\alpha]\\big) = [\\alpha \\smallsmile_{k-n} \\alpha].\n",
    "\\end{equation}\n",
    "\n",
    "This definition of the Steenrod squares makes the Cartan Formula equivalent to \n",
    "\\begin{equation} \\label{equation: Cartan 1}\n",
    "0 = \n",
    "\\Big[ (\\alpha \\smallsmile_0 \\beta) \\smallsmile_i (\\alpha \\smallsmile_0 \\beta)\\ + \\sum_{i=j+k} (\\alpha \\smallsmile_j \\alpha) \\smallsmile_0 (\\beta \\smallsmile_k \\beta) \\Big].\n",
    "\\end{equation}\n",
    "\n",
    "The goal of this work is to effectively construct for any $i \\geq 0$ and arbitrary $[\\alpha], [\\beta] \\in H^*(X; \\mathbb F_2)$ a natural cochain $\\zeta_i(\\alpha \\otimes \\beta)$ such that\n",
    "\n",
    "\\begin{equation} \\label{equation: Cartan 2}\n",
    "\\delta \\zeta_i(\\alpha \\otimes \\beta) = \n",
    "(\\alpha \\smallsmile_0 \\beta) \\smallsmile_i (\\alpha \\smallsmile_0 \\beta)\\ + \\sum_{i=j+k} (\\alpha \\smallsmile_j \\alpha) \\smallsmile_0 (\\beta \\smallsmile_k \\beta).\n",
    "\\end{equation}\n",
    "\n",
    "Following May, we take a more general approach towards our goal and in doing so we describe a non-necessarily effective construction for any $E_\\infty$-algebra. We work over a fixed algebraic model $\\mathcal E$ of the $E_\\infty$-operad known as the Barratt-Eccles operad. This model, introduced by Berger-Fresse in 2004, is equipped with a diagonal map and the natural $\\mathcal E$-algebra structure defined by these authors on the normalized cochains of simplicial sets is suitable for effective constructions."
   ]
  },
  {
   "cell_type": "markdown",
   "metadata": {
    "colab_type": "text",
    "id": "AwHFa-otXblv"
   },
   "source": [
    "## Preliminaries\n",
    "\n",
    "Let $\\mathbb F_2$ be the field with two elements. We assume familiarity with chain complexes and their tensor product. Additionally, we assume the reader as previous experience with simplicial sets and the functor of normalized chains N_*. These notions are review in the paper LINK.\n",
    "\n",
    "### Simplicial operators\n",
    "\n",
    "The group of **simplicial operators** is the free [group generated](https://en.wikipedia.org/wiki/Presentation_of_a_group) by all symbols $s_i$ and $d_j$ modulo the simplicial identities. We refer to the product in this group as **composition** of simplicial operators.\n",
    "\n",
    "The **canonical representative** of a simplicial operators has the form\n",
    "\n",
    "\\begin{equation*}\n",
    "s_{u_1} \\cdots s_{u_p} d_{v_1} \\cdots d_{v_q}\n",
    "\\end{equation*}\n",
    "\n",
    "with $u_1 > \\cdots > u_p$ and $v_1 < \\cdots < v_q$.\n",
    "\n",
    "If $[v_0, \\dots, v_n]$ represents an $n$-simplex in a simplicial set. The action of any simplicial operator on it is defined by\n",
    "\n",
    "\\begin{equation}\n",
    "d_i [v_0, \\dots, v_n] = [v_0, \\dots, \\widehat{v}_i, \\dots, v_n]\n",
    "\\end{equation}\n",
    "\n",
    "\\begin{equation}\n",
    "s_i [v_0, \\dots, v_n] = [v_0, \\dots, v_i, v_i, \\dots, v_n].\n",
    "\\end{equation}\n",
    "\n",
    "We model simplicial operators with the class `Operator`.\n",
    "\n",
    "A **linear simplicial multioperator** is a formal $\\mathbb F_2$-linear combination of the form \n",
    "\n",
    "$$\n",
    "\\sum_i op_1^{i} \\otimes \\cdots \\otimes op_n^{i}.\n",
    "$$\n",
    "\n",
    "We model them via a `set` of `tuples` of instances of `Operator`. Addition over this field is modeled by the function `__xor__` whose syntax is `^`.\n",
    "\n",
    "We refer the reader to this notebook LINK for more details about this notions."
   ]
  },
  {
   "cell_type": "markdown",
   "metadata": {
    "colab_type": "text",
    "id": "iugGzz1y0N8P"
   },
   "source": [
    "### The Alexande-Whitney, Eilenberg-Zilber, and Shih  maps\n",
    "\n",
    "In general, for a pair of simplicial sets $X$ and $Y$ \n",
    "$$\n",
    "N_*(X \\times Y) \\neq N_*(X) \\otimes N_*(Y)\n",
    "$$\n",
    "\n",
    "but the Alexander-Whitney and Eilenberg-Zilber maps form a chain homotopy equivalence $N_*(X \\times Y) \\sim N_*(X) \\otimes N_*(Y)$. I.e., there exist chain homotopies between $AWEZ$, $EZAW$ and the respective identities. It turns out that $AWEZ$ is equal to the identity and that a canonical chain homotopy, known as the Shih map, can be given for the other composition.\n",
    "\n",
    "We refer to this notebook LINK for the definitions of these maps as well as their models in the `simplicial_operators` package."
   ]
  },
  {
   "cell_type": "code",
   "execution_count": null,
   "metadata": {
    "colab": {},
    "colab_type": "code",
    "id": "jFP_uY-sMjOL"
   },
   "outputs": [],
   "source": [
    "from simplicial_operators import shih, table_reduction as tr, surjection_operator"
   ]
  },
  {
   "cell_type": "markdown",
   "metadata": {
    "colab_type": "text",
    "id": "-2G5oZY20N8g"
   },
   "source": [
    "### Group actions and algebras over operads\n",
    "\n",
    "Let $G$ be a group. A $G$-action on an object $C$ is a group morphism \n",
    "\n",
    "\\begin{equation}\n",
    "G \\to \\mathrm{Aut}(C)\n",
    "\\end{equation}\n",
    "\n",
    "where the group structure on $\\mathrm{Aut}(C)$ is given by composition.\n",
    "\n",
    "Let $\\mathcal{O}$ be an operad, see for example [LV12] for this notion. An $\\mathcal{O}$-algebra structure on an object $C$ is an operad morphism\n",
    "\n",
    "\\begin{equation}\n",
    "\\mathcal{O} \\to \\mathrm{End}(C)\n",
    "\\end{equation}\n",
    "\n",
    "where the operad structure on $\\mathrm{End}(C) = \\{\\mathrm{Hom}(C^{\\otimes n}, C)\\}_{n \\geq 0}$ is induced from transpositions of factors and composition.\n",
    "\n",
    "Let $C$ be an object with a $G$-action or an $\\mathcal{O}$-algebra structure. We identify the elements of $G$ or of $\\mathcal{O}$ with their images via the structure maps."
   ]
  },
  {
   "cell_type": "markdown",
   "metadata": {
    "colab_type": "text",
    "id": "6YtjR_Mq0N8h"
   },
   "source": [
    "### The Barratt-Eccles operad $\\mathcal{E}$\n",
    "\t\n",
    "For a positive integer $r$ let $\\Sigma_r$ be the group of permutations of $r$ elements and let\n",
    "\n",
    "\\begin{equation*}\n",
    "\\circ_{\\Sigma} : \\Sigma_r \\times \\Sigma_{s_1} \\times \\cdots \\times \\Sigma_{s_r} \\ \\to \\\n",
    "\\Sigma_r \\ltimes \\big(\\Sigma_{s_1} \\times \\cdots \\times \\Sigma_{s_r}\\big) \\ \\to \\ \n",
    "\\Sigma_{s_1 + \\cdots + s_{r}} \n",
    "\\end{equation*}\n",
    "\n",
    "be the usual composition of permutations.\n",
    "\n",
    "For a positive integer $r$ define the simplicial $\\mathbb{F}_2$-module $E(r)$ by \n",
    "\n",
    "\\begin{equation*}\n",
    "\\begin{split}\n",
    "E(r)_n &= \\mathbb{F}_2\\{ (\\sigma_0, \\dots, \\sigma_n)\\ |\\ \\sigma_i \\in \\Sigma_r\\} \\\\\n",
    "d_i(\\sigma_0, \\dots, \\sigma_n) &= (\\sigma_0, \\dots, \\widehat{\\sigma}_i, \\dots, \\sigma_n) \\\\\n",
    "s_i(\\sigma_0, \\dots, \\sigma_n) &= (\\sigma_0, \\dots, \\sigma_i, \\sigma_i, \\dots, \\sigma_n). \\\\\n",
    "\\end{split}\n",
    "\\end{equation*}\n",
    "\n",
    "We consider $E(r)$ equipped with the action of $\\Sigma_r$ given by \n",
    "\n",
    "\\begin{equation*}\n",
    "\\sigma \\big((\\sigma_0, \\dots, \\sigma_n)\\big) = (\\sigma\\sigma_0, \\dots, \\sigma\\sigma_n).\n",
    "\\end{equation*} \n",
    "\n",
    "Let\n",
    "\\begin{equation*}\n",
    "\\circ_{E}: E(r) \\times E(s_1) \\times \\cdots \\times E(s_r) \\to E(s_1 + \\cdots + s_r)\n",
    "\\end{equation*}\n",
    "be defined by applying $\\circ_{\\Sigma}$ coordinatewise. \n",
    "\n",
    "For $r \\geq 0$, let\n",
    "\\begin{equation*}\n",
    "\\mathcal{E}(r) = \\mathcal{N}(E(r))\n",
    "\\end{equation*}\n",
    "\n",
    "be edowed with the induced $\\Sigma_r$-action. Define an operadic compositions $\\circ_{\\mathcal{E}}$ on $\\{\\mathcal{E}\n",
    "(r)\\}_{r \\geq 0}$ by\n",
    "\n",
    "\\begin{equation*}\n",
    "\\mathcal{E}(r) \\otimes \\mathcal{E}(s_1) \\otimes \\cdots \\otimes \\mathcal{E}(s_r)  \n",
    "\\stackrel{EZ}{\\longrightarrow}\n",
    "\\mathcal{N} \\big( E(r) \\otimes E(s_1) \\otimes \\cdots \\otimes E(s_r) \\big)  \n",
    "\\stackrel{\\mathcal{N}(\\circ_E)}{\\longrightarrow}\n",
    "\\mathcal{E}(s_1 + \\cdots + s_r).\n",
    "\\end{equation*}\n",
    "\n",
    "The resulting operad $\\mathcal{E}$ is referred to as the Barratt-Eccles operad. It is a model in the category $\\mathbf{Ch}_{\\mathbb{F}_2}$ for the $E_\\infty$-operad. That is to say, $E(0)= \\mathbb{F}_2$ and $E(r)$ is a resolution of $\\mathbb{F}_2$ by free $\\mathbb{F}_2[\\Sigma_r]$-modules.\n",
    "\n",
    "**Notation**. We represent elements in the symmetric group either by cycles or by their ordered image. For example,\n",
    "\\begin{split}\n",
    "\\Sigma_3 \n",
    "&= \\big\\{e,\\, (1,2,3),\\, (1,3,2),\\, (1,2),\\, (1,3),\\, (2,3) \\big\\} \\\\\n",
    "&= \\big\\{(1,2,3),\\, (2,3,1),\\, (3,1,2),\\, (2,1,3),\\, (3,2,1),\\, (1,3,2) \\big\\}.\n",
    "\\end{split}\n",
    "The corresponding representations of elements in the Barratt-Eccles operad are named cycle representation and table representation."
   ]
  },
  {
   "cell_type": "markdown",
   "metadata": {
    "colab_type": "text",
    "id": "9T3uNcRI0N81"
   },
   "source": [
    "### Steenrod cup-$i$ products and Cartan coboundaries\n",
    "\n",
    "Since $\\mathcal{E}$ is an $E_\\infty$-operad, the orbit space of $\\mathcal E (2)$ is a chain model for $K(\\mathbb{F}_2,1)$ and $H_d(\\mathcal E (2)_{\\Sigma_2}; \\mathbb{F}_2)$ is generated as an $\\mathbb{F}_2$-module by the orbit of the element\n",
    "\n",
    "\\begin{equation*}\n",
    "\\tilde{x}_d = \\big(e, (12), e, \\dots, (12)^d \\big)\n",
    "\\end{equation*}\n",
    "\n",
    "Let $A$ be an $\\mathcal{E}$-algebra, define the **cup-$i$ product** as the image of $\\tilde{x}_i$ in $\\mathrm{Hom}(A \\otimes A, A)$ and a **Cartan $i$-coboundary** as any map $\\zeta_i \\in \\mathrm{Hom}(A \\otimes A, A)$ such that, using the notation\n",
    "\\begin{equation*}\n",
    "\\tilde{x}_i (\\alpha \\otimes \\beta) = \\alpha \\smallsmile_i \\beta,\n",
    "\\end{equation*}\t\n",
    "satisfies \n",
    "\\begin{equation*}\n",
    "(\\partial \\zeta_k)(\\alpha \\otimes  \\beta) = \n",
    "(\\alpha \\smallsmile_0 \\beta) \\smallsmile_k (\\alpha \\smallsmile_0 \\beta)\\ + \\sum_{i+j=k} (\\alpha \\smallsmile_i \\alpha) \\smallsmile_0 (\\beta \\smallsmile_j \\beta).\n",
    "\\end{equation*}\n",
    "Let the maps $\\mathcal{F},\\, \\mathcal{G} : \\mathcal{E}(2) \\rightarrow \\mathcal{E}(4)$ be defined by\n",
    "\n",
    "\\begin{split}\n",
    "\\mathcal{F}(\\sigma_0,\\dots,\\sigma_n) =\\ &  \\circ_{\\mathcal{E}} \\big( (\\sigma_0,\\dots,\\sigma_n) \\otimes (e) \\otimes (e) \\big) \\\\\n",
    "\\mathcal{G}(\\sigma_0,\\dots,\\sigma_n) =\\ &  \\circ_{\\mathcal{E}} \\big( (e) \\otimes AW (\\sigma_0, \\dots ,\\sigma_n)^{\\otimes 2} \\big).\n",
    "\\end{split}\n",
    "\n",
    "For an $\\mathcal{E}$-algebra $A$ and $\\alpha, \\beta \\in A$\n",
    "\n",
    "\\begin{align*}\n",
    "\\mathcal{F} (\\tilde{x}_k) (\\alpha \\otimes \\beta \\otimes \\alpha \\otimes \\beta ) &= (\\alpha \\smallsmile_0 \\beta) \\smallsmile_k (\\alpha \\smallsmile_0 \\beta)\\\\\n",
    "\\mathcal{G}(\\tilde{x}_k) (\\alpha \\otimes \\alpha \\otimes \\beta \\otimes \\beta) &=\t\\sum_{i+j=k} (\\alpha \\smallsmile_i \\alpha) \\smallsmile_0 (\\beta \\smallsmile_j \\beta).\n",
    "\\end{align*}\n",
    "\n",
    "Let $\\mathcal{H} : \\mathcal{E}(2) \\rightarrow \\mathcal{E}(4)$ be a chain homotopy between $(23) \\circ \\mathcal{F}$ and $\\mathcal{G}$ satisfying\n",
    "\n",
    "\\begin{equation*}\n",
    "\\mathcal{H} \\circ (12) = (12)(34) \\circ \\mathcal{H}.\n",
    "\\end{equation*}\n",
    "\n",
    "Then, \n",
    "\n",
    "\\begin{equation*}\n",
    "\\zeta_k(\\alpha, \\beta) = \\mathcal{H}(\\tilde{x}_k)(\\alpha \\otimes \\alpha \\otimes \\beta \\otimes \\beta).\n",
    "\\end{equation*}\n",
    "\n",
    "is a Cartan $k$-coboundary."
   ]
  },
  {
   "cell_type": "markdown",
   "metadata": {
    "colab_type": "text",
    "id": "7nlPZ-yj0N84"
   },
   "source": [
    "### Strategy\n",
    "\n",
    "We now outline our construction of a chain homotopy as described above.\n",
    "\n",
    "Let us consider the homomorphisms $i_1, i_2, D : \\Sigma_2 \\to \\Sigma_2 \\times \\Sigma_2$ defined by  \n",
    "\\begin{align*}\n",
    "i_1(\\sigma)  &= \\sigma \\times e \\\\\n",
    "i_2(\\sigma) &= e \\times \\sigma \\\\\n",
    "D(\\sigma)   &= \\sigma \\times \\sigma.\n",
    "\\end{align*}\n",
    "The maps $f, g : \\Sigma_2 \\to \\Sigma_4$ defined by\n",
    "\\begin{align*}\n",
    "f &= \\circ_{\\Sigma} \\circ (\\mathrm{id} \\times D)\\circ  i_1 \\\\\n",
    "g &= \\circ_{\\Sigma} \\circ (\\mathrm{id} \\times D)\\circ  i_2\n",
    "\\end{align*}\n",
    "are conjugated by $(23)$ in $\\Sigma_4$, i.e., \n",
    "\\begin{equation*}\n",
    "(23) f(\\sigma) = g(\\sigma) (23)\n",
    "\\end{equation*}\n",
    "for $\\sigma \\in \\Sigma_2$.\n",
    "\n",
    "Let $E(f)$ and $E(g)$ be the simplicial maps $E(2) \\to E(4)$ induced by $f$ and $g$.\n",
    "\n",
    "The first step will be to effectively construct an appropriately equivariant simplicial homotopy $H_1$ between $(23) \\circ E(f)$ and $E(g)$. The induced map at the level of orbit spaces witnesses the expected homotopy between conjugate maps at the classifying space level.\n",
    "\n",
    "The second step will be to effectively construct appropriately equivariant chain homotopies $\\mathcal{H}_2^{(f)}$ and $\\mathcal{H}_2^{(g)}$ between $\\mathcal{F}$ and $\\mathcal{N}(E(f))$ and  $\\mathcal{G}$ and $\\mathcal{N}(E(g))$ respectively.\n",
    "\n",
    "Then, we will define \n",
    "\n",
    "\\begin{equation*} \n",
    "\\mathcal{H} = (23) \\circ \\mathcal{H}_2^{(f)} + \\mathcal{H}_1 + \\mathcal{H}_{2}^{(g)}\n",
    "\\end{equation*}\n",
    "\n",
    "where $\\mathcal{H}_1 = \\mathcal{N}(H_1)$ is the induced chain homotopy.\n",
    "\n",
    "It turns out that $\\mathcal{H}_2^{(f)}$ can be chosen to be $0$ so\n",
    "\n",
    "\\begin{equation*} \n",
    "\\mathcal{H} = \\mathcal{H}_1 + \\mathcal{H}_{2}^{(g)}\n",
    "\\end{equation*}\n",
    "\n",
    "and a Cartan $i$-coboundary is defined by $\\mathcal H(\\tilde x_i)$. "
   ]
  },
  {
   "cell_type": "markdown",
   "metadata": {
    "colab_type": "text",
    "id": "njDYaKbbkCLm"
   },
   "source": [
    "### Modeling $\\mathcal{H}_1$\n",
    "\n",
    "Let $\\mathcal{H}_1 : \\mathcal{E}(2) \\to \\mathcal{E}(4)$ be defined by\n",
    "\\begin{equation*}\n",
    "\\mathcal{H}_1 (\\sigma_0, \\dots, \\sigma_n) = \n",
    "\\sum _{i=0}^n \\big( (23) f \\sigma_0, \\dots,  (23) f \\sigma_i, g \\sigma_i, \\dots, g \\sigma_n \\big)\n",
    "\\end{equation*}"
   ]
  },
  {
   "cell_type": "code",
   "execution_count": null,
   "metadata": {
    "colab": {},
    "colab_type": "code",
    "id": "YEvzioJLkKFX"
   },
   "outputs": [],
   "source": [
    "def first_homotopy(n):\n",
    "  '''applies the first homotopy to the element \n",
    "  \\tilde{x}_n = (e, (12), ..., (12)^n)'''\n",
    "  \n",
    "  # permutations (23), (12)(34)(23) and e, (12)(34) \n",
    "  a = {0: [1,3,2,4], 1: [2,4,1,3]}\n",
    "  b = {0: [1,2,3,4], 1: [2,1,4,3]}\n",
    "  \n",
    "  x = [a[i%2] for i in range(n+1)]\n",
    "  y = [b[i%2] for i in range(n+1)]\n",
    "  \n",
    "  answer = []\n",
    "  for i in range(n+1):\n",
    "    answer.append(x[:i+1]+y[i:])\n",
    "  \n",
    "  return answer"
   ]
  },
  {
   "cell_type": "markdown",
   "metadata": {
    "colab_type": "text",
    "id": "oqq0EV8N0yty"
   },
   "source": [
    "### Modeling $\\mathcal{H}_2^{(g)}$\n",
    "\n",
    "Let $\\mathcal{H}_2^{(g)} : \\mathcal{E}(2) \\to \\mathcal{E}(4)$ be defined by\n",
    "\n",
    "\\begin{equation*}\n",
    "\\mathcal{H}_2^{(g)} (\\sigma_0, \\dots, \\sigma_n) = \n",
    "\\circ_{\\mathcal E} \\big( (e, \\dots, e) \\otimes SHI (\\sigma_0, \\dots, \\sigma_n)^{\\otimes 2} \\big)\n",
    "\\end{equation*}"
   ]
  },
  {
   "cell_type": "code",
   "execution_count": null,
   "metadata": {
    "colab": {},
    "colab_type": "code",
    "id": "9zYmibYKcw6M"
   },
   "outputs": [],
   "source": [
    "def second_homotopy(n):\n",
    "  '''applies the second homotopy to the element \n",
    "  \\tilde{x}_n = (e, (12), ..., (12)^n)'''\n",
    "  \n",
    "  sigma_two = {0: 'e', 1: '(12)'}\n",
    "  element = [sigma_two[i%2] for i in range(n+1)]\n",
    "  \n",
    "  if n == 0:\n",
    "    return[]\n",
    "  \n",
    "  # composition (e, x, y) with x,y in sigma_two\n",
    "  composition = {('e'   , '(12)') : (1,2,4,3),\n",
    "                 ('(12)', 'e'   ) : (2,1,3,4),\n",
    "                 ('(12)', '(12)') : (2,1,4,3),\n",
    "                 ('e'   , 'e'   ) : (1,2,3,4)}\n",
    "    \n",
    "  values = []\n",
    "  for op in SHI(n):\n",
    "    if not op.is_degenerate():\n",
    "      values.append(op.act(element, element))\n",
    "\n",
    "  tables = []\n",
    "  for value in values:\n",
    "    \n",
    "    table = []\n",
    "    for i in range(n+2):\n",
    "      table.append(list(composition[(value[0][i], value[1][i])]))\n",
    "    \n",
    "    tables.append(table)\n",
    "\n",
    "  return tables"
   ]
  },
  {
   "cell_type": "markdown",
   "metadata": {
    "colab_type": "text",
    "id": "eJRM9YSCflaf"
   },
   "source": [
    "### Constructing Cartan $i$-coboundaries"
   ]
  },
  {
   "cell_type": "code",
   "execution_count": null,
   "metadata": {
    "colab": {},
    "colab_type": "code",
    "id": "TsxXACp_flak"
   },
   "outputs": [],
   "source": [
    "def get_cartan_coboundary(i):\n",
    "    '''returns in table format the element H(\\tilde x_i) in arity 4 of \n",
    "    the Barratt-Eccles operad'''\n",
    "    \n",
    "    return first_homotopy(i) + second_homotopy(i)  "
   ]
  },
  {
   "cell_type": "markdown",
   "metadata": {
    "colab_type": "text",
    "id": "0UyjB2fM7PR6"
   },
   "source": [
    "## The $\\mathcal E$-algebra structure on cochains\n",
    "\n",
    "### The Surjection Operad\n",
    "\n",
    "For a non-negative integer $n$ define\n",
    "\\begin{equation*}\n",
    "\\overline{n} = \\begin{cases}\n",
    "\\{1, \\dots, n\\} & n > 0 \\\\\n",
    "\\qquad \\emptyset & n = 0.\n",
    "\\end{cases}\n",
    "\\end{equation*}\n",
    "Fix $r \\geq 1$ and consider all $n \\geq 0$. We make the free $\\mathbb{F}_2$-module generated by all functions $s : \\overline{n} \\to \\overline{r}$ into a differential graded $\\mathbb{F}_2$-module by declaring the degree of $s : \\overline{n} \\to \\overline{r}$ to be $r-n$ and its boundary to be\n",
    "\\begin{equation*}\n",
    "\\partial s = \\sum_{k=1}^{n} s \\circ \\iota_k\n",
    "\\end{equation*}\n",
    "where $\\iota_k : \\overline{n-1} \\to \\overline{n}$ is the order preserving injection that misses $k$. \n",
    "\n",
    "We define $Sur(r)$ to be the quotient of this differential graded $\\mathbb{F}_2$-module by the submodule generated by the functions $s : \\overline{n} \\to \\overline{r}$ which are either non-surjective or for which $s(i)$ equals $s(i+1)$ for some $i$. \n",
    "\n",
    "The collection $Sur = \\{ Sur(r) \\}_{r \\geq 1}$ is a $\\Sigma$-module with the action of $\\Sigma_r$ on $Sur(r)$ given by postcomposition. The $\\Sigma$-module $Sur$ is an operad with partial composition $\\circ_r: Sur(r') \\otimes Sur(r) \\to Sur(r+r'-1)$ defined on two generators $s : \\overline{n} \\to \\overline{r}$ and $s' : \\overline{n'}\\to\\overline{r'}$ as follows. Represent the surjections $s$ and $s'$ by sequences $(s(1), \\dots, s(n))$ and $(s'(1), \\dots, s'(n'))$ and suppose that $r$ appears $k$ times in the sequence representing $s'$ as $s'(i_1), \\dots, s'(i_k)$. Denote the set of all tuples\n",
    "\n",
    "\\begin{equation*}\n",
    "1 = j_0 \\leq j_1 \\leq \\dots \\leq j_k = n\n",
    "\\end{equation*}\n",
    "\n",
    "by $J(k,n)$ and for each such tuple consider the subsequences \n",
    "\n",
    "\\begin{equation*}\n",
    "(s(j_0), \\dots, s(j_1)) \\qquad (s(j_1),\\dots,s(j_2)) \\qquad \\cdots \\qquad (s(j_{k-1}), \\dots, s(j_k)).\n",
    "\\end{equation*}\n",
    "\n",
    "Then, in $(s'(1),\\dots,s'(n))$, replace the term $s'(i_t)$ by the sequence $(s(j_{t-1}),\\dots,s(j_t))$. In addition, increase the terms $s(j)$ by $r-1$ and the terms $s'(i)$ such that $s'(i)>r$ by $m-1$. The surjection $s'\\circ_r s$ is represented by the sum, parametrized by $J(k,n)$, of these resulting sequences."
   ]
  },
  {
   "cell_type": "markdown",
   "metadata": {
    "colab_type": "text",
    "id": "NhgH2c9u4k46"
   },
   "source": [
    "### Table reduction morphism\n",
    "\n",
    "We model the operad morphism\n",
    "\\begin{equation*}\n",
    "TR : \\mathcal E \\to Sur\n",
    "\\end{equation*}\n",
    "introduced of [BF04]."
   ]
  },
  {
   "cell_type": "code",
   "execution_count": null,
   "metadata": {
    "colab": {},
    "colab_type": "code",
    "id": "Efd09qRkFhT0"
   },
   "outputs": [],
   "source": [
    "from itertools import chain, permutations\n",
    "\n",
    "def partitions(n,k,l=1):\n",
    "    '''n is the integer to partition and k is the length of partitions'''\n",
    "    if k == 1:\n",
    "        if n >= l:\n",
    "            yield (n,)\n",
    "        return\n",
    "    for i in range(l,n+1):\n",
    "        for result in partitions(n-i,k-1,i):\n",
    "            yield (i,)+result\n",
    "\n",
    "def ordered_partitions(n,k):\n",
    "  '''...'''\n",
    "  return chain.from_iterable(\n",
    "  set(permutations(p)) for p in partitions(n,k))\n",
    "  \n",
    "def TR(table):\n",
    "  '''...'''\n",
    "  #dimension and arity of the barratt-eccles table\n",
    "  d, a = len(table)-1, max(table[0])\n",
    "  \n",
    "  surjections = []\n",
    "  for pi in ordered_partitions(d+a, d+1):\n",
    "    \n",
    "    surjection, removed = [], []\n",
    "    degenerate = False\n",
    "    for idx, i in enumerate(pi):\n",
    "      \n",
    "      filtered = list(filter(lambda x: not x in removed, table[idx]))\n",
    "      \n",
    "      if idx > 0 and surjection[-1] == filtered[0]:\n",
    "        degenerate = True\n",
    "        break    \n",
    "      \n",
    "      if i > 1:\n",
    "        removed = removed + filtered[:i-1]\n",
    "      \n",
    "      surjection = surjection + filtered[:i]\n",
    "      \n",
    "    if not degenerate:\n",
    "      surjections.append(surjection)\n",
    " \n",
    "  return surjections"
   ]
  },
  {
   "cell_type": "markdown",
   "metadata": {
    "colab_type": "text",
    "id": "V9Hkj5a25MMy"
   },
   "source": [
    "### Diagonal and join maps\n",
    "\n",
    "We review the natural $Sur$-algebra structure on $\\mathrm{C}^\\bullet(X; \\mathbb{F}_2)$ introduced in [BF04] and [MS03] using the perspective presented in [MM18b](http://arxiv.org/abs/1808.00854). We notice that using the Table Reduction morphism this $Sur$-algebra structure provides $\\mathrm{C}^\\bullet(X; \\mathbb{F}_2)$ with an $\\mathcal E$-algebra structure.\n",
    "\n",
    "Let $\\Delta^n$ be the representable simplicial set $\\mathrm{Hom}_{\\Delta}(-, [n])$. We identify a morphism $[m] \\to [n]$ with its image $\\{v_0, \\dots, v_m\\} \\subseteq \\{0, \\dots, n\\}$ where the image of $i \\in \\{0, \\dots, m\\}$ is $v_i$.\n",
    "\n",
    "Let $\\Delta_0: \\mathrm{C}_\\bullet(\\Delta^n; \\mathbb{F}_2) \\to \\mathrm{C}_\\bullet(\\Delta^n; \\mathbb{F}_2)^{\\otimes 2}$ be defined by\n",
    "\\begin{equation*}\n",
    "\\Delta_0 \\{v_0, \\dots, v_m\\} = \\sum_{i = 0}^{m} \\{v_0, \\dots, v_i\\} \\otimes \\{v_i, \\dots, v_m\\}\n",
    "\\end{equation*}\n",
    "and, for any $k \\geq 0$, let $\\ast :  \\mathrm{C}_\\bullet(\\Delta^n; \\mathbb{F}_2)^{\\otimes k} \\to  \\mathrm{C}_\\bullet(\\Delta^n; \\mathbb{F}_2)$ be defined on basis elements by \n",
    "\\begin{equation*}\n",
    "\\ast(a_1 \\otimes \\cdots \\otimes a_k) = \\begin{cases}\n",
    "\\bigcup_{i=1}^k a_i & \\forall\\ i < j,\\ a_i \\cap a_j = \\emptyset \\\\\n",
    "\\,0 & \\exists\\ i < j,\\ a_i \\cap a_j \\neq \\emptyset.\n",
    "\\end{cases}\n",
    "\\end{equation*}\n",
    "We notice that $\\Delta$ is equal to the composition of the Alexander-Whitney map and the doubling map\n",
    "\n",
    "\\begin{align*}\n",
    "\\mathrm{C}_\\bullet(\\Delta^n; \\mathbb{F}_2) &\\to \\mathrm{C}_\\bullet(\\Delta^n \\otimes \\Delta^n; \\mathbb{F}_2) \\\\\n",
    "a \\quad &\\mapsto \\quad a \\otimes a.\n",
    "\\end{align*}\n",
    "\n",
    "We now describe the $Sur$-algebra structure on $\\mathrm{C}_\\bullet(\\Delta^n; \\mathbb{F}_2)$. Let $s : \\{1, \\dots, r+n \\} \\to \\{1, \\dots, r\\}$ be a surjection, then $s(\\alpha_1 \\otimes \\cdots \\otimes \\alpha_r)$ is defined to by\n",
    "\n",
    "\\begin{equation}\n",
    "s(\\alpha_1 \\otimes \\cdots \\otimes \\alpha_r)(a) = (\\alpha_1 \\otimes \\cdots \\otimes \\alpha_r) \\big(\\ast_{s^{-1}(1)} \\otimes \\cdots \\otimes \\ast_{s^{-1}(r)} \\big)\\ \\Delta^{r+d-1} (a)\n",
    "\\end{equation}\n",
    "\n",
    "where $\\Delta_0^{k}$ is recursively defined by\n",
    "\\begin{split}\n",
    "&\\Delta^1_0 = \\Delta_0 \\\\ &\\Delta_0^{k+1} = (\\Delta_0 \\otimes \\mathrm{id}^{\\otimes k})\\, \\Delta_0^k\n",
    "\\end{split}\n",
    "\n",
    "and $\\ast_{s^{-1}(i)}$ is given by applying $\\ast$ to the factors in positions $s^{-1}(i)$. "
   ]
  },
  {
   "cell_type": "code",
   "execution_count": null,
   "metadata": {
    "colab": {},
    "colab_type": "code",
    "id": "p_7ZIvK05LaX"
   },
   "outputs": [],
   "source": [
    "def get_paths(d, r):\n",
    "  '''returns all sequences of horizontal 'x' and vertical 'y' \n",
    "  unit moves to go from (0,0) to (d,r)'''\n",
    "  if (d,r) == (0,0):\n",
    "    return [[]]\n",
    "  \n",
    "  horizontal = []\n",
    "  if d > 0:\n",
    "    horizontal = [path + ['x'] for path in get_paths(d-1,r)]\n",
    "  \n",
    "  vertical = []\n",
    "  if r > 0:\n",
    "    vertical = [path + ['y'] for path in get_paths(d,r-1)]\n",
    "  \n",
    "  return horizontal + vertical\n",
    "    \n",
    "def iterated_diagonal(d, k):\n",
    "  '''computes the iteration of AW k-times'''\n",
    "  elements = []\n",
    "  paths = get_paths(d, k)\n",
    "  for path in paths:  \n",
    "    element = [[0]]+[[] for i in range(k)]\n",
    "    pos, i = 0, 0\n",
    "    for letter in path:\n",
    "      if letter == 'x':\n",
    "        i = i+1\n",
    "        element[pos].append(i)\n",
    "      if letter == 'y':\n",
    "        pos = pos+1\n",
    "        element[pos].append(i)\n",
    "    elements.append(element)\n",
    "\n",
    "  return elements    \n",
    "\n",
    "def apply_surjection(d, surjection):\n",
    "  '''gives the answer of applying the surjection to \n",
    "  the simplex [0,...,d]'''\n",
    "  elements = iterated_diagonal(d, len(surjection)-1)\n",
    "  answer = []\n",
    "  for element in elements:\n",
    "    degenerate = False\n",
    "    joined = [[] for i in range(max(surjection))]\n",
    "    for idx, i in enumerate(surjection):\n",
    "      if joined[i-1] == [] or joined[i-1][-1] != element[idx][0]:\n",
    "        joined[i-1] = joined[i-1] + element[idx]       \n",
    "      else:\n",
    "        degenerate = True\n",
    "        break\n",
    "    if not degenerate:\n",
    "      answer.append(joined)\n",
    "    \n",
    "  return answer"
   ]
  },
  {
   "cell_type": "markdown",
   "metadata": {
    "colab_type": "text",
    "id": "WNvSV4_S9bOV"
   },
   "source": [
    "### Action of the Barratt-Eccles operad"
   ]
  },
  {
   "cell_type": "code",
   "execution_count": null,
   "metadata": {
    "colab": {},
    "colab_type": "code",
    "id": "RVgbkefu7xVD"
   },
   "outputs": [],
   "source": [
    "def action_of_barratt_eccles(d, bar_elements):\n",
    "  '''returns the values obtained by applying a sum of elements \n",
    "  in the operad of Barratt-Eccles to the simplex [0,...,d]'''\n",
    "  values = []\n",
    "  for table in bar_elements:\n",
    "    surjections = TR(table)\n",
    "    for surj in surjections:\n",
    "      values = values + apply_surjection(d,surj)\n",
    "  return values"
   ]
  },
  {
   "cell_type": "markdown",
   "metadata": {
    "colab_type": "text",
    "id": "UUJvArRz9hMB"
   },
   "source": [
    "### Action of the Cartan coboundary"
   ]
  },
  {
   "cell_type": "code",
   "execution_count": null,
   "metadata": {
    "colab": {},
    "colab_type": "code",
    "id": "xFPzOlcS9mAI"
   },
   "outputs": [],
   "source": [
    "def cartan_coboundary_action(d, i):\n",
    "    '''since the cartan i-coboundary acts on a pair of cochains, we filter \n",
    "    the possible elements to have the tensor dimension (a,a,b,b)'''\n",
    "    values = action_of_barratt_eccles(d, get_cartan_coboundary(i))\n",
    "    filtered = []\n",
    "    for value in values:\n",
    "        if len(value[0]) == len(value[1]) and len(value[2]) == len(value[3]):\n",
    "            filtered.append(value)\n",
    "    \n",
    "    return filtered"
   ]
  },
  {
   "cell_type": "markdown",
   "metadata": {
    "colab_type": "text",
    "id": "BsbKjK549pgT"
   },
   "source": [
    "### Examples\n",
    "\n",
    "Recall that $\\Delta^n$ denotes the $n$-th representable simplicial set. Throughout this section we let $[\\alpha] \\in H^{-p}({\\Delta}^n; \\mathbb{F}_2)$, $[\\beta] \\in H^{-q}({\\Delta}^n; \\mathbb{F}_2)$, and $\\mathrm{id}_n \\in \\mathrm{C}_n({\\Delta}^n; \\mathbb{F}_2)$ be the top degree basis element. Recall that \n",
    "\\begin{equation*}\n",
    "\\tilde{x}_i = (e, (12), e, \\dots, (12)^i) \\in \\mathcal E(2)_i\n",
    "\\end{equation*} \n",
    "and that our Cartan $i$-coboundary is defined by\n",
    "\\begin{equation*}\n",
    "\\zeta_i(\\alpha \\otimes \\beta) = TR(\\mathcal{H}_1 + \\mathcal{H}_2)(\\tilde{x}_i)\\,(\\alpha \\otimes \\alpha \\otimes \\beta \\otimes \\beta)\n",
    "\\end{equation*}\n",
    "where\n",
    "\\begin{equation*}\n",
    "\\mathcal{H}_1 (\\sigma_0, \\dots, \\sigma_n) = \n",
    "\\sum _{i=0}^n \\big( (23) f \\sigma_0, \\dots,  (23) f \\sigma_i, g \\sigma_i, \\dots, g \\sigma_n \\big),\n",
    "\\end{equation*}\n",
    "\\begin{equation*}\n",
    "\\mathcal{H}_2 (\\sigma_0, \\dots, \\sigma_n) = \\mathcal N(\\circ_{E}) \\big( (e, \\dots, e) \\otimes SHI (\\sigma_0, \\dots, \\sigma_n)^{\\otimes 2} \\big),\n",
    "\\end{equation*}\n",
    "and\n",
    "\\begin{equation*}\n",
    "TR : \\mathcal E \\to Surj\n",
    "\\end{equation*}\n",
    "is the Table Reduction morphism.\n",
    "We will compute for $i=0,1,2$ the value of $\\zeta_i(\\alpha \\otimes \\beta)(\\mathrm{id}_n)$ in terms of $\\alpha$ and $\\beta$ for the smallest integer $n$ for which this value is not identically 0. \n",
    "\t\n",
    "We remark that the cochain $\\zeta_i(\\alpha \\otimes \\beta)$ witnesses the relation\n",
    "\\begin{equation*}\n",
    "Sq^{p+q-i} \\big( [\\alpha]\\, [\\beta] \\big) = \\sum_{j+k=p+q-i} Sq^j([\\alpha])\\, Sq^k([\\beta]).\n",
    "\\end{equation*}"
   ]
  },
  {
   "cell_type": "code",
   "execution_count": null,
   "metadata": {
    "colab": {
     "base_uri": "https://localhost:8080/",
     "height": 702
    },
    "colab_type": "code",
    "executionInfo": {
     "elapsed": 1794,
     "status": "ok",
     "timestamp": 1563629579917,
     "user": {
      "displayName": "Anibal Medina",
      "photoUrl": "https://lh3.googleusercontent.com/-pRZB6-rrJYg/AAAAAAAAAAI/AAAAAAAAhX0/1QZjkRwy2h4/s64/photo.jpg",
      "userId": "07528785168146668478"
     },
     "user_tz": -120
    },
    "id": "RlaP5tLjirNm",
    "outputId": "89b6df22-1709-44fa-a43e-064054df7d43"
   },
   "outputs": [],
   "source": [
    "for i in range(3):\n",
    "  print('i =',i)\n",
    "  H = get_cartan_coboundary(i)\n",
    "  print(f'  H({i}) =\\n   ', H)\n",
    "  print(f'  TR(H({i})) =\\n   ', [TR(table) for table in H if TR(table)])\n",
    "  for n in range(8):\n",
    "    answer = cartan_coboundary_action(n,i)\n",
    "    if answer:\n",
    "        print(f'      n = {n} :\\n       ', answer, '\\n')\n",
    "        break"
   ]
  }
 ],
 "metadata": {
  "colab": {
   "collapsed_sections": [],
   "name": "Cartan coboundaries.ipynb",
   "provenance": [],
   "version": "0.3.2"
  },
  "kernelspec": {
   "display_name": "Python 3",
   "language": "python",
   "name": "python3"
  },
  "language_info": {
   "codemirror_mode": {
    "name": "ipython",
    "version": 3
   },
   "file_extension": ".py",
   "mimetype": "text/x-python",
   "name": "python",
   "nbconvert_exporter": "python",
   "pygments_lexer": "ipython3",
   "version": "3.7.3"
  }
 },
 "nbformat": 4,
 "nbformat_minor": 1
}
